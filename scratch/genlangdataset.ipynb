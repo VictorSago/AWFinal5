{
 "cells": [
  {
   "cell_type": "code",
   "execution_count": 1,
   "id": "bcbe93ea",
   "metadata": {},
   "outputs": [
    {
     "data": {
      "text/html": [
       "<div>\n",
       "<style scoped>\n",
       "    .dataframe tbody tr th:only-of-type {\n",
       "        vertical-align: middle;\n",
       "    }\n",
       "\n",
       "    .dataframe tbody tr th {\n",
       "        vertical-align: top;\n",
       "    }\n",
       "\n",
       "    .dataframe thead th {\n",
       "        text-align: right;\n",
       "    }\n",
       "</style>\n",
       "<table border=\"1\" class=\"dataframe\">\n",
       "  <thead>\n",
       "    <tr style=\"text-align: right;\">\n",
       "      <th></th>\n",
       "      <th>ResponseId</th>\n",
       "      <th>MainBranch</th>\n",
       "      <th>Employment</th>\n",
       "      <th>RemoteWork</th>\n",
       "      <th>CodingActivities</th>\n",
       "      <th>EdLevel</th>\n",
       "      <th>LearnCode</th>\n",
       "      <th>LearnCodeOnline</th>\n",
       "      <th>LearnCodeCoursesCert</th>\n",
       "      <th>YearsCode</th>\n",
       "      <th>...</th>\n",
       "      <th>TimeSearching</th>\n",
       "      <th>TimeAnswering</th>\n",
       "      <th>Onboarding</th>\n",
       "      <th>ProfessionalTech</th>\n",
       "      <th>TrueFalse_1</th>\n",
       "      <th>TrueFalse_2</th>\n",
       "      <th>TrueFalse_3</th>\n",
       "      <th>SurveyLength</th>\n",
       "      <th>SurveyEase</th>\n",
       "      <th>ConvertedCompYearly</th>\n",
       "    </tr>\n",
       "  </thead>\n",
       "  <tbody>\n",
       "    <tr>\n",
       "      <th>0</th>\n",
       "      <td>1</td>\n",
       "      <td>None of these</td>\n",
       "      <td>NaN</td>\n",
       "      <td>NaN</td>\n",
       "      <td>NaN</td>\n",
       "      <td>NaN</td>\n",
       "      <td>NaN</td>\n",
       "      <td>NaN</td>\n",
       "      <td>NaN</td>\n",
       "      <td>NaN</td>\n",
       "      <td>...</td>\n",
       "      <td>NaN</td>\n",
       "      <td>NaN</td>\n",
       "      <td>NaN</td>\n",
       "      <td>NaN</td>\n",
       "      <td>NaN</td>\n",
       "      <td>NaN</td>\n",
       "      <td>NaN</td>\n",
       "      <td>NaN</td>\n",
       "      <td>NaN</td>\n",
       "      <td>NaN</td>\n",
       "    </tr>\n",
       "    <tr>\n",
       "      <th>1</th>\n",
       "      <td>2</td>\n",
       "      <td>I am a developer by profession</td>\n",
       "      <td>Employed, full-time</td>\n",
       "      <td>Fully remote</td>\n",
       "      <td>Hobby;Contribute to open-source projects</td>\n",
       "      <td>NaN</td>\n",
       "      <td>NaN</td>\n",
       "      <td>NaN</td>\n",
       "      <td>NaN</td>\n",
       "      <td>NaN</td>\n",
       "      <td>...</td>\n",
       "      <td>NaN</td>\n",
       "      <td>NaN</td>\n",
       "      <td>NaN</td>\n",
       "      <td>NaN</td>\n",
       "      <td>NaN</td>\n",
       "      <td>NaN</td>\n",
       "      <td>NaN</td>\n",
       "      <td>Too long</td>\n",
       "      <td>Difficult</td>\n",
       "      <td>NaN</td>\n",
       "    </tr>\n",
       "    <tr>\n",
       "      <th>2</th>\n",
       "      <td>3</td>\n",
       "      <td>I am not primarily a developer, but I write co...</td>\n",
       "      <td>Employed, full-time</td>\n",
       "      <td>Hybrid (some remote, some in-person)</td>\n",
       "      <td>Hobby</td>\n",
       "      <td>Master’s degree (M.A., M.S., M.Eng., MBA, etc.)</td>\n",
       "      <td>Books / Physical media;Friend or family member...</td>\n",
       "      <td>Technical documentation;Blogs;Programming Game...</td>\n",
       "      <td>NaN</td>\n",
       "      <td>14</td>\n",
       "      <td>...</td>\n",
       "      <td>NaN</td>\n",
       "      <td>NaN</td>\n",
       "      <td>NaN</td>\n",
       "      <td>NaN</td>\n",
       "      <td>NaN</td>\n",
       "      <td>NaN</td>\n",
       "      <td>NaN</td>\n",
       "      <td>Appropriate in length</td>\n",
       "      <td>Neither easy nor difficult</td>\n",
       "      <td>40205</td>\n",
       "    </tr>\n",
       "    <tr>\n",
       "      <th>3</th>\n",
       "      <td>4</td>\n",
       "      <td>I am a developer by profession</td>\n",
       "      <td>Employed, full-time</td>\n",
       "      <td>Fully remote</td>\n",
       "      <td>I don’t code outside of work</td>\n",
       "      <td>Bachelor’s degree (B.A., B.S., B.Eng., etc.)</td>\n",
       "      <td>Books / Physical media;School (i.e., Universit...</td>\n",
       "      <td>NaN</td>\n",
       "      <td>NaN</td>\n",
       "      <td>20</td>\n",
       "      <td>...</td>\n",
       "      <td>NaN</td>\n",
       "      <td>NaN</td>\n",
       "      <td>NaN</td>\n",
       "      <td>NaN</td>\n",
       "      <td>NaN</td>\n",
       "      <td>NaN</td>\n",
       "      <td>NaN</td>\n",
       "      <td>Appropriate in length</td>\n",
       "      <td>Easy</td>\n",
       "      <td>215232</td>\n",
       "    </tr>\n",
       "    <tr>\n",
       "      <th>4</th>\n",
       "      <td>5</td>\n",
       "      <td>I am a developer by profession</td>\n",
       "      <td>Employed, full-time</td>\n",
       "      <td>Hybrid (some remote, some in-person)</td>\n",
       "      <td>Hobby</td>\n",
       "      <td>Bachelor’s degree (B.A., B.S., B.Eng., etc.)</td>\n",
       "      <td>Other online resources (e.g., videos, blogs, f...</td>\n",
       "      <td>Technical documentation;Blogs;Stack Overflow;O...</td>\n",
       "      <td>NaN</td>\n",
       "      <td>8</td>\n",
       "      <td>...</td>\n",
       "      <td>NaN</td>\n",
       "      <td>NaN</td>\n",
       "      <td>NaN</td>\n",
       "      <td>NaN</td>\n",
       "      <td>NaN</td>\n",
       "      <td>NaN</td>\n",
       "      <td>NaN</td>\n",
       "      <td>Too long</td>\n",
       "      <td>Easy</td>\n",
       "      <td>NaN</td>\n",
       "    </tr>\n",
       "    <tr>\n",
       "      <th>...</th>\n",
       "      <td>...</td>\n",
       "      <td>...</td>\n",
       "      <td>...</td>\n",
       "      <td>...</td>\n",
       "      <td>...</td>\n",
       "      <td>...</td>\n",
       "      <td>...</td>\n",
       "      <td>...</td>\n",
       "      <td>...</td>\n",
       "      <td>...</td>\n",
       "      <td>...</td>\n",
       "      <td>...</td>\n",
       "      <td>...</td>\n",
       "      <td>...</td>\n",
       "      <td>...</td>\n",
       "      <td>...</td>\n",
       "      <td>...</td>\n",
       "      <td>...</td>\n",
       "      <td>...</td>\n",
       "      <td>...</td>\n",
       "      <td>...</td>\n",
       "    </tr>\n",
       "    <tr>\n",
       "      <th>73263</th>\n",
       "      <td>73264</td>\n",
       "      <td>I am a developer by profession</td>\n",
       "      <td>Employed, full-time</td>\n",
       "      <td>Fully remote</td>\n",
       "      <td>Freelance/contract work</td>\n",
       "      <td>Bachelor’s degree (B.A., B.S., B.Eng., etc.)</td>\n",
       "      <td>Books / Physical media;Other online resources ...</td>\n",
       "      <td>Technical documentation;Blogs;Written Tutorial...</td>\n",
       "      <td>Udemy</td>\n",
       "      <td>8</td>\n",
       "      <td>...</td>\n",
       "      <td>30-60 minutes a day</td>\n",
       "      <td>Less than 15 minutes a day</td>\n",
       "      <td>Just right</td>\n",
       "      <td>DevOps function;Microservices;Developer portal...</td>\n",
       "      <td>Yes</td>\n",
       "      <td>Yes</td>\n",
       "      <td>Yes</td>\n",
       "      <td>Too long</td>\n",
       "      <td>Easy</td>\n",
       "      <td>NaN</td>\n",
       "    </tr>\n",
       "    <tr>\n",
       "      <th>73264</th>\n",
       "      <td>73265</td>\n",
       "      <td>I am a developer by profession</td>\n",
       "      <td>Employed, full-time</td>\n",
       "      <td>Full in-person</td>\n",
       "      <td>Hobby</td>\n",
       "      <td>Master’s degree (M.A., M.S., M.Eng., MBA, etc.)</td>\n",
       "      <td>Other online resources (e.g., videos, blogs, f...</td>\n",
       "      <td>Technical documentation;Blogs;Written Tutorial...</td>\n",
       "      <td>Coursera;Udemy;Udacity</td>\n",
       "      <td>6</td>\n",
       "      <td>...</td>\n",
       "      <td>15-30 minutes a day</td>\n",
       "      <td>60-120 minutes a day</td>\n",
       "      <td>Very long</td>\n",
       "      <td>None of these</td>\n",
       "      <td>No</td>\n",
       "      <td>Yes</td>\n",
       "      <td>Yes</td>\n",
       "      <td>Too long</td>\n",
       "      <td>Easy</td>\n",
       "      <td>NaN</td>\n",
       "    </tr>\n",
       "    <tr>\n",
       "      <th>73265</th>\n",
       "      <td>73266</td>\n",
       "      <td>I am not primarily a developer, but I write co...</td>\n",
       "      <td>Employed, full-time</td>\n",
       "      <td>Hybrid (some remote, some in-person)</td>\n",
       "      <td>Hobby;School or academic work</td>\n",
       "      <td>Bachelor’s degree (B.A., B.S., B.Eng., etc.)</td>\n",
       "      <td>Books / Physical media;Other online resources ...</td>\n",
       "      <td>Technical documentation;Programming Games;Stac...</td>\n",
       "      <td>Udemy;Codecademy;Pluralsight;edX</td>\n",
       "      <td>42</td>\n",
       "      <td>...</td>\n",
       "      <td>30-60 minutes a day</td>\n",
       "      <td>60-120 minutes a day</td>\n",
       "      <td>Just right</td>\n",
       "      <td>None of these</td>\n",
       "      <td>No</td>\n",
       "      <td>No</td>\n",
       "      <td>No</td>\n",
       "      <td>Appropriate in length</td>\n",
       "      <td>Easy</td>\n",
       "      <td>NaN</td>\n",
       "    </tr>\n",
       "    <tr>\n",
       "      <th>73266</th>\n",
       "      <td>73267</td>\n",
       "      <td>I am a developer by profession</td>\n",
       "      <td>Employed, full-time</td>\n",
       "      <td>Hybrid (some remote, some in-person)</td>\n",
       "      <td>Hobby</td>\n",
       "      <td>Bachelor’s degree (B.A., B.S., B.Eng., etc.)</td>\n",
       "      <td>Books / Physical media;On the job training</td>\n",
       "      <td>NaN</td>\n",
       "      <td>NaN</td>\n",
       "      <td>50</td>\n",
       "      <td>...</td>\n",
       "      <td>NaN</td>\n",
       "      <td>NaN</td>\n",
       "      <td>NaN</td>\n",
       "      <td>NaN</td>\n",
       "      <td>NaN</td>\n",
       "      <td>NaN</td>\n",
       "      <td>NaN</td>\n",
       "      <td>Appropriate in length</td>\n",
       "      <td>Easy</td>\n",
       "      <td>NaN</td>\n",
       "    </tr>\n",
       "    <tr>\n",
       "      <th>73267</th>\n",
       "      <td>73268</td>\n",
       "      <td>I used to be a developer by profession, but no...</td>\n",
       "      <td>Independent contractor, freelancer, or self-em...</td>\n",
       "      <td>Fully remote</td>\n",
       "      <td>Hobby;Contribute to open-source projects;Boots...</td>\n",
       "      <td>Bachelor’s degree (B.A., B.S., B.Eng., etc.)</td>\n",
       "      <td>Books / Physical media;Friend or family member...</td>\n",
       "      <td>Technical documentation;Blogs;Programming Game...</td>\n",
       "      <td>Udemy;Pluralsight</td>\n",
       "      <td>16</td>\n",
       "      <td>...</td>\n",
       "      <td>NaN</td>\n",
       "      <td>NaN</td>\n",
       "      <td>NaN</td>\n",
       "      <td>NaN</td>\n",
       "      <td>NaN</td>\n",
       "      <td>NaN</td>\n",
       "      <td>NaN</td>\n",
       "      <td>Appropriate in length</td>\n",
       "      <td>Easy</td>\n",
       "      <td>NaN</td>\n",
       "    </tr>\n",
       "  </tbody>\n",
       "</table>\n",
       "<p>73268 rows × 79 columns</p>\n",
       "</div>"
      ],
      "text/plain": [
       "      ResponseId                                         MainBranch  \\\n",
       "0              1                                      None of these   \n",
       "1              2                     I am a developer by profession   \n",
       "2              3  I am not primarily a developer, but I write co...   \n",
       "3              4                     I am a developer by profession   \n",
       "4              5                     I am a developer by profession   \n",
       "...          ...                                                ...   \n",
       "73263      73264                     I am a developer by profession   \n",
       "73264      73265                     I am a developer by profession   \n",
       "73265      73266  I am not primarily a developer, but I write co...   \n",
       "73266      73267                     I am a developer by profession   \n",
       "73267      73268  I used to be a developer by profession, but no...   \n",
       "\n",
       "                                              Employment  \\\n",
       "0                                                    NaN   \n",
       "1                                    Employed, full-time   \n",
       "2                                    Employed, full-time   \n",
       "3                                    Employed, full-time   \n",
       "4                                    Employed, full-time   \n",
       "...                                                  ...   \n",
       "73263                                Employed, full-time   \n",
       "73264                                Employed, full-time   \n",
       "73265                                Employed, full-time   \n",
       "73266                                Employed, full-time   \n",
       "73267  Independent contractor, freelancer, or self-em...   \n",
       "\n",
       "                                 RemoteWork  \\\n",
       "0                                       NaN   \n",
       "1                              Fully remote   \n",
       "2      Hybrid (some remote, some in-person)   \n",
       "3                              Fully remote   \n",
       "4      Hybrid (some remote, some in-person)   \n",
       "...                                     ...   \n",
       "73263                          Fully remote   \n",
       "73264                        Full in-person   \n",
       "73265  Hybrid (some remote, some in-person)   \n",
       "73266  Hybrid (some remote, some in-person)   \n",
       "73267                          Fully remote   \n",
       "\n",
       "                                        CodingActivities  \\\n",
       "0                                                    NaN   \n",
       "1               Hobby;Contribute to open-source projects   \n",
       "2                                                  Hobby   \n",
       "3                           I don’t code outside of work   \n",
       "4                                                  Hobby   \n",
       "...                                                  ...   \n",
       "73263                            Freelance/contract work   \n",
       "73264                                              Hobby   \n",
       "73265                      Hobby;School or academic work   \n",
       "73266                                              Hobby   \n",
       "73267  Hobby;Contribute to open-source projects;Boots...   \n",
       "\n",
       "                                               EdLevel  \\\n",
       "0                                                  NaN   \n",
       "1                                                  NaN   \n",
       "2      Master’s degree (M.A., M.S., M.Eng., MBA, etc.)   \n",
       "3         Bachelor’s degree (B.A., B.S., B.Eng., etc.)   \n",
       "4         Bachelor’s degree (B.A., B.S., B.Eng., etc.)   \n",
       "...                                                ...   \n",
       "73263     Bachelor’s degree (B.A., B.S., B.Eng., etc.)   \n",
       "73264  Master’s degree (M.A., M.S., M.Eng., MBA, etc.)   \n",
       "73265     Bachelor’s degree (B.A., B.S., B.Eng., etc.)   \n",
       "73266     Bachelor’s degree (B.A., B.S., B.Eng., etc.)   \n",
       "73267     Bachelor’s degree (B.A., B.S., B.Eng., etc.)   \n",
       "\n",
       "                                               LearnCode  \\\n",
       "0                                                    NaN   \n",
       "1                                                    NaN   \n",
       "2      Books / Physical media;Friend or family member...   \n",
       "3      Books / Physical media;School (i.e., Universit...   \n",
       "4      Other online resources (e.g., videos, blogs, f...   \n",
       "...                                                  ...   \n",
       "73263  Books / Physical media;Other online resources ...   \n",
       "73264  Other online resources (e.g., videos, blogs, f...   \n",
       "73265  Books / Physical media;Other online resources ...   \n",
       "73266         Books / Physical media;On the job training   \n",
       "73267  Books / Physical media;Friend or family member...   \n",
       "\n",
       "                                         LearnCodeOnline  \\\n",
       "0                                                    NaN   \n",
       "1                                                    NaN   \n",
       "2      Technical documentation;Blogs;Programming Game...   \n",
       "3                                                    NaN   \n",
       "4      Technical documentation;Blogs;Stack Overflow;O...   \n",
       "...                                                  ...   \n",
       "73263  Technical documentation;Blogs;Written Tutorial...   \n",
       "73264  Technical documentation;Blogs;Written Tutorial...   \n",
       "73265  Technical documentation;Programming Games;Stac...   \n",
       "73266                                                NaN   \n",
       "73267  Technical documentation;Blogs;Programming Game...   \n",
       "\n",
       "                   LearnCodeCoursesCert YearsCode  ...        TimeSearching  \\\n",
       "0                                   NaN       NaN  ...                  NaN   \n",
       "1                                   NaN       NaN  ...                  NaN   \n",
       "2                                   NaN        14  ...                  NaN   \n",
       "3                                   NaN        20  ...                  NaN   \n",
       "4                                   NaN         8  ...                  NaN   \n",
       "...                                 ...       ...  ...                  ...   \n",
       "73263                             Udemy         8  ...  30-60 minutes a day   \n",
       "73264            Coursera;Udemy;Udacity         6  ...  15-30 minutes a day   \n",
       "73265  Udemy;Codecademy;Pluralsight;edX        42  ...  30-60 minutes a day   \n",
       "73266                               NaN        50  ...                  NaN   \n",
       "73267                 Udemy;Pluralsight        16  ...                  NaN   \n",
       "\n",
       "                    TimeAnswering  Onboarding  \\\n",
       "0                             NaN         NaN   \n",
       "1                             NaN         NaN   \n",
       "2                             NaN         NaN   \n",
       "3                             NaN         NaN   \n",
       "4                             NaN         NaN   \n",
       "...                           ...         ...   \n",
       "73263  Less than 15 minutes a day  Just right   \n",
       "73264        60-120 minutes a day   Very long   \n",
       "73265        60-120 minutes a day  Just right   \n",
       "73266                         NaN         NaN   \n",
       "73267                         NaN         NaN   \n",
       "\n",
       "                                        ProfessionalTech TrueFalse_1  \\\n",
       "0                                                    NaN         NaN   \n",
       "1                                                    NaN         NaN   \n",
       "2                                                    NaN         NaN   \n",
       "3                                                    NaN         NaN   \n",
       "4                                                    NaN         NaN   \n",
       "...                                                  ...         ...   \n",
       "73263  DevOps function;Microservices;Developer portal...         Yes   \n",
       "73264                                      None of these          No   \n",
       "73265                                      None of these          No   \n",
       "73266                                                NaN         NaN   \n",
       "73267                                                NaN         NaN   \n",
       "\n",
       "      TrueFalse_2 TrueFalse_3           SurveyLength  \\\n",
       "0             NaN         NaN                    NaN   \n",
       "1             NaN         NaN               Too long   \n",
       "2             NaN         NaN  Appropriate in length   \n",
       "3             NaN         NaN  Appropriate in length   \n",
       "4             NaN         NaN               Too long   \n",
       "...           ...         ...                    ...   \n",
       "73263         Yes         Yes               Too long   \n",
       "73264         Yes         Yes               Too long   \n",
       "73265          No          No  Appropriate in length   \n",
       "73266         NaN         NaN  Appropriate in length   \n",
       "73267         NaN         NaN  Appropriate in length   \n",
       "\n",
       "                       SurveyEase ConvertedCompYearly  \n",
       "0                             NaN                 NaN  \n",
       "1                       Difficult                 NaN  \n",
       "2      Neither easy nor difficult               40205  \n",
       "3                            Easy              215232  \n",
       "4                            Easy                 NaN  \n",
       "...                           ...                 ...  \n",
       "73263                        Easy                 NaN  \n",
       "73264                        Easy                 NaN  \n",
       "73265                        Easy                 NaN  \n",
       "73266                        Easy                 NaN  \n",
       "73267                        Easy                 NaN  \n",
       "\n",
       "[73268 rows x 79 columns]"
      ]
     },
     "execution_count": 1,
     "metadata": {},
     "output_type": "execute_result"
    }
   ],
   "source": [
    "import pandas as pd\n",
    "from collections import Counter\n",
    "\n",
    "year = 2022\n",
    "\n",
    "df = pd.read_csv(f\"../rawdata/{year}/survey_results_public.csv\", dtype=str)\n",
    "\n",
    "df"
   ]
  },
  {
   "cell_type": "code",
   "execution_count": 4,
   "id": "33e89ed9",
   "metadata": {},
   "outputs": [
    {
     "data": {
      "text/plain": [
       "{'Other': {'total': 5262,\n",
       "  'language_counter': Counter({'nan': 1619,\n",
       "           'JavaScript': 2305,\n",
       "           'TypeScript': 1141,\n",
       "           'C#': 974,\n",
       "           'HTML/CSS': 2001,\n",
       "           'SQL': 1635,\n",
       "           'Swift': 190,\n",
       "           'C++': 976,\n",
       "           'Lua': 277,\n",
       "           'Go': 492,\n",
       "           'Python': 2007,\n",
       "           'C': 953,\n",
       "           'Dart': 213,\n",
       "           'Java': 1258,\n",
       "           'Kotlin': 362,\n",
       "           'PHP': 753,\n",
       "           'Bash/Shell': 1331,\n",
       "           'Erlang': 71,\n",
       "           'Rust': 553,\n",
       "           'PowerShell': 457,\n",
       "           'Perl': 151,\n",
       "           'Assembly': 341,\n",
       "           'OCaml': 58,\n",
       "           'F#': 55,\n",
       "           'Haskell': 171,\n",
       "           'LISP': 116,\n",
       "           'Ruby': 279,\n",
       "           'Groovy': 144,\n",
       "           'Clojure': 83,\n",
       "           'R': 207,\n",
       "           'VBA': 196,\n",
       "           'Fortran': 66,\n",
       "           'Elixir': 112,\n",
       "           'MATLAB': 181,\n",
       "           'Julia': 115,\n",
       "           'Scala': 125,\n",
       "           'APL': 85,\n",
       "           'Objective-C': 105,\n",
       "           'Solidity': 70,\n",
       "           'Crystal': 47,\n",
       "           'COBOL': 52,\n",
       "           'SAS': 42,\n",
       "           'Delphi': 106})},\n",
       " 'Man': {'total': 64607,\n",
       "  'language_counter': Counter({'C#': 18195,\n",
       "           'C++': 14493,\n",
       "           'HTML/CSS': 35167,\n",
       "           'JavaScript': 41958,\n",
       "           'Python': 30687,\n",
       "           'SQL': 31881,\n",
       "           'TypeScript': 22615,\n",
       "           'PHP': 13418,\n",
       "           'C': 12276,\n",
       "           'Java': 21340,\n",
       "           'Bash/Shell': 18581,\n",
       "           'PowerShell': 7811,\n",
       "           'Rust': 5913,\n",
       "           'Swift': 3127,\n",
       "           'R': 2877,\n",
       "           'Ruby': 3786,\n",
       "           'Scala': 1636,\n",
       "           'VBA': 2876,\n",
       "           'Dart': 4279,\n",
       "           'Go': 7219,\n",
       "           'Kotlin': 5912,\n",
       "           'Groovy': 2121,\n",
       "           'MATLAB': 2566,\n",
       "           'Perl': 1431,\n",
       "           'nan': 600,\n",
       "           'Haskell': 1341,\n",
       "           'Julia': 935,\n",
       "           'LISP': 789,\n",
       "           'Delphi': 2168,\n",
       "           'F#': 659,\n",
       "           'Clojure': 948,\n",
       "           'APL': 366,\n",
       "           'Crystal': 276,\n",
       "           'Assembly': 3406,\n",
       "           'Erlang': 547,\n",
       "           'Fortran': 554,\n",
       "           'Objective-C': 1531,\n",
       "           'Lua': 2488,\n",
       "           'Elixir': 1364,\n",
       "           'SAS': 352,\n",
       "           'OCaml': 350,\n",
       "           'Solidity': 932,\n",
       "           'COBOL': 392})},\n",
       " 'Woman': {'total': 3399,\n",
       "  'language_counter': Counter({'nan': 74,\n",
       "           'Delphi': 37,\n",
       "           'Java': 1046,\n",
       "           'Swift': 172,\n",
       "           'Elixir': 52,\n",
       "           'Erlang': 23,\n",
       "           'HTML/CSS': 1974,\n",
       "           'JavaScript': 2180,\n",
       "           'Ruby': 234,\n",
       "           'SQL': 1611,\n",
       "           'TypeScript': 996,\n",
       "           'Python': 1461,\n",
       "           'Bash/Shell': 744,\n",
       "           'C': 463,\n",
       "           'C++': 555,\n",
       "           'Lua': 102,\n",
       "           'PHP': 656,\n",
       "           'C#': 714,\n",
       "           'Assembly': 140,\n",
       "           'Kotlin': 233,\n",
       "           'Go': 211,\n",
       "           'Scala': 76,\n",
       "           'PowerShell': 307,\n",
       "           'VBA': 113,\n",
       "           'APL': 53,\n",
       "           'LISP': 27,\n",
       "           'Rust': 159,\n",
       "           'Haskell': 65,\n",
       "           'Dart': 156,\n",
       "           'Perl': 62,\n",
       "           'R': 224,\n",
       "           'Groovy': 92,\n",
       "           'F#': 16,\n",
       "           'MATLAB': 166,\n",
       "           'Crystal': 17,\n",
       "           'Objective-C': 62,\n",
       "           'Clojure': 39,\n",
       "           'Julia': 34,\n",
       "           'SAS': 41,\n",
       "           'COBOL': 20,\n",
       "           'Fortran': 26,\n",
       "           'OCaml': 14,\n",
       "           'Solidity': 29})}}"
      ]
     },
     "execution_count": 4,
     "metadata": {},
     "output_type": "execute_result"
    }
   ],
   "source": [
    "gender_langs = {}\n",
    "\n",
    "for row in df.itertuples():\n",
    "    gen = str(row.Gender)\n",
    "    if gen in [\"Man\", \"Woman\"]:\n",
    "        gender = gen\n",
    "    else:\n",
    "        gender = \"Other\"\n",
    "    gender_langs.setdefault(gender, \n",
    "                            {'total': 0, \n",
    "                             'language_counter': Counter()}\n",
    "                           )\n",
    "    languages = str(row.LanguageHaveWorkedWith).split(\";\")\n",
    "    gender_langs[gender]['language_counter'].update(languages)\n",
    "    gender_langs[gender]['total'] += 1\n",
    "\n",
    "gender_langs\n",
    "    "
   ]
  },
  {
   "cell_type": "code",
   "execution_count": 18,
   "id": "985b381f",
   "metadata": {},
   "outputs": [
    {
     "data": {
      "text/plain": [
       "{'Bash/Shell',\n",
       " 'C#',\n",
       " 'HTML/CSS',\n",
       " 'Java',\n",
       " 'JavaScript',\n",
       " 'Python',\n",
       " 'SQL',\n",
       " 'TypeScript'}"
      ]
     },
     "execution_count": 18,
     "metadata": {},
     "output_type": "execute_result"
    }
   ],
   "source": [
    "{l[0] for l in gender_langs[\"Man\"][\"language_counter\"].most_common(8)}"
   ]
  },
  {
   "cell_type": "code",
   "execution_count": 17,
   "id": "131987f1",
   "metadata": {},
   "outputs": [
    {
     "data": {
      "text/plain": [
       "['JavaScript',\n",
       " 'HTML/CSS',\n",
       " 'SQL',\n",
       " 'Python',\n",
       " 'Java',\n",
       " 'TypeScript',\n",
       " 'Bash/Shell',\n",
       " 'C#']"
      ]
     },
     "execution_count": 17,
     "metadata": {},
     "output_type": "execute_result"
    }
   ],
   "source": [
    "[l[0] for l in gender_langs[\"Woman\"][\"language_counter\"].most_common(8)]"
   ]
  },
  {
   "cell_type": "code",
   "execution_count": 12,
   "id": "6218d57f",
   "metadata": {},
   "outputs": [
    {
     "data": {
      "text/plain": [
       "[('JavaScript', 2305),\n",
       " ('Python', 2007),\n",
       " ('HTML/CSS', 2001),\n",
       " ('SQL', 1635),\n",
       " ('nan', 1619),\n",
       " ('Bash/Shell', 1331)]"
      ]
     },
     "execution_count": 12,
     "metadata": {},
     "output_type": "execute_result"
    }
   ],
   "source": [
    "gender_langs[\"Other\"][\"language_counter\"].most_common(6)"
   ]
  },
  {
   "cell_type": "code",
   "execution_count": 19,
   "id": "6b995e21",
   "metadata": {},
   "outputs": [
    {
     "data": {
      "text/plain": [
       "dict_keys(['Other', 'Man', 'Woman'])"
      ]
     },
     "execution_count": 19,
     "metadata": {},
     "output_type": "execute_result"
    }
   ],
   "source": [
    "gender_langs.keys()"
   ]
  },
  {
   "cell_type": "code",
   "execution_count": 24,
   "id": "2159fa6f",
   "metadata": {},
   "outputs": [
    {
     "data": {
      "text/plain": [
       "{'Bash/Shell',\n",
       " 'C#',\n",
       " 'C++',\n",
       " 'HTML/CSS',\n",
       " 'Java',\n",
       " 'JavaScript',\n",
       " 'PHP',\n",
       " 'Python',\n",
       " 'SQL',\n",
       " 'TypeScript'}"
      ]
     },
     "execution_count": 24,
     "metadata": {},
     "output_type": "execute_result"
    }
   ],
   "source": [
    "pop_langs = set()\n",
    "\n",
    "for gen in gender_langs.keys():\n",
    "    pop_langs.update({l[0] for l in gender_langs[gen][\"language_counter\"].most_common(10) if l[0] != 'nan'})\n",
    "\n",
    "pop_langs"
   ]
  },
  {
   "cell_type": "code",
   "execution_count": 25,
   "id": "15a56038",
   "metadata": {},
   "outputs": [
    {
     "data": {
      "text/html": [
       "<div>\n",
       "<style scoped>\n",
       "    .dataframe tbody tr th:only-of-type {\n",
       "        vertical-align: middle;\n",
       "    }\n",
       "\n",
       "    .dataframe tbody tr th {\n",
       "        vertical-align: top;\n",
       "    }\n",
       "\n",
       "    .dataframe thead th {\n",
       "        text-align: right;\n",
       "    }\n",
       "</style>\n",
       "<table border=\"1\" class=\"dataframe\">\n",
       "  <thead>\n",
       "    <tr style=\"text-align: right;\">\n",
       "      <th></th>\n",
       "      <th>Total</th>\n",
       "      <th>nan</th>\n",
       "      <th>JavaScript</th>\n",
       "      <th>TypeScript</th>\n",
       "      <th>C#</th>\n",
       "      <th>HTML/CSS</th>\n",
       "      <th>SQL</th>\n",
       "      <th>Swift</th>\n",
       "      <th>C++</th>\n",
       "      <th>Lua</th>\n",
       "      <th>...</th>\n",
       "      <th>MATLAB</th>\n",
       "      <th>Julia</th>\n",
       "      <th>Scala</th>\n",
       "      <th>APL</th>\n",
       "      <th>Objective-C</th>\n",
       "      <th>Solidity</th>\n",
       "      <th>Crystal</th>\n",
       "      <th>COBOL</th>\n",
       "      <th>SAS</th>\n",
       "      <th>Delphi</th>\n",
       "    </tr>\n",
       "    <tr>\n",
       "      <th>Gender</th>\n",
       "      <th></th>\n",
       "      <th></th>\n",
       "      <th></th>\n",
       "      <th></th>\n",
       "      <th></th>\n",
       "      <th></th>\n",
       "      <th></th>\n",
       "      <th></th>\n",
       "      <th></th>\n",
       "      <th></th>\n",
       "      <th></th>\n",
       "      <th></th>\n",
       "      <th></th>\n",
       "      <th></th>\n",
       "      <th></th>\n",
       "      <th></th>\n",
       "      <th></th>\n",
       "      <th></th>\n",
       "      <th></th>\n",
       "      <th></th>\n",
       "      <th></th>\n",
       "    </tr>\n",
       "  </thead>\n",
       "  <tbody>\n",
       "    <tr>\n",
       "      <th>Other</th>\n",
       "      <td>5262</td>\n",
       "      <td>1619</td>\n",
       "      <td>2305</td>\n",
       "      <td>1141</td>\n",
       "      <td>974</td>\n",
       "      <td>2001</td>\n",
       "      <td>1635</td>\n",
       "      <td>190</td>\n",
       "      <td>976</td>\n",
       "      <td>277</td>\n",
       "      <td>...</td>\n",
       "      <td>181</td>\n",
       "      <td>115</td>\n",
       "      <td>125</td>\n",
       "      <td>85</td>\n",
       "      <td>105</td>\n",
       "      <td>70</td>\n",
       "      <td>47</td>\n",
       "      <td>52</td>\n",
       "      <td>42</td>\n",
       "      <td>106</td>\n",
       "    </tr>\n",
       "    <tr>\n",
       "      <th>Man</th>\n",
       "      <td>64607</td>\n",
       "      <td>600</td>\n",
       "      <td>41958</td>\n",
       "      <td>22615</td>\n",
       "      <td>18195</td>\n",
       "      <td>35167</td>\n",
       "      <td>31881</td>\n",
       "      <td>3127</td>\n",
       "      <td>14493</td>\n",
       "      <td>2488</td>\n",
       "      <td>...</td>\n",
       "      <td>2566</td>\n",
       "      <td>935</td>\n",
       "      <td>1636</td>\n",
       "      <td>366</td>\n",
       "      <td>1531</td>\n",
       "      <td>932</td>\n",
       "      <td>276</td>\n",
       "      <td>392</td>\n",
       "      <td>352</td>\n",
       "      <td>2168</td>\n",
       "    </tr>\n",
       "    <tr>\n",
       "      <th>Woman</th>\n",
       "      <td>3399</td>\n",
       "      <td>74</td>\n",
       "      <td>2180</td>\n",
       "      <td>996</td>\n",
       "      <td>714</td>\n",
       "      <td>1974</td>\n",
       "      <td>1611</td>\n",
       "      <td>172</td>\n",
       "      <td>555</td>\n",
       "      <td>102</td>\n",
       "      <td>...</td>\n",
       "      <td>166</td>\n",
       "      <td>34</td>\n",
       "      <td>76</td>\n",
       "      <td>53</td>\n",
       "      <td>62</td>\n",
       "      <td>29</td>\n",
       "      <td>17</td>\n",
       "      <td>20</td>\n",
       "      <td>41</td>\n",
       "      <td>37</td>\n",
       "    </tr>\n",
       "  </tbody>\n",
       "</table>\n",
       "<p>3 rows × 44 columns</p>\n",
       "</div>"
      ],
      "text/plain": [
       "        Total   nan  JavaScript  TypeScript     C#  HTML/CSS    SQL  Swift  \\\n",
       "Gender                                                                       \n",
       "Other    5262  1619        2305        1141    974      2001   1635    190   \n",
       "Man     64607   600       41958       22615  18195     35167  31881   3127   \n",
       "Woman    3399    74        2180         996    714      1974   1611    172   \n",
       "\n",
       "          C++   Lua  ...  MATLAB  Julia  Scala  APL  Objective-C  Solidity  \\\n",
       "Gender               ...                                                     \n",
       "Other     976   277  ...     181    115    125   85          105        70   \n",
       "Man     14493  2488  ...    2566    935   1636  366         1531       932   \n",
       "Woman     555   102  ...     166     34     76   53           62        29   \n",
       "\n",
       "        Crystal  COBOL  SAS  Delphi  \n",
       "Gender                               \n",
       "Other        47     52   42     106  \n",
       "Man         276    392  352    2168  \n",
       "Woman        17     20   41      37  \n",
       "\n",
       "[3 rows x 44 columns]"
      ]
     },
     "execution_count": 25,
     "metadata": {},
     "output_type": "execute_result"
    }
   ],
   "source": [
    "langs_by_gender = []\n",
    "row_names = []\n",
    "\n",
    "for gen, info in gender_langs.items():\n",
    "    tot = info['total']\n",
    "    langs_used = {'Gender': gen, 'Total': tot}\n",
    "    row_names.append(gen)\n",
    "    all_used = gender_langs[gen]['language_counter']\n",
    "    for lang in all_used:\n",
    "        langs_used[lang] = int(all_used[lang])\n",
    "        \n",
    "    langs_by_gender.append(langs_used)\n",
    "\n",
    "df_new = pd.DataFrame(langs_by_gender)\n",
    "\n",
    "# Replace all N/A with 0s\n",
    "df_new.fillna(0, inplace=True)\n",
    "\n",
    "# Make index from the first column\n",
    "df_new.set_index('Gender', inplace=True)\n",
    "\n",
    "df_new"
   ]
  },
  {
   "cell_type": "code",
   "execution_count": 27,
   "id": "3111a294",
   "metadata": {},
   "outputs": [
    {
     "data": {
      "text/html": [
       "<div>\n",
       "<style scoped>\n",
       "    .dataframe tbody tr th:only-of-type {\n",
       "        vertical-align: middle;\n",
       "    }\n",
       "\n",
       "    .dataframe tbody tr th {\n",
       "        vertical-align: top;\n",
       "    }\n",
       "\n",
       "    .dataframe thead th {\n",
       "        text-align: right;\n",
       "    }\n",
       "</style>\n",
       "<table border=\"1\" class=\"dataframe\">\n",
       "  <thead>\n",
       "    <tr style=\"text-align: right;\">\n",
       "      <th></th>\n",
       "      <th>Total</th>\n",
       "      <th>Other_langs</th>\n",
       "      <th>JavaScript</th>\n",
       "      <th>TypeScript</th>\n",
       "      <th>C#</th>\n",
       "      <th>HTML/CSS</th>\n",
       "      <th>SQL</th>\n",
       "      <th>C++</th>\n",
       "      <th>Python</th>\n",
       "      <th>Java</th>\n",
       "      <th>PHP</th>\n",
       "      <th>Bash/Shell</th>\n",
       "    </tr>\n",
       "    <tr>\n",
       "      <th>Gender</th>\n",
       "      <th></th>\n",
       "      <th></th>\n",
       "      <th></th>\n",
       "      <th></th>\n",
       "      <th></th>\n",
       "      <th></th>\n",
       "      <th></th>\n",
       "      <th></th>\n",
       "      <th></th>\n",
       "      <th></th>\n",
       "      <th></th>\n",
       "      <th></th>\n",
       "    </tr>\n",
       "  </thead>\n",
       "  <tbody>\n",
       "    <tr>\n",
       "      <th>Other</th>\n",
       "      <td>5262</td>\n",
       "      <td>8094</td>\n",
       "      <td>2305</td>\n",
       "      <td>1141</td>\n",
       "      <td>974</td>\n",
       "      <td>2001</td>\n",
       "      <td>1635</td>\n",
       "      <td>976</td>\n",
       "      <td>2007</td>\n",
       "      <td>1258</td>\n",
       "      <td>753</td>\n",
       "      <td>1331</td>\n",
       "    </tr>\n",
       "    <tr>\n",
       "      <th>Man</th>\n",
       "      <td>64607</td>\n",
       "      <td>83828</td>\n",
       "      <td>41958</td>\n",
       "      <td>22615</td>\n",
       "      <td>18195</td>\n",
       "      <td>35167</td>\n",
       "      <td>31881</td>\n",
       "      <td>14493</td>\n",
       "      <td>30687</td>\n",
       "      <td>21340</td>\n",
       "      <td>13418</td>\n",
       "      <td>18581</td>\n",
       "    </tr>\n",
       "    <tr>\n",
       "      <th>Woman</th>\n",
       "      <td>3399</td>\n",
       "      <td>3539</td>\n",
       "      <td>2180</td>\n",
       "      <td>996</td>\n",
       "      <td>714</td>\n",
       "      <td>1974</td>\n",
       "      <td>1611</td>\n",
       "      <td>555</td>\n",
       "      <td>1461</td>\n",
       "      <td>1046</td>\n",
       "      <td>656</td>\n",
       "      <td>744</td>\n",
       "    </tr>\n",
       "  </tbody>\n",
       "</table>\n",
       "</div>"
      ],
      "text/plain": [
       "        Total  Other_langs  JavaScript  TypeScript     C#  HTML/CSS    SQL  \\\n",
       "Gender                                                                       \n",
       "Other    5262         8094        2305        1141    974      2001   1635   \n",
       "Man     64607        83828       41958       22615  18195     35167  31881   \n",
       "Woman    3399         3539        2180         996    714      1974   1611   \n",
       "\n",
       "          C++  Python   Java    PHP  Bash/Shell  \n",
       "Gender                                           \n",
       "Other     976    2007   1258    753        1331  \n",
       "Man     14493   30687  21340  13418       18581  \n",
       "Woman     555    1461   1046    656         744  "
      ]
     },
     "execution_count": 27,
     "metadata": {},
     "output_type": "execute_result"
    }
   ],
   "source": [
    "langs_by_gender = []\n",
    "row_names = []\n",
    "\n",
    "for gen, info in gender_langs.items():\n",
    "    tot = info['total']\n",
    "    langs_used = {'Gender': gen, 'Total': tot}\n",
    "    row_names.append(gen)\n",
    "    all_used = gender_langs[gen]['language_counter']\n",
    "    for lang in all_used:\n",
    "        if lang in pop_langs:\n",
    "            langs_used[lang] = int(all_used[lang])\n",
    "        else:\n",
    "            langs_used[\"Other_langs\"] = langs_used.get(\"Other_langs\", 0) + int(all_used[lang])\n",
    "        \n",
    "    langs_by_gender.append(langs_used)\n",
    "\n",
    "df_new = pd.DataFrame(langs_by_gender)\n",
    "\n",
    "# Replace all N/A with 0s\n",
    "#df_new.fillna(0, inplace=True)\n",
    "\n",
    "# Make index from the first column\n",
    "df_new.set_index('Gender', inplace=True)\n",
    "\n",
    "df_new"
   ]
  },
  {
   "cell_type": "code",
   "execution_count": 28,
   "id": "83632ff3",
   "metadata": {},
   "outputs": [
    {
     "name": "stdout",
     "output_type": "stream",
     "text": [
      "{'TypeScript', 'SQL', 'JavaScript', 'C', 'C#', 'Python', 'Bash/Shell', 'PowerShell', 'PHP', 'C++', 'Java', 'HTML/CSS'}\n"
     ]
    }
   ],
   "source": [
    "pop_langs = set()\n",
    "\n",
    "for gen in gender_langs.keys():\n",
    "    pop_langs.update({l[0] for l in gender_langs[gen][\"language_counter\"].most_common(12) if l[0] != 'nan'})\n",
    "\n",
    "print(pop_langs)\n"
   ]
  },
  {
   "cell_type": "code",
   "execution_count": 29,
   "id": "cf19269c",
   "metadata": {},
   "outputs": [
    {
     "data": {
      "text/html": [
       "<div>\n",
       "<style scoped>\n",
       "    .dataframe tbody tr th:only-of-type {\n",
       "        vertical-align: middle;\n",
       "    }\n",
       "\n",
       "    .dataframe tbody tr th {\n",
       "        vertical-align: top;\n",
       "    }\n",
       "\n",
       "    .dataframe thead th {\n",
       "        text-align: right;\n",
       "    }\n",
       "</style>\n",
       "<table border=\"1\" class=\"dataframe\">\n",
       "  <thead>\n",
       "    <tr style=\"text-align: right;\">\n",
       "      <th></th>\n",
       "      <th>Total</th>\n",
       "      <th>Other_langs</th>\n",
       "      <th>JavaScript</th>\n",
       "      <th>TypeScript</th>\n",
       "      <th>C#</th>\n",
       "      <th>HTML/CSS</th>\n",
       "      <th>SQL</th>\n",
       "      <th>C++</th>\n",
       "      <th>Python</th>\n",
       "      <th>C</th>\n",
       "      <th>Java</th>\n",
       "      <th>PHP</th>\n",
       "      <th>Bash/Shell</th>\n",
       "      <th>PowerShell</th>\n",
       "    </tr>\n",
       "    <tr>\n",
       "      <th>Gender</th>\n",
       "      <th></th>\n",
       "      <th></th>\n",
       "      <th></th>\n",
       "      <th></th>\n",
       "      <th></th>\n",
       "      <th></th>\n",
       "      <th></th>\n",
       "      <th></th>\n",
       "      <th></th>\n",
       "      <th></th>\n",
       "      <th></th>\n",
       "      <th></th>\n",
       "      <th></th>\n",
       "      <th></th>\n",
       "    </tr>\n",
       "  </thead>\n",
       "  <tbody>\n",
       "    <tr>\n",
       "      <th>Other</th>\n",
       "      <td>5262</td>\n",
       "      <td>6684</td>\n",
       "      <td>2305</td>\n",
       "      <td>1141</td>\n",
       "      <td>974</td>\n",
       "      <td>2001</td>\n",
       "      <td>1635</td>\n",
       "      <td>976</td>\n",
       "      <td>2007</td>\n",
       "      <td>953</td>\n",
       "      <td>1258</td>\n",
       "      <td>753</td>\n",
       "      <td>1331</td>\n",
       "      <td>457</td>\n",
       "    </tr>\n",
       "    <tr>\n",
       "      <th>Man</th>\n",
       "      <td>64607</td>\n",
       "      <td>63741</td>\n",
       "      <td>41958</td>\n",
       "      <td>22615</td>\n",
       "      <td>18195</td>\n",
       "      <td>35167</td>\n",
       "      <td>31881</td>\n",
       "      <td>14493</td>\n",
       "      <td>30687</td>\n",
       "      <td>12276</td>\n",
       "      <td>21340</td>\n",
       "      <td>13418</td>\n",
       "      <td>18581</td>\n",
       "      <td>7811</td>\n",
       "    </tr>\n",
       "    <tr>\n",
       "      <th>Woman</th>\n",
       "      <td>3399</td>\n",
       "      <td>2769</td>\n",
       "      <td>2180</td>\n",
       "      <td>996</td>\n",
       "      <td>714</td>\n",
       "      <td>1974</td>\n",
       "      <td>1611</td>\n",
       "      <td>555</td>\n",
       "      <td>1461</td>\n",
       "      <td>463</td>\n",
       "      <td>1046</td>\n",
       "      <td>656</td>\n",
       "      <td>744</td>\n",
       "      <td>307</td>\n",
       "    </tr>\n",
       "  </tbody>\n",
       "</table>\n",
       "</div>"
      ],
      "text/plain": [
       "        Total  Other_langs  JavaScript  TypeScript     C#  HTML/CSS    SQL  \\\n",
       "Gender                                                                       \n",
       "Other    5262         6684        2305        1141    974      2001   1635   \n",
       "Man     64607        63741       41958       22615  18195     35167  31881   \n",
       "Woman    3399         2769        2180         996    714      1974   1611   \n",
       "\n",
       "          C++  Python      C   Java    PHP  Bash/Shell  PowerShell  \n",
       "Gender                                                              \n",
       "Other     976    2007    953   1258    753        1331         457  \n",
       "Man     14493   30687  12276  21340  13418       18581        7811  \n",
       "Woman     555    1461    463   1046    656         744         307  "
      ]
     },
     "execution_count": 29,
     "metadata": {},
     "output_type": "execute_result"
    }
   ],
   "source": [
    "langs_by_gender = []\n",
    "row_names = []\n",
    "\n",
    "for gen, info in gender_langs.items():\n",
    "    tot = info['total']\n",
    "    langs_used = {'Gender': gen, 'Total': tot}\n",
    "    row_names.append(gen)\n",
    "    all_used = gender_langs[gen]['language_counter']\n",
    "    for lang in all_used:\n",
    "        if lang in pop_langs:\n",
    "            langs_used[lang] = int(all_used[lang])\n",
    "        else:\n",
    "            langs_used[\"Other_langs\"] = langs_used.setdefault(\"Other_langs\", 0) + int(all_used[lang])\n",
    "        \n",
    "    langs_by_gender.append(langs_used)\n",
    "\n",
    "df_new = pd.DataFrame(langs_by_gender)\n",
    "\n",
    "# Replace all N/A with 0s\n",
    "#df_new.fillna(0, inplace=True)\n",
    "\n",
    "# Make index from the first column\n",
    "df_new.set_index('Gender', inplace=True)\n",
    "\n",
    "df_new"
   ]
  },
  {
   "cell_type": "code",
   "execution_count": 36,
   "id": "deba3217",
   "metadata": {},
   "outputs": [
    {
     "data": {
      "text/plain": [
       "Total          64607\n",
       "Other_langs    63741\n",
       "JavaScript     41958\n",
       "TypeScript     22615\n",
       "C#             18195\n",
       "HTML/CSS       35167\n",
       "SQL            31881\n",
       "C++            14493\n",
       "Python         30687\n",
       "C              12276\n",
       "Java           21340\n",
       "PHP            13418\n",
       "Bash/Shell     18581\n",
       "PowerShell      7811\n",
       "Name: Man, dtype: int64"
      ]
     },
     "execution_count": 36,
     "metadata": {},
     "output_type": "execute_result"
    }
   ],
   "source": [
    "df_new.loc[\"Man\"]"
   ]
  },
  {
   "cell_type": "code",
   "execution_count": 40,
   "id": "18b5ab4c",
   "metadata": {},
   "outputs": [
    {
     "data": {
      "text/plain": [
       "Other_langs    63741\n",
       "JavaScript     41958\n",
       "TypeScript     22615\n",
       "C#             18195\n",
       "HTML/CSS       35167\n",
       "SQL            31881\n",
       "C++            14493\n",
       "Python         30687\n",
       "C              12276\n",
       "Java           21340\n",
       "PHP            13418\n",
       "Bash/Shell     18581\n",
       "PowerShell      7811\n",
       "Name: Man, dtype: int64"
      ]
     },
     "execution_count": 40,
     "metadata": {},
     "output_type": "execute_result"
    }
   ],
   "source": [
    "df_new.iloc[1, 1:]"
   ]
  },
  {
   "cell_type": "code",
   "execution_count": 41,
   "id": "1b165826",
   "metadata": {},
   "outputs": [
    {
     "data": {
      "text/plain": [
       "332163"
      ]
     },
     "execution_count": 41,
     "metadata": {},
     "output_type": "execute_result"
    }
   ],
   "source": [
    "sum(df_new.iloc[1, 1:])"
   ]
  },
  {
   "cell_type": "code",
   "execution_count": 42,
   "id": "2507b25f",
   "metadata": {},
   "outputs": [
    {
     "data": {
      "text/plain": [
       "73268"
      ]
     },
     "execution_count": 42,
     "metadata": {},
     "output_type": "execute_result"
    }
   ],
   "source": [
    "sum(df_new.iloc[:, 0])"
   ]
  },
  {
   "cell_type": "code",
   "execution_count": 43,
   "id": "5dcb1026",
   "metadata": {},
   "outputs": [
    {
     "data": {
      "text/plain": [
       "3"
      ]
     },
     "execution_count": 43,
     "metadata": {},
     "output_type": "execute_result"
    }
   ],
   "source": [
    "len(df_new)"
   ]
  },
  {
   "cell_type": "code",
   "execution_count": 44,
   "id": "286ce2e3",
   "metadata": {},
   "outputs": [],
   "source": [
    "sum_tot = sum(df_new.iloc[1, 1:])"
   ]
  },
  {
   "cell_type": "code",
   "execution_count": 45,
   "id": "7933fdb9",
   "metadata": {},
   "outputs": [
    {
     "data": {
      "text/plain": [
       "332163"
      ]
     },
     "execution_count": 45,
     "metadata": {},
     "output_type": "execute_result"
    }
   ],
   "source": [
    "sum_tot"
   ]
  },
  {
   "cell_type": "code",
   "execution_count": 48,
   "id": "5621dae9",
   "metadata": {},
   "outputs": [
    {
     "data": {
      "text/plain": [
       "Other_langs    19.19\n",
       "JavaScript     12.63\n",
       "TypeScript      6.81\n",
       "C#              5.48\n",
       "HTML/CSS       10.59\n",
       "SQL             9.60\n",
       "C++             4.36\n",
       "Python          9.24\n",
       "C               3.70\n",
       "Java            6.42\n",
       "PHP             4.04\n",
       "Bash/Shell      5.59\n",
       "PowerShell      2.35\n",
       "Name: Man, dtype: float64"
      ]
     },
     "execution_count": 48,
     "metadata": {},
     "output_type": "execute_result"
    }
   ],
   "source": [
    "round(df_new.iloc[1, 1:] / sum_tot * 100, 2)"
   ]
  },
  {
   "cell_type": "code",
   "execution_count": 69,
   "id": "c638d890",
   "metadata": {},
   "outputs": [
    {
     "data": {
      "text/html": [
       "<div>\n",
       "<style scoped>\n",
       "    .dataframe tbody tr th:only-of-type {\n",
       "        vertical-align: middle;\n",
       "    }\n",
       "\n",
       "    .dataframe tbody tr th {\n",
       "        vertical-align: top;\n",
       "    }\n",
       "\n",
       "    .dataframe thead th {\n",
       "        text-align: right;\n",
       "    }\n",
       "</style>\n",
       "<table border=\"1\" class=\"dataframe\">\n",
       "  <thead>\n",
       "    <tr style=\"text-align: right;\">\n",
       "      <th></th>\n",
       "      <th>Total</th>\n",
       "      <th>Other_langs</th>\n",
       "      <th>JavaScript</th>\n",
       "      <th>TypeScript</th>\n",
       "      <th>C#</th>\n",
       "      <th>HTML/CSS</th>\n",
       "      <th>SQL</th>\n",
       "      <th>C++</th>\n",
       "      <th>Python</th>\n",
       "      <th>C</th>\n",
       "      <th>Java</th>\n",
       "      <th>PHP</th>\n",
       "      <th>Bash/Shell</th>\n",
       "      <th>PowerShell</th>\n",
       "    </tr>\n",
       "    <tr>\n",
       "      <th>Gender</th>\n",
       "      <th></th>\n",
       "      <th></th>\n",
       "      <th></th>\n",
       "      <th></th>\n",
       "      <th></th>\n",
       "      <th></th>\n",
       "      <th></th>\n",
       "      <th></th>\n",
       "      <th></th>\n",
       "      <th></th>\n",
       "      <th></th>\n",
       "      <th></th>\n",
       "      <th></th>\n",
       "      <th></th>\n",
       "    </tr>\n",
       "  </thead>\n",
       "  <tbody>\n",
       "    <tr>\n",
       "      <th>Other</th>\n",
       "      <td>5262</td>\n",
       "      <td>29.739711</td>\n",
       "      <td>10.25584</td>\n",
       "      <td>5.076752</td>\n",
       "      <td>4.333704</td>\n",
       "      <td>8.903226</td>\n",
       "      <td>7.27475</td>\n",
       "      <td>4.342603</td>\n",
       "      <td>8.929922</td>\n",
       "      <td>4.240267</td>\n",
       "      <td>5.59733</td>\n",
       "      <td>3.350389</td>\n",
       "      <td>5.922136</td>\n",
       "      <td>2.03337</td>\n",
       "    </tr>\n",
       "    <tr>\n",
       "      <th>Man</th>\n",
       "      <td>64607</td>\n",
       "      <td>19.189675</td>\n",
       "      <td>12.63175</td>\n",
       "      <td>6.808404</td>\n",
       "      <td>5.477732</td>\n",
       "      <td>10.587272</td>\n",
       "      <td>9.597999</td>\n",
       "      <td>4.363219</td>\n",
       "      <td>9.238537</td>\n",
       "      <td>3.695776</td>\n",
       "      <td>6.424557</td>\n",
       "      <td>4.039583</td>\n",
       "      <td>5.59394</td>\n",
       "      <td>2.351556</td>\n",
       "    </tr>\n",
       "    <tr>\n",
       "      <th>Woman</th>\n",
       "      <td>3399</td>\n",
       "      <td>17.89222</td>\n",
       "      <td>14.086327</td>\n",
       "      <td>6.435772</td>\n",
       "      <td>4.613595</td>\n",
       "      <td>12.755234</td>\n",
       "      <td>10.409667</td>\n",
       "      <td>3.586198</td>\n",
       "      <td>9.440424</td>\n",
       "      <td>2.991729</td>\n",
       "      <td>6.758852</td>\n",
       "      <td>4.238821</td>\n",
       "      <td>4.807444</td>\n",
       "      <td>1.983717</td>\n",
       "    </tr>\n",
       "  </tbody>\n",
       "</table>\n",
       "</div>"
      ],
      "text/plain": [
       "        Total Other_langs JavaScript TypeScript        C#   HTML/CSS  \\\n",
       "Gender                                                                 \n",
       "Other    5262   29.739711   10.25584   5.076752  4.333704   8.903226   \n",
       "Man     64607   19.189675   12.63175   6.808404  5.477732  10.587272   \n",
       "Woman    3399    17.89222  14.086327   6.435772  4.613595  12.755234   \n",
       "\n",
       "              SQL       C++    Python         C      Java       PHP  \\\n",
       "Gender                                                                \n",
       "Other     7.27475  4.342603  8.929922  4.240267   5.59733  3.350389   \n",
       "Man      9.597999  4.363219  9.238537  3.695776  6.424557  4.039583   \n",
       "Woman   10.409667  3.586198  9.440424  2.991729  6.758852  4.238821   \n",
       "\n",
       "       Bash/Shell PowerShell  \n",
       "Gender                        \n",
       "Other    5.922136    2.03337  \n",
       "Man       5.59394   2.351556  \n",
       "Woman    4.807444   1.983717  "
      ]
     },
     "execution_count": 69,
     "metadata": {},
     "output_type": "execute_result"
    }
   ],
   "source": [
    "df_rel = pd.DataFrame(index=df_new.index, columns=df_new.columns)\n",
    "df_rel[\"Total\"] = df_new[\"Total\"]\n",
    "\n",
    "for i in range(len(df_new)):\n",
    "    sum_tot = sum(df_new.iloc[i, 1:])\n",
    "    df_rel.iloc[i, 1:] = df_new.iloc[i, 1:] / sum_tot * 100\n",
    "\n",
    "df_rel"
   ]
  },
  {
   "cell_type": "code",
   "execution_count": 59,
   "id": "3f9b02e6",
   "metadata": {},
   "outputs": [
    {
     "data": {
      "text/plain": [
       "22475"
      ]
     },
     "execution_count": 59,
     "metadata": {},
     "output_type": "execute_result"
    }
   ],
   "source": [
    "sum_tot = sum(df_new.iloc[0, 1:])\n",
    "sum_tot"
   ]
  },
  {
   "cell_type": "code",
   "execution_count": 60,
   "id": "5450184a",
   "metadata": {},
   "outputs": [
    {
     "data": {
      "text/html": [
       "<div>\n",
       "<style scoped>\n",
       "    .dataframe tbody tr th:only-of-type {\n",
       "        vertical-align: middle;\n",
       "    }\n",
       "\n",
       "    .dataframe tbody tr th {\n",
       "        vertical-align: top;\n",
       "    }\n",
       "\n",
       "    .dataframe thead th {\n",
       "        text-align: right;\n",
       "    }\n",
       "</style>\n",
       "<table border=\"1\" class=\"dataframe\">\n",
       "  <thead>\n",
       "    <tr style=\"text-align: right;\">\n",
       "      <th></th>\n",
       "      <th>Total</th>\n",
       "      <th>Other_langs</th>\n",
       "      <th>JavaScript</th>\n",
       "      <th>TypeScript</th>\n",
       "      <th>C#</th>\n",
       "      <th>HTML/CSS</th>\n",
       "      <th>SQL</th>\n",
       "      <th>C++</th>\n",
       "      <th>Python</th>\n",
       "      <th>C</th>\n",
       "      <th>Java</th>\n",
       "      <th>PHP</th>\n",
       "      <th>Bash/Shell</th>\n",
       "      <th>PowerShell</th>\n",
       "    </tr>\n",
       "    <tr>\n",
       "      <th>Gender</th>\n",
       "      <th></th>\n",
       "      <th></th>\n",
       "      <th></th>\n",
       "      <th></th>\n",
       "      <th></th>\n",
       "      <th></th>\n",
       "      <th></th>\n",
       "      <th></th>\n",
       "      <th></th>\n",
       "      <th></th>\n",
       "      <th></th>\n",
       "      <th></th>\n",
       "      <th></th>\n",
       "      <th></th>\n",
       "    </tr>\n",
       "  </thead>\n",
       "  <tbody>\n",
       "    <tr>\n",
       "      <th>Other</th>\n",
       "      <td>5262</td>\n",
       "      <td>6684</td>\n",
       "      <td>2305</td>\n",
       "      <td>1141</td>\n",
       "      <td>974</td>\n",
       "      <td>2001</td>\n",
       "      <td>1635</td>\n",
       "      <td>976</td>\n",
       "      <td>2007</td>\n",
       "      <td>953</td>\n",
       "      <td>1258</td>\n",
       "      <td>753</td>\n",
       "      <td>1331</td>\n",
       "      <td>457</td>\n",
       "    </tr>\n",
       "    <tr>\n",
       "      <th>Man</th>\n",
       "      <td>64607</td>\n",
       "      <td>63741</td>\n",
       "      <td>41958</td>\n",
       "      <td>22615</td>\n",
       "      <td>18195</td>\n",
       "      <td>35167</td>\n",
       "      <td>31881</td>\n",
       "      <td>14493</td>\n",
       "      <td>30687</td>\n",
       "      <td>12276</td>\n",
       "      <td>21340</td>\n",
       "      <td>13418</td>\n",
       "      <td>18581</td>\n",
       "      <td>7811</td>\n",
       "    </tr>\n",
       "    <tr>\n",
       "      <th>Woman</th>\n",
       "      <td>3399</td>\n",
       "      <td>2769</td>\n",
       "      <td>2180</td>\n",
       "      <td>996</td>\n",
       "      <td>714</td>\n",
       "      <td>1974</td>\n",
       "      <td>1611</td>\n",
       "      <td>555</td>\n",
       "      <td>1461</td>\n",
       "      <td>463</td>\n",
       "      <td>1046</td>\n",
       "      <td>656</td>\n",
       "      <td>744</td>\n",
       "      <td>307</td>\n",
       "    </tr>\n",
       "  </tbody>\n",
       "</table>\n",
       "</div>"
      ],
      "text/plain": [
       "        Total  Other_langs  JavaScript  TypeScript     C#  HTML/CSS    SQL  \\\n",
       "Gender                                                                       \n",
       "Other    5262         6684        2305        1141    974      2001   1635   \n",
       "Man     64607        63741       41958       22615  18195     35167  31881   \n",
       "Woman    3399         2769        2180         996    714      1974   1611   \n",
       "\n",
       "          C++  Python      C   Java    PHP  Bash/Shell  PowerShell  \n",
       "Gender                                                              \n",
       "Other     976    2007    953   1258    753        1331         457  \n",
       "Man     14493   30687  12276  21340  13418       18581        7811  \n",
       "Woman     555    1461    463   1046    656         744         307  "
      ]
     },
     "execution_count": 60,
     "metadata": {},
     "output_type": "execute_result"
    }
   ],
   "source": [
    "df_new"
   ]
  },
  {
   "cell_type": "code",
   "execution_count": 61,
   "id": "e99102c8",
   "metadata": {},
   "outputs": [
    {
     "data": {
      "text/plain": [
       "Total               5262\n",
       "Other_langs    29.739711\n",
       "JavaScript      10.25584\n",
       "TypeScript      5.076752\n",
       "C#              4.333704\n",
       "HTML/CSS        8.903226\n",
       "SQL              7.27475\n",
       "C++             4.342603\n",
       "Python          8.929922\n",
       "C               4.240267\n",
       "Java             5.59733\n",
       "PHP             3.350389\n",
       "Bash/Shell      5.922136\n",
       "PowerShell       2.03337\n",
       "Name: Other, dtype: object"
      ]
     },
     "execution_count": 61,
     "metadata": {},
     "output_type": "execute_result"
    }
   ],
   "source": [
    "df_rel.iloc[0]"
   ]
  },
  {
   "cell_type": "code",
   "execution_count": 62,
   "id": "f5c4d8cb",
   "metadata": {},
   "outputs": [
    {
     "data": {
      "text/plain": [
       "100.0"
      ]
     },
     "execution_count": 62,
     "metadata": {},
     "output_type": "execute_result"
    }
   ],
   "source": [
    "sum(df_rel.iloc[0, 1:])"
   ]
  },
  {
   "cell_type": "code",
   "execution_count": 63,
   "id": "e2d2e5de",
   "metadata": {},
   "outputs": [
    {
     "data": {
      "text/plain": [
       "100.00000000000001"
      ]
     },
     "execution_count": 63,
     "metadata": {},
     "output_type": "execute_result"
    }
   ],
   "source": [
    "sum(df_rel.iloc[1, 1:])"
   ]
  },
  {
   "cell_type": "code",
   "execution_count": 64,
   "id": "7568800d",
   "metadata": {},
   "outputs": [
    {
     "data": {
      "text/plain": [
       "99.99999999999999"
      ]
     },
     "execution_count": 64,
     "metadata": {},
     "output_type": "execute_result"
    }
   ],
   "source": [
    "sum(df_rel.iloc[2, 1:])"
   ]
  },
  {
   "cell_type": "code",
   "execution_count": 72,
   "id": "af1044e3",
   "metadata": {},
   "outputs": [
    {
     "name": "stdout",
     "output_type": "stream",
     "text": [
      "  Gender  Total  Other_langs  JavaScript  TypeScript     C#  HTML/CSS    SQL  \\\n",
      "0  Other   5262         6684        2305        1141    974      2001   1635   \n",
      "1    Man  64607        63741       41958       22615  18195     35167  31881   \n",
      "2  Woman   3399         2769        2180         996    714      1974   1611   \n",
      "\n",
      "     C++  Python      C   Java    PHP  Bash/Shell  PowerShell  \n",
      "0    976    2007    953   1258    753        1331         457  \n",
      "1  14493   30687  12276  21340  13418       18581        7811  \n",
      "2    555    1461    463   1046    656         744         307  \n"
     ]
    },
    {
     "data": {
      "text/html": [
       "<div>\n",
       "<style scoped>\n",
       "    .dataframe tbody tr th:only-of-type {\n",
       "        vertical-align: middle;\n",
       "    }\n",
       "\n",
       "    .dataframe tbody tr th {\n",
       "        vertical-align: top;\n",
       "    }\n",
       "\n",
       "    .dataframe thead th {\n",
       "        text-align: right;\n",
       "    }\n",
       "</style>\n",
       "<table border=\"1\" class=\"dataframe\">\n",
       "  <thead>\n",
       "    <tr style=\"text-align: right;\">\n",
       "      <th></th>\n",
       "      <th>Total</th>\n",
       "      <th>Other_langs</th>\n",
       "      <th>JavaScript</th>\n",
       "      <th>TypeScript</th>\n",
       "      <th>C#</th>\n",
       "      <th>HTML/CSS</th>\n",
       "      <th>SQL</th>\n",
       "      <th>C++</th>\n",
       "      <th>Python</th>\n",
       "      <th>C</th>\n",
       "      <th>Java</th>\n",
       "      <th>PHP</th>\n",
       "      <th>Bash/Shell</th>\n",
       "      <th>PowerShell</th>\n",
       "    </tr>\n",
       "    <tr>\n",
       "      <th>Gender</th>\n",
       "      <th></th>\n",
       "      <th></th>\n",
       "      <th></th>\n",
       "      <th></th>\n",
       "      <th></th>\n",
       "      <th></th>\n",
       "      <th></th>\n",
       "      <th></th>\n",
       "      <th></th>\n",
       "      <th></th>\n",
       "      <th></th>\n",
       "      <th></th>\n",
       "      <th></th>\n",
       "      <th></th>\n",
       "    </tr>\n",
       "  </thead>\n",
       "  <tbody>\n",
       "    <tr>\n",
       "      <th>Other</th>\n",
       "      <td>5262</td>\n",
       "      <td>29.739711</td>\n",
       "      <td>10.255840</td>\n",
       "      <td>5.076752</td>\n",
       "      <td>4.333704</td>\n",
       "      <td>8.903226</td>\n",
       "      <td>7.274750</td>\n",
       "      <td>4.342603</td>\n",
       "      <td>8.929922</td>\n",
       "      <td>4.240267</td>\n",
       "      <td>5.597330</td>\n",
       "      <td>3.350389</td>\n",
       "      <td>5.922136</td>\n",
       "      <td>2.033370</td>\n",
       "    </tr>\n",
       "    <tr>\n",
       "      <th>Man</th>\n",
       "      <td>64607</td>\n",
       "      <td>19.189675</td>\n",
       "      <td>12.631750</td>\n",
       "      <td>6.808404</td>\n",
       "      <td>5.477732</td>\n",
       "      <td>10.587272</td>\n",
       "      <td>9.597999</td>\n",
       "      <td>4.363219</td>\n",
       "      <td>9.238537</td>\n",
       "      <td>3.695776</td>\n",
       "      <td>6.424557</td>\n",
       "      <td>4.039583</td>\n",
       "      <td>5.593940</td>\n",
       "      <td>2.351556</td>\n",
       "    </tr>\n",
       "    <tr>\n",
       "      <th>Woman</th>\n",
       "      <td>3399</td>\n",
       "      <td>17.892220</td>\n",
       "      <td>14.086327</td>\n",
       "      <td>6.435772</td>\n",
       "      <td>4.613595</td>\n",
       "      <td>12.755234</td>\n",
       "      <td>10.409667</td>\n",
       "      <td>3.586198</td>\n",
       "      <td>9.440424</td>\n",
       "      <td>2.991729</td>\n",
       "      <td>6.758852</td>\n",
       "      <td>4.238821</td>\n",
       "      <td>4.807444</td>\n",
       "      <td>1.983717</td>\n",
       "    </tr>\n",
       "  </tbody>\n",
       "</table>\n",
       "</div>"
      ],
      "text/plain": [
       "        Total  Other_langs  JavaScript  TypeScript        C#   HTML/CSS  \\\n",
       "Gender                                                                    \n",
       "Other    5262    29.739711   10.255840    5.076752  4.333704   8.903226   \n",
       "Man     64607    19.189675   12.631750    6.808404  5.477732  10.587272   \n",
       "Woman    3399    17.892220   14.086327    6.435772  4.613595  12.755234   \n",
       "\n",
       "              SQL       C++    Python         C      Java       PHP  \\\n",
       "Gender                                                                \n",
       "Other    7.274750  4.342603  8.929922  4.240267  5.597330  3.350389   \n",
       "Man      9.597999  4.363219  9.238537  3.695776  6.424557  4.039583   \n",
       "Woman   10.409667  3.586198  9.440424  2.991729  6.758852  4.238821   \n",
       "\n",
       "        Bash/Shell  PowerShell  \n",
       "Gender                          \n",
       "Other     5.922136    2.033370  \n",
       "Man       5.593940    2.351556  \n",
       "Woman     4.807444    1.983717  "
      ]
     },
     "execution_count": 72,
     "metadata": {},
     "output_type": "execute_result"
    }
   ],
   "source": [
    "langs_by_gender = []\n",
    "row_names = []\n",
    "\n",
    "for gen, info in gender_langs.items():\n",
    "    tot = info['total']\n",
    "    langs_used = {'Gender': gen, 'Total': tot}\n",
    "    row_names.append(gen)\n",
    "    all_used = gender_langs[gen]['language_counter']\n",
    "    for lang in all_used:\n",
    "        if lang in pop_langs:\n",
    "            langs_used[lang] = int(all_used[lang])\n",
    "        else:\n",
    "            langs_used[\"Other_langs\"] = langs_used.get(\"Other_langs\", 0) + int(all_used[lang])\n",
    "        \n",
    "    langs_by_gender.append(langs_used)\n",
    "\n",
    "df_new_rel = pd.DataFrame(langs_by_gender)\n",
    "\n",
    "print(df_new_rel)\n",
    "\n",
    "for i in range(len(df_new_rel)):\n",
    "    sum_tot = sum(df_new_rel.iloc[i, 2:])\n",
    "    df_new_rel.iloc[i, 2:] = df_new_rel.iloc[i, 2:] * 100 / sum_tot\n",
    "\n",
    "# Replace all N/A with 0s\n",
    "#df_new.fillna(0, inplace=True)\n",
    "\n",
    "# Make index from the first column\n",
    "df_new_rel.set_index('Gender', inplace=True)\n",
    "\n",
    "df_new_rel"
   ]
  },
  {
   "cell_type": "code",
   "execution_count": 78,
   "id": "25dc8218",
   "metadata": {},
   "outputs": [
    {
     "data": {
      "application/vnd.plotly.v1+json": {
       "config": {
        "plotlyServerURL": "https://plot.ly"
       },
       "data": [
        {
         "alignmentgroup": "True",
         "hovertemplate": "variable=Other_langs<br>Gender=%{x}<br>value=%{y}<extra></extra>",
         "legendgroup": "Other_langs",
         "marker": {
          "color": "#636efa",
          "pattern": {
           "shape": ""
          }
         },
         "name": "Other_langs",
         "offsetgroup": "Other_langs",
         "orientation": "v",
         "showlegend": true,
         "textposition": "auto",
         "type": "bar",
         "x": [
          "Other",
          "Man",
          "Woman"
         ],
         "xaxis": "x",
         "y": [
          29.739710789766406,
          19.189674948745044,
          17.89222021194107
         ],
         "yaxis": "y"
        },
        {
         "alignmentgroup": "True",
         "hovertemplate": "variable=JavaScript<br>Gender=%{x}<br>value=%{y}<extra></extra>",
         "legendgroup": "JavaScript",
         "marker": {
          "color": "#EF553B",
          "pattern": {
           "shape": ""
          }
         },
         "name": "JavaScript",
         "offsetgroup": "JavaScript",
         "orientation": "v",
         "showlegend": true,
         "textposition": "auto",
         "type": "bar",
         "x": [
          "Other",
          "Man",
          "Woman"
         ],
         "xaxis": "x",
         "y": [
          10.255839822024472,
          12.63175007451161,
          14.08632721633497
         ],
         "yaxis": "y"
        },
        {
         "alignmentgroup": "True",
         "hovertemplate": "variable=TypeScript<br>Gender=%{x}<br>value=%{y}<extra></extra>",
         "legendgroup": "TypeScript",
         "marker": {
          "color": "#00cc96",
          "pattern": {
           "shape": ""
          }
         },
         "name": "TypeScript",
         "offsetgroup": "TypeScript",
         "orientation": "v",
         "showlegend": true,
         "textposition": "auto",
         "type": "bar",
         "x": [
          "Other",
          "Man",
          "Woman"
         ],
         "xaxis": "x",
         "y": [
          5.076751946607342,
          6.808404307523716,
          6.435771517187904
         ],
         "yaxis": "y"
        },
        {
         "alignmentgroup": "True",
         "hovertemplate": "variable=C#<br>Gender=%{x}<br>value=%{y}<extra></extra>",
         "legendgroup": "C#",
         "marker": {
          "color": "#ab63fa",
          "pattern": {
           "shape": ""
          }
         },
         "name": "C#",
         "offsetgroup": "C#",
         "orientation": "v",
         "showlegend": true,
         "textposition": "auto",
         "type": "bar",
         "x": [
          "Other",
          "Man",
          "Woman"
         ],
         "xaxis": "x",
         "y": [
          4.333704115684093,
          5.477732318169092,
          4.61359524424916
         ],
         "yaxis": "y"
        },
        {
         "alignmentgroup": "True",
         "hovertemplate": "variable=HTML/CSS<br>Gender=%{x}<br>value=%{y}<extra></extra>",
         "legendgroup": "HTML/CSS",
         "marker": {
          "color": "#FFA15A",
          "pattern": {
           "shape": ""
          }
         },
         "name": "HTML/CSS",
         "offsetgroup": "HTML/CSS",
         "orientation": "v",
         "showlegend": true,
         "textposition": "auto",
         "type": "bar",
         "x": [
          "Other",
          "Man",
          "Woman"
         ],
         "xaxis": "x",
         "y": [
          8.903225806451612,
          10.587271911681915,
          12.755233910571206
         ],
         "yaxis": "y"
        },
        {
         "alignmentgroup": "True",
         "hovertemplate": "variable=SQL<br>Gender=%{x}<br>value=%{y}<extra></extra>",
         "legendgroup": "SQL",
         "marker": {
          "color": "#19d3f3",
          "pattern": {
           "shape": ""
          }
         },
         "name": "SQL",
         "offsetgroup": "SQL",
         "orientation": "v",
         "showlegend": true,
         "textposition": "auto",
         "type": "bar",
         "x": [
          "Other",
          "Man",
          "Woman"
         ],
         "xaxis": "x",
         "y": [
          7.274749721913237,
          9.597998572989766,
          10.409666580511761
         ],
         "yaxis": "y"
        },
        {
         "alignmentgroup": "True",
         "hovertemplate": "variable=C++<br>Gender=%{x}<br>value=%{y}<extra></extra>",
         "legendgroup": "C++",
         "marker": {
          "color": "#FF6692",
          "pattern": {
           "shape": ""
          }
         },
         "name": "C++",
         "offsetgroup": "C++",
         "orientation": "v",
         "showlegend": true,
         "textposition": "auto",
         "type": "bar",
         "x": [
          "Other",
          "Man",
          "Woman"
         ],
         "xaxis": "x",
         "y": [
          4.342602892102336,
          4.3632192628318025,
          3.5861979839751874
         ],
         "yaxis": "y"
        },
        {
         "alignmentgroup": "True",
         "hovertemplate": "variable=Python<br>Gender=%{x}<br>value=%{y}<extra></extra>",
         "legendgroup": "Python",
         "marker": {
          "color": "#B6E880",
          "pattern": {
           "shape": ""
          }
         },
         "name": "Python",
         "offsetgroup": "Python",
         "orientation": "v",
         "showlegend": true,
         "textposition": "auto",
         "type": "bar",
         "x": [
          "Other",
          "Man",
          "Woman"
         ],
         "xaxis": "x",
         "y": [
          8.92992213570634,
          9.238536501657318,
          9.440423882140088
         ],
         "yaxis": "y"
        },
        {
         "alignmentgroup": "True",
         "hovertemplate": "variable=C<br>Gender=%{x}<br>value=%{y}<extra></extra>",
         "legendgroup": "C",
         "marker": {
          "color": "#FF97FF",
          "pattern": {
           "shape": ""
          }
         },
         "name": "C",
         "offsetgroup": "C",
         "orientation": "v",
         "showlegend": true,
         "textposition": "auto",
         "type": "bar",
         "x": [
          "Other",
          "Man",
          "Woman"
         ],
         "xaxis": "x",
         "y": [
          4.240266963292547,
          3.695775869076327,
          2.991729128973895
         ],
         "yaxis": "y"
        },
        {
         "alignmentgroup": "True",
         "hovertemplate": "variable=Java<br>Gender=%{x}<br>value=%{y}<extra></extra>",
         "legendgroup": "Java",
         "marker": {
          "color": "#FECB52",
          "pattern": {
           "shape": ""
          }
         },
         "name": "Java",
         "offsetgroup": "Java",
         "orientation": "v",
         "showlegend": true,
         "textposition": "auto",
         "type": "bar",
         "x": [
          "Other",
          "Man",
          "Woman"
         ],
         "xaxis": "x",
         "y": [
          5.597330367074528,
          6.424556618286805,
          6.758852416645128
         ],
         "yaxis": "y"
        },
        {
         "alignmentgroup": "True",
         "hovertemplate": "variable=PHP<br>Gender=%{x}<br>value=%{y}<extra></extra>",
         "legendgroup": "PHP",
         "marker": {
          "color": "#636efa",
          "pattern": {
           "shape": ""
          }
         },
         "name": "PHP",
         "offsetgroup": "PHP",
         "orientation": "v",
         "showlegend": true,
         "textposition": "auto",
         "type": "bar",
         "x": [
          "Other",
          "Man",
          "Woman"
         ],
         "xaxis": "x",
         "y": [
          3.350389321468298,
          4.039582975828132,
          4.23882140087878
         ],
         "yaxis": "y"
        },
        {
         "alignmentgroup": "True",
         "hovertemplate": "variable=Bash/Shell<br>Gender=%{x}<br>value=%{y}<extra></extra>",
         "legendgroup": "Bash/Shell",
         "marker": {
          "color": "#EF553B",
          "pattern": {
           "shape": ""
          }
         },
         "name": "Bash/Shell",
         "offsetgroup": "Bash/Shell",
         "orientation": "v",
         "showlegend": true,
         "textposition": "auto",
         "type": "bar",
         "x": [
          "Other",
          "Man",
          "Woman"
         ],
         "xaxis": "x",
         "y": [
          5.922135706340378,
          5.593940324479247,
          4.807443783923494
         ],
         "yaxis": "y"
        },
        {
         "alignmentgroup": "True",
         "hovertemplate": "variable=PowerShell<br>Gender=%{x}<br>value=%{y}<extra></extra>",
         "legendgroup": "PowerShell",
         "marker": {
          "color": "#00cc96",
          "pattern": {
           "shape": ""
          }
         },
         "name": "PowerShell",
         "offsetgroup": "PowerShell",
         "orientation": "v",
         "showlegend": true,
         "textposition": "auto",
         "type": "bar",
         "x": [
          "Other",
          "Man",
          "Woman"
         ],
         "xaxis": "x",
         "y": [
          2.0333704115684093,
          2.3515563142192235,
          1.983716722667356
         ],
         "yaxis": "y"
        }
       ],
       "layout": {
        "barmode": "group",
        "legend": {
         "title": {
          "text": "variable"
         },
         "tracegroupgap": 0
        },
        "margin": {
         "t": 60
        },
        "template": {
         "data": {
          "bar": [
           {
            "error_x": {
             "color": "#2a3f5f"
            },
            "error_y": {
             "color": "#2a3f5f"
            },
            "marker": {
             "line": {
              "color": "#E5ECF6",
              "width": 0.5
             },
             "pattern": {
              "fillmode": "overlay",
              "size": 10,
              "solidity": 0.2
             }
            },
            "type": "bar"
           }
          ],
          "barpolar": [
           {
            "marker": {
             "line": {
              "color": "#E5ECF6",
              "width": 0.5
             },
             "pattern": {
              "fillmode": "overlay",
              "size": 10,
              "solidity": 0.2
             }
            },
            "type": "barpolar"
           }
          ],
          "carpet": [
           {
            "aaxis": {
             "endlinecolor": "#2a3f5f",
             "gridcolor": "white",
             "linecolor": "white",
             "minorgridcolor": "white",
             "startlinecolor": "#2a3f5f"
            },
            "baxis": {
             "endlinecolor": "#2a3f5f",
             "gridcolor": "white",
             "linecolor": "white",
             "minorgridcolor": "white",
             "startlinecolor": "#2a3f5f"
            },
            "type": "carpet"
           }
          ],
          "choropleth": [
           {
            "colorbar": {
             "outlinewidth": 0,
             "ticks": ""
            },
            "type": "choropleth"
           }
          ],
          "contour": [
           {
            "colorbar": {
             "outlinewidth": 0,
             "ticks": ""
            },
            "colorscale": [
             [
              0,
              "#0d0887"
             ],
             [
              0.1111111111111111,
              "#46039f"
             ],
             [
              0.2222222222222222,
              "#7201a8"
             ],
             [
              0.3333333333333333,
              "#9c179e"
             ],
             [
              0.4444444444444444,
              "#bd3786"
             ],
             [
              0.5555555555555556,
              "#d8576b"
             ],
             [
              0.6666666666666666,
              "#ed7953"
             ],
             [
              0.7777777777777778,
              "#fb9f3a"
             ],
             [
              0.8888888888888888,
              "#fdca26"
             ],
             [
              1,
              "#f0f921"
             ]
            ],
            "type": "contour"
           }
          ],
          "contourcarpet": [
           {
            "colorbar": {
             "outlinewidth": 0,
             "ticks": ""
            },
            "type": "contourcarpet"
           }
          ],
          "heatmap": [
           {
            "colorbar": {
             "outlinewidth": 0,
             "ticks": ""
            },
            "colorscale": [
             [
              0,
              "#0d0887"
             ],
             [
              0.1111111111111111,
              "#46039f"
             ],
             [
              0.2222222222222222,
              "#7201a8"
             ],
             [
              0.3333333333333333,
              "#9c179e"
             ],
             [
              0.4444444444444444,
              "#bd3786"
             ],
             [
              0.5555555555555556,
              "#d8576b"
             ],
             [
              0.6666666666666666,
              "#ed7953"
             ],
             [
              0.7777777777777778,
              "#fb9f3a"
             ],
             [
              0.8888888888888888,
              "#fdca26"
             ],
             [
              1,
              "#f0f921"
             ]
            ],
            "type": "heatmap"
           }
          ],
          "heatmapgl": [
           {
            "colorbar": {
             "outlinewidth": 0,
             "ticks": ""
            },
            "colorscale": [
             [
              0,
              "#0d0887"
             ],
             [
              0.1111111111111111,
              "#46039f"
             ],
             [
              0.2222222222222222,
              "#7201a8"
             ],
             [
              0.3333333333333333,
              "#9c179e"
             ],
             [
              0.4444444444444444,
              "#bd3786"
             ],
             [
              0.5555555555555556,
              "#d8576b"
             ],
             [
              0.6666666666666666,
              "#ed7953"
             ],
             [
              0.7777777777777778,
              "#fb9f3a"
             ],
             [
              0.8888888888888888,
              "#fdca26"
             ],
             [
              1,
              "#f0f921"
             ]
            ],
            "type": "heatmapgl"
           }
          ],
          "histogram": [
           {
            "marker": {
             "pattern": {
              "fillmode": "overlay",
              "size": 10,
              "solidity": 0.2
             }
            },
            "type": "histogram"
           }
          ],
          "histogram2d": [
           {
            "colorbar": {
             "outlinewidth": 0,
             "ticks": ""
            },
            "colorscale": [
             [
              0,
              "#0d0887"
             ],
             [
              0.1111111111111111,
              "#46039f"
             ],
             [
              0.2222222222222222,
              "#7201a8"
             ],
             [
              0.3333333333333333,
              "#9c179e"
             ],
             [
              0.4444444444444444,
              "#bd3786"
             ],
             [
              0.5555555555555556,
              "#d8576b"
             ],
             [
              0.6666666666666666,
              "#ed7953"
             ],
             [
              0.7777777777777778,
              "#fb9f3a"
             ],
             [
              0.8888888888888888,
              "#fdca26"
             ],
             [
              1,
              "#f0f921"
             ]
            ],
            "type": "histogram2d"
           }
          ],
          "histogram2dcontour": [
           {
            "colorbar": {
             "outlinewidth": 0,
             "ticks": ""
            },
            "colorscale": [
             [
              0,
              "#0d0887"
             ],
             [
              0.1111111111111111,
              "#46039f"
             ],
             [
              0.2222222222222222,
              "#7201a8"
             ],
             [
              0.3333333333333333,
              "#9c179e"
             ],
             [
              0.4444444444444444,
              "#bd3786"
             ],
             [
              0.5555555555555556,
              "#d8576b"
             ],
             [
              0.6666666666666666,
              "#ed7953"
             ],
             [
              0.7777777777777778,
              "#fb9f3a"
             ],
             [
              0.8888888888888888,
              "#fdca26"
             ],
             [
              1,
              "#f0f921"
             ]
            ],
            "type": "histogram2dcontour"
           }
          ],
          "mesh3d": [
           {
            "colorbar": {
             "outlinewidth": 0,
             "ticks": ""
            },
            "type": "mesh3d"
           }
          ],
          "parcoords": [
           {
            "line": {
             "colorbar": {
              "outlinewidth": 0,
              "ticks": ""
             }
            },
            "type": "parcoords"
           }
          ],
          "pie": [
           {
            "automargin": true,
            "type": "pie"
           }
          ],
          "scatter": [
           {
            "fillpattern": {
             "fillmode": "overlay",
             "size": 10,
             "solidity": 0.2
            },
            "type": "scatter"
           }
          ],
          "scatter3d": [
           {
            "line": {
             "colorbar": {
              "outlinewidth": 0,
              "ticks": ""
             }
            },
            "marker": {
             "colorbar": {
              "outlinewidth": 0,
              "ticks": ""
             }
            },
            "type": "scatter3d"
           }
          ],
          "scattercarpet": [
           {
            "marker": {
             "colorbar": {
              "outlinewidth": 0,
              "ticks": ""
             }
            },
            "type": "scattercarpet"
           }
          ],
          "scattergeo": [
           {
            "marker": {
             "colorbar": {
              "outlinewidth": 0,
              "ticks": ""
             }
            },
            "type": "scattergeo"
           }
          ],
          "scattergl": [
           {
            "marker": {
             "colorbar": {
              "outlinewidth": 0,
              "ticks": ""
             }
            },
            "type": "scattergl"
           }
          ],
          "scattermapbox": [
           {
            "marker": {
             "colorbar": {
              "outlinewidth": 0,
              "ticks": ""
             }
            },
            "type": "scattermapbox"
           }
          ],
          "scatterpolar": [
           {
            "marker": {
             "colorbar": {
              "outlinewidth": 0,
              "ticks": ""
             }
            },
            "type": "scatterpolar"
           }
          ],
          "scatterpolargl": [
           {
            "marker": {
             "colorbar": {
              "outlinewidth": 0,
              "ticks": ""
             }
            },
            "type": "scatterpolargl"
           }
          ],
          "scatterternary": [
           {
            "marker": {
             "colorbar": {
              "outlinewidth": 0,
              "ticks": ""
             }
            },
            "type": "scatterternary"
           }
          ],
          "surface": [
           {
            "colorbar": {
             "outlinewidth": 0,
             "ticks": ""
            },
            "colorscale": [
             [
              0,
              "#0d0887"
             ],
             [
              0.1111111111111111,
              "#46039f"
             ],
             [
              0.2222222222222222,
              "#7201a8"
             ],
             [
              0.3333333333333333,
              "#9c179e"
             ],
             [
              0.4444444444444444,
              "#bd3786"
             ],
             [
              0.5555555555555556,
              "#d8576b"
             ],
             [
              0.6666666666666666,
              "#ed7953"
             ],
             [
              0.7777777777777778,
              "#fb9f3a"
             ],
             [
              0.8888888888888888,
              "#fdca26"
             ],
             [
              1,
              "#f0f921"
             ]
            ],
            "type": "surface"
           }
          ],
          "table": [
           {
            "cells": {
             "fill": {
              "color": "#EBF0F8"
             },
             "line": {
              "color": "white"
             }
            },
            "header": {
             "fill": {
              "color": "#C8D4E3"
             },
             "line": {
              "color": "white"
             }
            },
            "type": "table"
           }
          ]
         },
         "layout": {
          "annotationdefaults": {
           "arrowcolor": "#2a3f5f",
           "arrowhead": 0,
           "arrowwidth": 1
          },
          "autotypenumbers": "strict",
          "coloraxis": {
           "colorbar": {
            "outlinewidth": 0,
            "ticks": ""
           }
          },
          "colorscale": {
           "diverging": [
            [
             0,
             "#8e0152"
            ],
            [
             0.1,
             "#c51b7d"
            ],
            [
             0.2,
             "#de77ae"
            ],
            [
             0.3,
             "#f1b6da"
            ],
            [
             0.4,
             "#fde0ef"
            ],
            [
             0.5,
             "#f7f7f7"
            ],
            [
             0.6,
             "#e6f5d0"
            ],
            [
             0.7,
             "#b8e186"
            ],
            [
             0.8,
             "#7fbc41"
            ],
            [
             0.9,
             "#4d9221"
            ],
            [
             1,
             "#276419"
            ]
           ],
           "sequential": [
            [
             0,
             "#0d0887"
            ],
            [
             0.1111111111111111,
             "#46039f"
            ],
            [
             0.2222222222222222,
             "#7201a8"
            ],
            [
             0.3333333333333333,
             "#9c179e"
            ],
            [
             0.4444444444444444,
             "#bd3786"
            ],
            [
             0.5555555555555556,
             "#d8576b"
            ],
            [
             0.6666666666666666,
             "#ed7953"
            ],
            [
             0.7777777777777778,
             "#fb9f3a"
            ],
            [
             0.8888888888888888,
             "#fdca26"
            ],
            [
             1,
             "#f0f921"
            ]
           ],
           "sequentialminus": [
            [
             0,
             "#0d0887"
            ],
            [
             0.1111111111111111,
             "#46039f"
            ],
            [
             0.2222222222222222,
             "#7201a8"
            ],
            [
             0.3333333333333333,
             "#9c179e"
            ],
            [
             0.4444444444444444,
             "#bd3786"
            ],
            [
             0.5555555555555556,
             "#d8576b"
            ],
            [
             0.6666666666666666,
             "#ed7953"
            ],
            [
             0.7777777777777778,
             "#fb9f3a"
            ],
            [
             0.8888888888888888,
             "#fdca26"
            ],
            [
             1,
             "#f0f921"
            ]
           ]
          },
          "colorway": [
           "#636efa",
           "#EF553B",
           "#00cc96",
           "#ab63fa",
           "#FFA15A",
           "#19d3f3",
           "#FF6692",
           "#B6E880",
           "#FF97FF",
           "#FECB52"
          ],
          "font": {
           "color": "#2a3f5f"
          },
          "geo": {
           "bgcolor": "white",
           "lakecolor": "white",
           "landcolor": "#E5ECF6",
           "showlakes": true,
           "showland": true,
           "subunitcolor": "white"
          },
          "hoverlabel": {
           "align": "left"
          },
          "hovermode": "closest",
          "mapbox": {
           "style": "light"
          },
          "paper_bgcolor": "white",
          "plot_bgcolor": "#E5ECF6",
          "polar": {
           "angularaxis": {
            "gridcolor": "white",
            "linecolor": "white",
            "ticks": ""
           },
           "bgcolor": "#E5ECF6",
           "radialaxis": {
            "gridcolor": "white",
            "linecolor": "white",
            "ticks": ""
           }
          },
          "scene": {
           "xaxis": {
            "backgroundcolor": "#E5ECF6",
            "gridcolor": "white",
            "gridwidth": 2,
            "linecolor": "white",
            "showbackground": true,
            "ticks": "",
            "zerolinecolor": "white"
           },
           "yaxis": {
            "backgroundcolor": "#E5ECF6",
            "gridcolor": "white",
            "gridwidth": 2,
            "linecolor": "white",
            "showbackground": true,
            "ticks": "",
            "zerolinecolor": "white"
           },
           "zaxis": {
            "backgroundcolor": "#E5ECF6",
            "gridcolor": "white",
            "gridwidth": 2,
            "linecolor": "white",
            "showbackground": true,
            "ticks": "",
            "zerolinecolor": "white"
           }
          },
          "shapedefaults": {
           "line": {
            "color": "#2a3f5f"
           }
          },
          "ternary": {
           "aaxis": {
            "gridcolor": "white",
            "linecolor": "white",
            "ticks": ""
           },
           "baxis": {
            "gridcolor": "white",
            "linecolor": "white",
            "ticks": ""
           },
           "bgcolor": "#E5ECF6",
           "caxis": {
            "gridcolor": "white",
            "linecolor": "white",
            "ticks": ""
           }
          },
          "title": {
           "x": 0.05
          },
          "xaxis": {
           "automargin": true,
           "gridcolor": "white",
           "linecolor": "white",
           "ticks": "",
           "title": {
            "standoff": 15
           },
           "zerolinecolor": "white",
           "zerolinewidth": 2
          },
          "yaxis": {
           "automargin": true,
           "gridcolor": "white",
           "linecolor": "white",
           "ticks": "",
           "title": {
            "standoff": 15
           },
           "zerolinecolor": "white",
           "zerolinewidth": 2
          }
         }
        },
        "xaxis": {
         "anchor": "y",
         "domain": [
          0,
          1
         ],
         "title": {
          "text": "Gender"
         }
        },
        "yaxis": {
         "anchor": "x",
         "domain": [
          0,
          1
         ],
         "title": {
          "text": "value"
         }
        }
       }
      },
      "text/html": [
       "<div>                            <div id=\"4a8bd506-3b6b-4d26-bb94-a9cb185f4d5e\" class=\"plotly-graph-div\" style=\"height:525px; width:100%;\"></div>            <script type=\"text/javascript\">                require([\"plotly\"], function(Plotly) {                    window.PLOTLYENV=window.PLOTLYENV || {};                                    if (document.getElementById(\"4a8bd506-3b6b-4d26-bb94-a9cb185f4d5e\")) {                    Plotly.newPlot(                        \"4a8bd506-3b6b-4d26-bb94-a9cb185f4d5e\",                        [{\"alignmentgroup\":\"True\",\"hovertemplate\":\"variable=Other_langs<br>Gender=%{x}<br>value=%{y}<extra></extra>\",\"legendgroup\":\"Other_langs\",\"marker\":{\"color\":\"#636efa\",\"pattern\":{\"shape\":\"\"}},\"name\":\"Other_langs\",\"offsetgroup\":\"Other_langs\",\"orientation\":\"v\",\"showlegend\":true,\"textposition\":\"auto\",\"x\":[\"Other\",\"Man\",\"Woman\"],\"xaxis\":\"x\",\"y\":[29.739710789766406,19.189674948745044,17.89222021194107],\"yaxis\":\"y\",\"type\":\"bar\"},{\"alignmentgroup\":\"True\",\"hovertemplate\":\"variable=JavaScript<br>Gender=%{x}<br>value=%{y}<extra></extra>\",\"legendgroup\":\"JavaScript\",\"marker\":{\"color\":\"#EF553B\",\"pattern\":{\"shape\":\"\"}},\"name\":\"JavaScript\",\"offsetgroup\":\"JavaScript\",\"orientation\":\"v\",\"showlegend\":true,\"textposition\":\"auto\",\"x\":[\"Other\",\"Man\",\"Woman\"],\"xaxis\":\"x\",\"y\":[10.255839822024472,12.63175007451161,14.08632721633497],\"yaxis\":\"y\",\"type\":\"bar\"},{\"alignmentgroup\":\"True\",\"hovertemplate\":\"variable=TypeScript<br>Gender=%{x}<br>value=%{y}<extra></extra>\",\"legendgroup\":\"TypeScript\",\"marker\":{\"color\":\"#00cc96\",\"pattern\":{\"shape\":\"\"}},\"name\":\"TypeScript\",\"offsetgroup\":\"TypeScript\",\"orientation\":\"v\",\"showlegend\":true,\"textposition\":\"auto\",\"x\":[\"Other\",\"Man\",\"Woman\"],\"xaxis\":\"x\",\"y\":[5.076751946607342,6.808404307523716,6.435771517187904],\"yaxis\":\"y\",\"type\":\"bar\"},{\"alignmentgroup\":\"True\",\"hovertemplate\":\"variable=C#<br>Gender=%{x}<br>value=%{y}<extra></extra>\",\"legendgroup\":\"C#\",\"marker\":{\"color\":\"#ab63fa\",\"pattern\":{\"shape\":\"\"}},\"name\":\"C#\",\"offsetgroup\":\"C#\",\"orientation\":\"v\",\"showlegend\":true,\"textposition\":\"auto\",\"x\":[\"Other\",\"Man\",\"Woman\"],\"xaxis\":\"x\",\"y\":[4.333704115684093,5.477732318169092,4.61359524424916],\"yaxis\":\"y\",\"type\":\"bar\"},{\"alignmentgroup\":\"True\",\"hovertemplate\":\"variable=HTML/CSS<br>Gender=%{x}<br>value=%{y}<extra></extra>\",\"legendgroup\":\"HTML/CSS\",\"marker\":{\"color\":\"#FFA15A\",\"pattern\":{\"shape\":\"\"}},\"name\":\"HTML/CSS\",\"offsetgroup\":\"HTML/CSS\",\"orientation\":\"v\",\"showlegend\":true,\"textposition\":\"auto\",\"x\":[\"Other\",\"Man\",\"Woman\"],\"xaxis\":\"x\",\"y\":[8.903225806451612,10.587271911681915,12.755233910571206],\"yaxis\":\"y\",\"type\":\"bar\"},{\"alignmentgroup\":\"True\",\"hovertemplate\":\"variable=SQL<br>Gender=%{x}<br>value=%{y}<extra></extra>\",\"legendgroup\":\"SQL\",\"marker\":{\"color\":\"#19d3f3\",\"pattern\":{\"shape\":\"\"}},\"name\":\"SQL\",\"offsetgroup\":\"SQL\",\"orientation\":\"v\",\"showlegend\":true,\"textposition\":\"auto\",\"x\":[\"Other\",\"Man\",\"Woman\"],\"xaxis\":\"x\",\"y\":[7.274749721913237,9.597998572989766,10.409666580511761],\"yaxis\":\"y\",\"type\":\"bar\"},{\"alignmentgroup\":\"True\",\"hovertemplate\":\"variable=C++<br>Gender=%{x}<br>value=%{y}<extra></extra>\",\"legendgroup\":\"C++\",\"marker\":{\"color\":\"#FF6692\",\"pattern\":{\"shape\":\"\"}},\"name\":\"C++\",\"offsetgroup\":\"C++\",\"orientation\":\"v\",\"showlegend\":true,\"textposition\":\"auto\",\"x\":[\"Other\",\"Man\",\"Woman\"],\"xaxis\":\"x\",\"y\":[4.342602892102336,4.3632192628318025,3.5861979839751874],\"yaxis\":\"y\",\"type\":\"bar\"},{\"alignmentgroup\":\"True\",\"hovertemplate\":\"variable=Python<br>Gender=%{x}<br>value=%{y}<extra></extra>\",\"legendgroup\":\"Python\",\"marker\":{\"color\":\"#B6E880\",\"pattern\":{\"shape\":\"\"}},\"name\":\"Python\",\"offsetgroup\":\"Python\",\"orientation\":\"v\",\"showlegend\":true,\"textposition\":\"auto\",\"x\":[\"Other\",\"Man\",\"Woman\"],\"xaxis\":\"x\",\"y\":[8.92992213570634,9.238536501657318,9.440423882140088],\"yaxis\":\"y\",\"type\":\"bar\"},{\"alignmentgroup\":\"True\",\"hovertemplate\":\"variable=C<br>Gender=%{x}<br>value=%{y}<extra></extra>\",\"legendgroup\":\"C\",\"marker\":{\"color\":\"#FF97FF\",\"pattern\":{\"shape\":\"\"}},\"name\":\"C\",\"offsetgroup\":\"C\",\"orientation\":\"v\",\"showlegend\":true,\"textposition\":\"auto\",\"x\":[\"Other\",\"Man\",\"Woman\"],\"xaxis\":\"x\",\"y\":[4.240266963292547,3.695775869076327,2.991729128973895],\"yaxis\":\"y\",\"type\":\"bar\"},{\"alignmentgroup\":\"True\",\"hovertemplate\":\"variable=Java<br>Gender=%{x}<br>value=%{y}<extra></extra>\",\"legendgroup\":\"Java\",\"marker\":{\"color\":\"#FECB52\",\"pattern\":{\"shape\":\"\"}},\"name\":\"Java\",\"offsetgroup\":\"Java\",\"orientation\":\"v\",\"showlegend\":true,\"textposition\":\"auto\",\"x\":[\"Other\",\"Man\",\"Woman\"],\"xaxis\":\"x\",\"y\":[5.597330367074528,6.424556618286805,6.758852416645128],\"yaxis\":\"y\",\"type\":\"bar\"},{\"alignmentgroup\":\"True\",\"hovertemplate\":\"variable=PHP<br>Gender=%{x}<br>value=%{y}<extra></extra>\",\"legendgroup\":\"PHP\",\"marker\":{\"color\":\"#636efa\",\"pattern\":{\"shape\":\"\"}},\"name\":\"PHP\",\"offsetgroup\":\"PHP\",\"orientation\":\"v\",\"showlegend\":true,\"textposition\":\"auto\",\"x\":[\"Other\",\"Man\",\"Woman\"],\"xaxis\":\"x\",\"y\":[3.350389321468298,4.039582975828132,4.23882140087878],\"yaxis\":\"y\",\"type\":\"bar\"},{\"alignmentgroup\":\"True\",\"hovertemplate\":\"variable=Bash/Shell<br>Gender=%{x}<br>value=%{y}<extra></extra>\",\"legendgroup\":\"Bash/Shell\",\"marker\":{\"color\":\"#EF553B\",\"pattern\":{\"shape\":\"\"}},\"name\":\"Bash/Shell\",\"offsetgroup\":\"Bash/Shell\",\"orientation\":\"v\",\"showlegend\":true,\"textposition\":\"auto\",\"x\":[\"Other\",\"Man\",\"Woman\"],\"xaxis\":\"x\",\"y\":[5.922135706340378,5.593940324479247,4.807443783923494],\"yaxis\":\"y\",\"type\":\"bar\"},{\"alignmentgroup\":\"True\",\"hovertemplate\":\"variable=PowerShell<br>Gender=%{x}<br>value=%{y}<extra></extra>\",\"legendgroup\":\"PowerShell\",\"marker\":{\"color\":\"#00cc96\",\"pattern\":{\"shape\":\"\"}},\"name\":\"PowerShell\",\"offsetgroup\":\"PowerShell\",\"orientation\":\"v\",\"showlegend\":true,\"textposition\":\"auto\",\"x\":[\"Other\",\"Man\",\"Woman\"],\"xaxis\":\"x\",\"y\":[2.0333704115684093,2.3515563142192235,1.983716722667356],\"yaxis\":\"y\",\"type\":\"bar\"}],                        {\"template\":{\"data\":{\"histogram2dcontour\":[{\"type\":\"histogram2dcontour\",\"colorbar\":{\"outlinewidth\":0,\"ticks\":\"\"},\"colorscale\":[[0.0,\"#0d0887\"],[0.1111111111111111,\"#46039f\"],[0.2222222222222222,\"#7201a8\"],[0.3333333333333333,\"#9c179e\"],[0.4444444444444444,\"#bd3786\"],[0.5555555555555556,\"#d8576b\"],[0.6666666666666666,\"#ed7953\"],[0.7777777777777778,\"#fb9f3a\"],[0.8888888888888888,\"#fdca26\"],[1.0,\"#f0f921\"]]}],\"choropleth\":[{\"type\":\"choropleth\",\"colorbar\":{\"outlinewidth\":0,\"ticks\":\"\"}}],\"histogram2d\":[{\"type\":\"histogram2d\",\"colorbar\":{\"outlinewidth\":0,\"ticks\":\"\"},\"colorscale\":[[0.0,\"#0d0887\"],[0.1111111111111111,\"#46039f\"],[0.2222222222222222,\"#7201a8\"],[0.3333333333333333,\"#9c179e\"],[0.4444444444444444,\"#bd3786\"],[0.5555555555555556,\"#d8576b\"],[0.6666666666666666,\"#ed7953\"],[0.7777777777777778,\"#fb9f3a\"],[0.8888888888888888,\"#fdca26\"],[1.0,\"#f0f921\"]]}],\"heatmap\":[{\"type\":\"heatmap\",\"colorbar\":{\"outlinewidth\":0,\"ticks\":\"\"},\"colorscale\":[[0.0,\"#0d0887\"],[0.1111111111111111,\"#46039f\"],[0.2222222222222222,\"#7201a8\"],[0.3333333333333333,\"#9c179e\"],[0.4444444444444444,\"#bd3786\"],[0.5555555555555556,\"#d8576b\"],[0.6666666666666666,\"#ed7953\"],[0.7777777777777778,\"#fb9f3a\"],[0.8888888888888888,\"#fdca26\"],[1.0,\"#f0f921\"]]}],\"heatmapgl\":[{\"type\":\"heatmapgl\",\"colorbar\":{\"outlinewidth\":0,\"ticks\":\"\"},\"colorscale\":[[0.0,\"#0d0887\"],[0.1111111111111111,\"#46039f\"],[0.2222222222222222,\"#7201a8\"],[0.3333333333333333,\"#9c179e\"],[0.4444444444444444,\"#bd3786\"],[0.5555555555555556,\"#d8576b\"],[0.6666666666666666,\"#ed7953\"],[0.7777777777777778,\"#fb9f3a\"],[0.8888888888888888,\"#fdca26\"],[1.0,\"#f0f921\"]]}],\"contourcarpet\":[{\"type\":\"contourcarpet\",\"colorbar\":{\"outlinewidth\":0,\"ticks\":\"\"}}],\"contour\":[{\"type\":\"contour\",\"colorbar\":{\"outlinewidth\":0,\"ticks\":\"\"},\"colorscale\":[[0.0,\"#0d0887\"],[0.1111111111111111,\"#46039f\"],[0.2222222222222222,\"#7201a8\"],[0.3333333333333333,\"#9c179e\"],[0.4444444444444444,\"#bd3786\"],[0.5555555555555556,\"#d8576b\"],[0.6666666666666666,\"#ed7953\"],[0.7777777777777778,\"#fb9f3a\"],[0.8888888888888888,\"#fdca26\"],[1.0,\"#f0f921\"]]}],\"surface\":[{\"type\":\"surface\",\"colorbar\":{\"outlinewidth\":0,\"ticks\":\"\"},\"colorscale\":[[0.0,\"#0d0887\"],[0.1111111111111111,\"#46039f\"],[0.2222222222222222,\"#7201a8\"],[0.3333333333333333,\"#9c179e\"],[0.4444444444444444,\"#bd3786\"],[0.5555555555555556,\"#d8576b\"],[0.6666666666666666,\"#ed7953\"],[0.7777777777777778,\"#fb9f3a\"],[0.8888888888888888,\"#fdca26\"],[1.0,\"#f0f921\"]]}],\"mesh3d\":[{\"type\":\"mesh3d\",\"colorbar\":{\"outlinewidth\":0,\"ticks\":\"\"}}],\"scatter\":[{\"fillpattern\":{\"fillmode\":\"overlay\",\"size\":10,\"solidity\":0.2},\"type\":\"scatter\"}],\"parcoords\":[{\"type\":\"parcoords\",\"line\":{\"colorbar\":{\"outlinewidth\":0,\"ticks\":\"\"}}}],\"scatterpolargl\":[{\"type\":\"scatterpolargl\",\"marker\":{\"colorbar\":{\"outlinewidth\":0,\"ticks\":\"\"}}}],\"bar\":[{\"error_x\":{\"color\":\"#2a3f5f\"},\"error_y\":{\"color\":\"#2a3f5f\"},\"marker\":{\"line\":{\"color\":\"#E5ECF6\",\"width\":0.5},\"pattern\":{\"fillmode\":\"overlay\",\"size\":10,\"solidity\":0.2}},\"type\":\"bar\"}],\"scattergeo\":[{\"type\":\"scattergeo\",\"marker\":{\"colorbar\":{\"outlinewidth\":0,\"ticks\":\"\"}}}],\"scatterpolar\":[{\"type\":\"scatterpolar\",\"marker\":{\"colorbar\":{\"outlinewidth\":0,\"ticks\":\"\"}}}],\"histogram\":[{\"marker\":{\"pattern\":{\"fillmode\":\"overlay\",\"size\":10,\"solidity\":0.2}},\"type\":\"histogram\"}],\"scattergl\":[{\"type\":\"scattergl\",\"marker\":{\"colorbar\":{\"outlinewidth\":0,\"ticks\":\"\"}}}],\"scatter3d\":[{\"type\":\"scatter3d\",\"line\":{\"colorbar\":{\"outlinewidth\":0,\"ticks\":\"\"}},\"marker\":{\"colorbar\":{\"outlinewidth\":0,\"ticks\":\"\"}}}],\"scattermapbox\":[{\"type\":\"scattermapbox\",\"marker\":{\"colorbar\":{\"outlinewidth\":0,\"ticks\":\"\"}}}],\"scatterternary\":[{\"type\":\"scatterternary\",\"marker\":{\"colorbar\":{\"outlinewidth\":0,\"ticks\":\"\"}}}],\"scattercarpet\":[{\"type\":\"scattercarpet\",\"marker\":{\"colorbar\":{\"outlinewidth\":0,\"ticks\":\"\"}}}],\"carpet\":[{\"aaxis\":{\"endlinecolor\":\"#2a3f5f\",\"gridcolor\":\"white\",\"linecolor\":\"white\",\"minorgridcolor\":\"white\",\"startlinecolor\":\"#2a3f5f\"},\"baxis\":{\"endlinecolor\":\"#2a3f5f\",\"gridcolor\":\"white\",\"linecolor\":\"white\",\"minorgridcolor\":\"white\",\"startlinecolor\":\"#2a3f5f\"},\"type\":\"carpet\"}],\"table\":[{\"cells\":{\"fill\":{\"color\":\"#EBF0F8\"},\"line\":{\"color\":\"white\"}},\"header\":{\"fill\":{\"color\":\"#C8D4E3\"},\"line\":{\"color\":\"white\"}},\"type\":\"table\"}],\"barpolar\":[{\"marker\":{\"line\":{\"color\":\"#E5ECF6\",\"width\":0.5},\"pattern\":{\"fillmode\":\"overlay\",\"size\":10,\"solidity\":0.2}},\"type\":\"barpolar\"}],\"pie\":[{\"automargin\":true,\"type\":\"pie\"}]},\"layout\":{\"autotypenumbers\":\"strict\",\"colorway\":[\"#636efa\",\"#EF553B\",\"#00cc96\",\"#ab63fa\",\"#FFA15A\",\"#19d3f3\",\"#FF6692\",\"#B6E880\",\"#FF97FF\",\"#FECB52\"],\"font\":{\"color\":\"#2a3f5f\"},\"hovermode\":\"closest\",\"hoverlabel\":{\"align\":\"left\"},\"paper_bgcolor\":\"white\",\"plot_bgcolor\":\"#E5ECF6\",\"polar\":{\"bgcolor\":\"#E5ECF6\",\"angularaxis\":{\"gridcolor\":\"white\",\"linecolor\":\"white\",\"ticks\":\"\"},\"radialaxis\":{\"gridcolor\":\"white\",\"linecolor\":\"white\",\"ticks\":\"\"}},\"ternary\":{\"bgcolor\":\"#E5ECF6\",\"aaxis\":{\"gridcolor\":\"white\",\"linecolor\":\"white\",\"ticks\":\"\"},\"baxis\":{\"gridcolor\":\"white\",\"linecolor\":\"white\",\"ticks\":\"\"},\"caxis\":{\"gridcolor\":\"white\",\"linecolor\":\"white\",\"ticks\":\"\"}},\"coloraxis\":{\"colorbar\":{\"outlinewidth\":0,\"ticks\":\"\"}},\"colorscale\":{\"sequential\":[[0.0,\"#0d0887\"],[0.1111111111111111,\"#46039f\"],[0.2222222222222222,\"#7201a8\"],[0.3333333333333333,\"#9c179e\"],[0.4444444444444444,\"#bd3786\"],[0.5555555555555556,\"#d8576b\"],[0.6666666666666666,\"#ed7953\"],[0.7777777777777778,\"#fb9f3a\"],[0.8888888888888888,\"#fdca26\"],[1.0,\"#f0f921\"]],\"sequentialminus\":[[0.0,\"#0d0887\"],[0.1111111111111111,\"#46039f\"],[0.2222222222222222,\"#7201a8\"],[0.3333333333333333,\"#9c179e\"],[0.4444444444444444,\"#bd3786\"],[0.5555555555555556,\"#d8576b\"],[0.6666666666666666,\"#ed7953\"],[0.7777777777777778,\"#fb9f3a\"],[0.8888888888888888,\"#fdca26\"],[1.0,\"#f0f921\"]],\"diverging\":[[0,\"#8e0152\"],[0.1,\"#c51b7d\"],[0.2,\"#de77ae\"],[0.3,\"#f1b6da\"],[0.4,\"#fde0ef\"],[0.5,\"#f7f7f7\"],[0.6,\"#e6f5d0\"],[0.7,\"#b8e186\"],[0.8,\"#7fbc41\"],[0.9,\"#4d9221\"],[1,\"#276419\"]]},\"xaxis\":{\"gridcolor\":\"white\",\"linecolor\":\"white\",\"ticks\":\"\",\"title\":{\"standoff\":15},\"zerolinecolor\":\"white\",\"automargin\":true,\"zerolinewidth\":2},\"yaxis\":{\"gridcolor\":\"white\",\"linecolor\":\"white\",\"ticks\":\"\",\"title\":{\"standoff\":15},\"zerolinecolor\":\"white\",\"automargin\":true,\"zerolinewidth\":2},\"scene\":{\"xaxis\":{\"backgroundcolor\":\"#E5ECF6\",\"gridcolor\":\"white\",\"linecolor\":\"white\",\"showbackground\":true,\"ticks\":\"\",\"zerolinecolor\":\"white\",\"gridwidth\":2},\"yaxis\":{\"backgroundcolor\":\"#E5ECF6\",\"gridcolor\":\"white\",\"linecolor\":\"white\",\"showbackground\":true,\"ticks\":\"\",\"zerolinecolor\":\"white\",\"gridwidth\":2},\"zaxis\":{\"backgroundcolor\":\"#E5ECF6\",\"gridcolor\":\"white\",\"linecolor\":\"white\",\"showbackground\":true,\"ticks\":\"\",\"zerolinecolor\":\"white\",\"gridwidth\":2}},\"shapedefaults\":{\"line\":{\"color\":\"#2a3f5f\"}},\"annotationdefaults\":{\"arrowcolor\":\"#2a3f5f\",\"arrowhead\":0,\"arrowwidth\":1},\"geo\":{\"bgcolor\":\"white\",\"landcolor\":\"#E5ECF6\",\"subunitcolor\":\"white\",\"showland\":true,\"showlakes\":true,\"lakecolor\":\"white\"},\"title\":{\"x\":0.05},\"mapbox\":{\"style\":\"light\"}}},\"xaxis\":{\"anchor\":\"y\",\"domain\":[0.0,1.0],\"title\":{\"text\":\"Gender\"}},\"yaxis\":{\"anchor\":\"x\",\"domain\":[0.0,1.0],\"title\":{\"text\":\"value\"}},\"legend\":{\"title\":{\"text\":\"variable\"},\"tracegroupgap\":0},\"margin\":{\"t\":60},\"barmode\":\"group\"},                        {\"responsive\": true}                    ).then(function(){\n",
       "                            \n",
       "var gd = document.getElementById('4a8bd506-3b6b-4d26-bb94-a9cb185f4d5e');\n",
       "var x = new MutationObserver(function (mutations, observer) {{\n",
       "        var display = window.getComputedStyle(gd).display;\n",
       "        if (!display || display === 'none') {{\n",
       "            console.log([gd, 'removed!']);\n",
       "            Plotly.purge(gd);\n",
       "            observer.disconnect();\n",
       "        }}\n",
       "}});\n",
       "\n",
       "// Listen for the removal of the full notebook cells\n",
       "var notebookContainer = gd.closest('#notebook-container');\n",
       "if (notebookContainer) {{\n",
       "    x.observe(notebookContainer, {childList: true});\n",
       "}}\n",
       "\n",
       "// Listen for the clearing of the current output cell\n",
       "var outputEl = gd.closest('.output');\n",
       "if (outputEl) {{\n",
       "    x.observe(outputEl, {childList: true});\n",
       "}}\n",
       "\n",
       "                        })                };                });            </script>        </div>"
      ]
     },
     "metadata": {},
     "output_type": "display_data"
    }
   ],
   "source": [
    "import plotly.express as px\n",
    "\n",
    "fig = px.bar(df_new_rel, x=df_new_rel.index, y=df_new_rel.columns[1:], barmode='group')\n",
    "\n",
    "fig.show()\n"
   ]
  },
  {
   "cell_type": "code",
   "execution_count": 75,
   "id": "857c6ba6",
   "metadata": {},
   "outputs": [
    {
     "data": {
      "text/plain": [
       "Index(['Other_langs', 'JavaScript', 'TypeScript', 'C#', 'HTML/CSS', 'SQL',\n",
       "       'C++', 'Python', 'C', 'Java', 'PHP', 'Bash/Shell', 'PowerShell'],\n",
       "      dtype='object')"
      ]
     },
     "execution_count": 75,
     "metadata": {},
     "output_type": "execute_result"
    }
   ],
   "source": [
    "df_new_rel.columns[1:]"
   ]
  },
  {
   "cell_type": "code",
   "execution_count": 89,
   "id": "ad501085",
   "metadata": {},
   "outputs": [
    {
     "data": {
      "application/vnd.plotly.v1+json": {
       "config": {
        "plotlyServerURL": "https://plot.ly"
       },
       "data": [
        {
         "name": "Men",
         "offsetgroup": "0",
         "type": "bar",
         "x": [
          "Other_langs",
          "JavaScript",
          "TypeScript",
          "C#",
          "HTML/CSS",
          "SQL",
          "C++",
          "Python",
          "C",
          "Java",
          "PHP",
          "Bash/Shell",
          "PowerShell"
         ],
         "y": [
          19.189674948745044,
          12.63175007451161,
          6.808404307523716,
          5.477732318169092,
          10.587271911681915,
          9.597998572989766,
          4.3632192628318025,
          9.238536501657318,
          3.695775869076327,
          6.424556618286805,
          4.039582975828132,
          5.593940324479247,
          2.3515563142192235
         ]
        },
        {
         "name": "Women",
         "offsetgroup": "1",
         "type": "bar",
         "x": [
          "Other_langs",
          "JavaScript",
          "TypeScript",
          "C#",
          "HTML/CSS",
          "SQL",
          "C++",
          "Python",
          "C",
          "Java",
          "PHP",
          "Bash/Shell",
          "PowerShell"
         ],
         "y": [
          17.89222021194107,
          14.08632721633497,
          6.435771517187904,
          4.61359524424916,
          12.755233910571206,
          10.409666580511761,
          3.5861979839751874,
          9.440423882140088,
          2.991729128973895,
          6.758852416645128,
          4.23882140087878,
          4.807443783923494,
          1.983716722667356
         ]
        },
        {
         "name": "Other",
         "offsetgroup": "2",
         "type": "bar",
         "x": [
          "Other_langs",
          "JavaScript",
          "TypeScript",
          "C#",
          "HTML/CSS",
          "SQL",
          "C++",
          "Python",
          "C",
          "Java",
          "PHP",
          "Bash/Shell",
          "PowerShell"
         ],
         "y": [
          29.739710789766406,
          10.255839822024472,
          5.076751946607342,
          4.333704115684093,
          8.903225806451612,
          7.274749721913237,
          4.342602892102336,
          8.92992213570634,
          4.240266963292547,
          5.597330367074528,
          3.350389321468298,
          5.922135706340378,
          2.0333704115684093
         ]
        }
       ],
       "layout": {
        "template": {
         "data": {
          "bar": [
           {
            "error_x": {
             "color": "#2a3f5f"
            },
            "error_y": {
             "color": "#2a3f5f"
            },
            "marker": {
             "line": {
              "color": "#E5ECF6",
              "width": 0.5
             },
             "pattern": {
              "fillmode": "overlay",
              "size": 10,
              "solidity": 0.2
             }
            },
            "type": "bar"
           }
          ],
          "barpolar": [
           {
            "marker": {
             "line": {
              "color": "#E5ECF6",
              "width": 0.5
             },
             "pattern": {
              "fillmode": "overlay",
              "size": 10,
              "solidity": 0.2
             }
            },
            "type": "barpolar"
           }
          ],
          "carpet": [
           {
            "aaxis": {
             "endlinecolor": "#2a3f5f",
             "gridcolor": "white",
             "linecolor": "white",
             "minorgridcolor": "white",
             "startlinecolor": "#2a3f5f"
            },
            "baxis": {
             "endlinecolor": "#2a3f5f",
             "gridcolor": "white",
             "linecolor": "white",
             "minorgridcolor": "white",
             "startlinecolor": "#2a3f5f"
            },
            "type": "carpet"
           }
          ],
          "choropleth": [
           {
            "colorbar": {
             "outlinewidth": 0,
             "ticks": ""
            },
            "type": "choropleth"
           }
          ],
          "contour": [
           {
            "colorbar": {
             "outlinewidth": 0,
             "ticks": ""
            },
            "colorscale": [
             [
              0,
              "#0d0887"
             ],
             [
              0.1111111111111111,
              "#46039f"
             ],
             [
              0.2222222222222222,
              "#7201a8"
             ],
             [
              0.3333333333333333,
              "#9c179e"
             ],
             [
              0.4444444444444444,
              "#bd3786"
             ],
             [
              0.5555555555555556,
              "#d8576b"
             ],
             [
              0.6666666666666666,
              "#ed7953"
             ],
             [
              0.7777777777777778,
              "#fb9f3a"
             ],
             [
              0.8888888888888888,
              "#fdca26"
             ],
             [
              1,
              "#f0f921"
             ]
            ],
            "type": "contour"
           }
          ],
          "contourcarpet": [
           {
            "colorbar": {
             "outlinewidth": 0,
             "ticks": ""
            },
            "type": "contourcarpet"
           }
          ],
          "heatmap": [
           {
            "colorbar": {
             "outlinewidth": 0,
             "ticks": ""
            },
            "colorscale": [
             [
              0,
              "#0d0887"
             ],
             [
              0.1111111111111111,
              "#46039f"
             ],
             [
              0.2222222222222222,
              "#7201a8"
             ],
             [
              0.3333333333333333,
              "#9c179e"
             ],
             [
              0.4444444444444444,
              "#bd3786"
             ],
             [
              0.5555555555555556,
              "#d8576b"
             ],
             [
              0.6666666666666666,
              "#ed7953"
             ],
             [
              0.7777777777777778,
              "#fb9f3a"
             ],
             [
              0.8888888888888888,
              "#fdca26"
             ],
             [
              1,
              "#f0f921"
             ]
            ],
            "type": "heatmap"
           }
          ],
          "heatmapgl": [
           {
            "colorbar": {
             "outlinewidth": 0,
             "ticks": ""
            },
            "colorscale": [
             [
              0,
              "#0d0887"
             ],
             [
              0.1111111111111111,
              "#46039f"
             ],
             [
              0.2222222222222222,
              "#7201a8"
             ],
             [
              0.3333333333333333,
              "#9c179e"
             ],
             [
              0.4444444444444444,
              "#bd3786"
             ],
             [
              0.5555555555555556,
              "#d8576b"
             ],
             [
              0.6666666666666666,
              "#ed7953"
             ],
             [
              0.7777777777777778,
              "#fb9f3a"
             ],
             [
              0.8888888888888888,
              "#fdca26"
             ],
             [
              1,
              "#f0f921"
             ]
            ],
            "type": "heatmapgl"
           }
          ],
          "histogram": [
           {
            "marker": {
             "pattern": {
              "fillmode": "overlay",
              "size": 10,
              "solidity": 0.2
             }
            },
            "type": "histogram"
           }
          ],
          "histogram2d": [
           {
            "colorbar": {
             "outlinewidth": 0,
             "ticks": ""
            },
            "colorscale": [
             [
              0,
              "#0d0887"
             ],
             [
              0.1111111111111111,
              "#46039f"
             ],
             [
              0.2222222222222222,
              "#7201a8"
             ],
             [
              0.3333333333333333,
              "#9c179e"
             ],
             [
              0.4444444444444444,
              "#bd3786"
             ],
             [
              0.5555555555555556,
              "#d8576b"
             ],
             [
              0.6666666666666666,
              "#ed7953"
             ],
             [
              0.7777777777777778,
              "#fb9f3a"
             ],
             [
              0.8888888888888888,
              "#fdca26"
             ],
             [
              1,
              "#f0f921"
             ]
            ],
            "type": "histogram2d"
           }
          ],
          "histogram2dcontour": [
           {
            "colorbar": {
             "outlinewidth": 0,
             "ticks": ""
            },
            "colorscale": [
             [
              0,
              "#0d0887"
             ],
             [
              0.1111111111111111,
              "#46039f"
             ],
             [
              0.2222222222222222,
              "#7201a8"
             ],
             [
              0.3333333333333333,
              "#9c179e"
             ],
             [
              0.4444444444444444,
              "#bd3786"
             ],
             [
              0.5555555555555556,
              "#d8576b"
             ],
             [
              0.6666666666666666,
              "#ed7953"
             ],
             [
              0.7777777777777778,
              "#fb9f3a"
             ],
             [
              0.8888888888888888,
              "#fdca26"
             ],
             [
              1,
              "#f0f921"
             ]
            ],
            "type": "histogram2dcontour"
           }
          ],
          "mesh3d": [
           {
            "colorbar": {
             "outlinewidth": 0,
             "ticks": ""
            },
            "type": "mesh3d"
           }
          ],
          "parcoords": [
           {
            "line": {
             "colorbar": {
              "outlinewidth": 0,
              "ticks": ""
             }
            },
            "type": "parcoords"
           }
          ],
          "pie": [
           {
            "automargin": true,
            "type": "pie"
           }
          ],
          "scatter": [
           {
            "fillpattern": {
             "fillmode": "overlay",
             "size": 10,
             "solidity": 0.2
            },
            "type": "scatter"
           }
          ],
          "scatter3d": [
           {
            "line": {
             "colorbar": {
              "outlinewidth": 0,
              "ticks": ""
             }
            },
            "marker": {
             "colorbar": {
              "outlinewidth": 0,
              "ticks": ""
             }
            },
            "type": "scatter3d"
           }
          ],
          "scattercarpet": [
           {
            "marker": {
             "colorbar": {
              "outlinewidth": 0,
              "ticks": ""
             }
            },
            "type": "scattercarpet"
           }
          ],
          "scattergeo": [
           {
            "marker": {
             "colorbar": {
              "outlinewidth": 0,
              "ticks": ""
             }
            },
            "type": "scattergeo"
           }
          ],
          "scattergl": [
           {
            "marker": {
             "colorbar": {
              "outlinewidth": 0,
              "ticks": ""
             }
            },
            "type": "scattergl"
           }
          ],
          "scattermapbox": [
           {
            "marker": {
             "colorbar": {
              "outlinewidth": 0,
              "ticks": ""
             }
            },
            "type": "scattermapbox"
           }
          ],
          "scatterpolar": [
           {
            "marker": {
             "colorbar": {
              "outlinewidth": 0,
              "ticks": ""
             }
            },
            "type": "scatterpolar"
           }
          ],
          "scatterpolargl": [
           {
            "marker": {
             "colorbar": {
              "outlinewidth": 0,
              "ticks": ""
             }
            },
            "type": "scatterpolargl"
           }
          ],
          "scatterternary": [
           {
            "marker": {
             "colorbar": {
              "outlinewidth": 0,
              "ticks": ""
             }
            },
            "type": "scatterternary"
           }
          ],
          "surface": [
           {
            "colorbar": {
             "outlinewidth": 0,
             "ticks": ""
            },
            "colorscale": [
             [
              0,
              "#0d0887"
             ],
             [
              0.1111111111111111,
              "#46039f"
             ],
             [
              0.2222222222222222,
              "#7201a8"
             ],
             [
              0.3333333333333333,
              "#9c179e"
             ],
             [
              0.4444444444444444,
              "#bd3786"
             ],
             [
              0.5555555555555556,
              "#d8576b"
             ],
             [
              0.6666666666666666,
              "#ed7953"
             ],
             [
              0.7777777777777778,
              "#fb9f3a"
             ],
             [
              0.8888888888888888,
              "#fdca26"
             ],
             [
              1,
              "#f0f921"
             ]
            ],
            "type": "surface"
           }
          ],
          "table": [
           {
            "cells": {
             "fill": {
              "color": "#EBF0F8"
             },
             "line": {
              "color": "white"
             }
            },
            "header": {
             "fill": {
              "color": "#C8D4E3"
             },
             "line": {
              "color": "white"
             }
            },
            "type": "table"
           }
          ]
         },
         "layout": {
          "annotationdefaults": {
           "arrowcolor": "#2a3f5f",
           "arrowhead": 0,
           "arrowwidth": 1
          },
          "autotypenumbers": "strict",
          "coloraxis": {
           "colorbar": {
            "outlinewidth": 0,
            "ticks": ""
           }
          },
          "colorscale": {
           "diverging": [
            [
             0,
             "#8e0152"
            ],
            [
             0.1,
             "#c51b7d"
            ],
            [
             0.2,
             "#de77ae"
            ],
            [
             0.3,
             "#f1b6da"
            ],
            [
             0.4,
             "#fde0ef"
            ],
            [
             0.5,
             "#f7f7f7"
            ],
            [
             0.6,
             "#e6f5d0"
            ],
            [
             0.7,
             "#b8e186"
            ],
            [
             0.8,
             "#7fbc41"
            ],
            [
             0.9,
             "#4d9221"
            ],
            [
             1,
             "#276419"
            ]
           ],
           "sequential": [
            [
             0,
             "#0d0887"
            ],
            [
             0.1111111111111111,
             "#46039f"
            ],
            [
             0.2222222222222222,
             "#7201a8"
            ],
            [
             0.3333333333333333,
             "#9c179e"
            ],
            [
             0.4444444444444444,
             "#bd3786"
            ],
            [
             0.5555555555555556,
             "#d8576b"
            ],
            [
             0.6666666666666666,
             "#ed7953"
            ],
            [
             0.7777777777777778,
             "#fb9f3a"
            ],
            [
             0.8888888888888888,
             "#fdca26"
            ],
            [
             1,
             "#f0f921"
            ]
           ],
           "sequentialminus": [
            [
             0,
             "#0d0887"
            ],
            [
             0.1111111111111111,
             "#46039f"
            ],
            [
             0.2222222222222222,
             "#7201a8"
            ],
            [
             0.3333333333333333,
             "#9c179e"
            ],
            [
             0.4444444444444444,
             "#bd3786"
            ],
            [
             0.5555555555555556,
             "#d8576b"
            ],
            [
             0.6666666666666666,
             "#ed7953"
            ],
            [
             0.7777777777777778,
             "#fb9f3a"
            ],
            [
             0.8888888888888888,
             "#fdca26"
            ],
            [
             1,
             "#f0f921"
            ]
           ]
          },
          "colorway": [
           "#636efa",
           "#EF553B",
           "#00cc96",
           "#ab63fa",
           "#FFA15A",
           "#19d3f3",
           "#FF6692",
           "#B6E880",
           "#FF97FF",
           "#FECB52"
          ],
          "font": {
           "color": "#2a3f5f"
          },
          "geo": {
           "bgcolor": "white",
           "lakecolor": "white",
           "landcolor": "#E5ECF6",
           "showlakes": true,
           "showland": true,
           "subunitcolor": "white"
          },
          "hoverlabel": {
           "align": "left"
          },
          "hovermode": "closest",
          "mapbox": {
           "style": "light"
          },
          "paper_bgcolor": "white",
          "plot_bgcolor": "#E5ECF6",
          "polar": {
           "angularaxis": {
            "gridcolor": "white",
            "linecolor": "white",
            "ticks": ""
           },
           "bgcolor": "#E5ECF6",
           "radialaxis": {
            "gridcolor": "white",
            "linecolor": "white",
            "ticks": ""
           }
          },
          "scene": {
           "xaxis": {
            "backgroundcolor": "#E5ECF6",
            "gridcolor": "white",
            "gridwidth": 2,
            "linecolor": "white",
            "showbackground": true,
            "ticks": "",
            "zerolinecolor": "white"
           },
           "yaxis": {
            "backgroundcolor": "#E5ECF6",
            "gridcolor": "white",
            "gridwidth": 2,
            "linecolor": "white",
            "showbackground": true,
            "ticks": "",
            "zerolinecolor": "white"
           },
           "zaxis": {
            "backgroundcolor": "#E5ECF6",
            "gridcolor": "white",
            "gridwidth": 2,
            "linecolor": "white",
            "showbackground": true,
            "ticks": "",
            "zerolinecolor": "white"
           }
          },
          "shapedefaults": {
           "line": {
            "color": "#2a3f5f"
           }
          },
          "ternary": {
           "aaxis": {
            "gridcolor": "white",
            "linecolor": "white",
            "ticks": ""
           },
           "baxis": {
            "gridcolor": "white",
            "linecolor": "white",
            "ticks": ""
           },
           "bgcolor": "#E5ECF6",
           "caxis": {
            "gridcolor": "white",
            "linecolor": "white",
            "ticks": ""
           }
          },
          "title": {
           "x": 0.05
          },
          "xaxis": {
           "automargin": true,
           "gridcolor": "white",
           "linecolor": "white",
           "ticks": "",
           "title": {
            "standoff": 15
           },
           "zerolinecolor": "white",
           "zerolinewidth": 2
          },
          "yaxis": {
           "automargin": true,
           "gridcolor": "white",
           "linecolor": "white",
           "ticks": "",
           "title": {
            "standoff": 15
           },
           "zerolinecolor": "white",
           "zerolinewidth": 2
          }
         }
        },
        "title": {
         "text": "Lang by Gender"
        },
        "yaxis": {
         "title": {
          "text": "Percentage"
         }
        }
       }
      },
      "text/html": [
       "<div>                            <div id=\"51da5541-338f-48f3-ba1d-3ba862bccd10\" class=\"plotly-graph-div\" style=\"height:525px; width:100%;\"></div>            <script type=\"text/javascript\">                require([\"plotly\"], function(Plotly) {                    window.PLOTLYENV=window.PLOTLYENV || {};                                    if (document.getElementById(\"51da5541-338f-48f3-ba1d-3ba862bccd10\")) {                    Plotly.newPlot(                        \"51da5541-338f-48f3-ba1d-3ba862bccd10\",                        [{\"name\":\"Men\",\"offsetgroup\":\"0\",\"x\":[\"Other_langs\",\"JavaScript\",\"TypeScript\",\"C#\",\"HTML/CSS\",\"SQL\",\"C++\",\"Python\",\"C\",\"Java\",\"PHP\",\"Bash/Shell\",\"PowerShell\"],\"y\":[19.189674948745044,12.63175007451161,6.808404307523716,5.477732318169092,10.587271911681915,9.597998572989766,4.3632192628318025,9.238536501657318,3.695775869076327,6.424556618286805,4.039582975828132,5.593940324479247,2.3515563142192235],\"type\":\"bar\"},{\"name\":\"Women\",\"offsetgroup\":\"1\",\"x\":[\"Other_langs\",\"JavaScript\",\"TypeScript\",\"C#\",\"HTML/CSS\",\"SQL\",\"C++\",\"Python\",\"C\",\"Java\",\"PHP\",\"Bash/Shell\",\"PowerShell\"],\"y\":[17.89222021194107,14.08632721633497,6.435771517187904,4.61359524424916,12.755233910571206,10.409666580511761,3.5861979839751874,9.440423882140088,2.991729128973895,6.758852416645128,4.23882140087878,4.807443783923494,1.983716722667356],\"type\":\"bar\"},{\"name\":\"Other\",\"offsetgroup\":\"2\",\"x\":[\"Other_langs\",\"JavaScript\",\"TypeScript\",\"C#\",\"HTML/CSS\",\"SQL\",\"C++\",\"Python\",\"C\",\"Java\",\"PHP\",\"Bash/Shell\",\"PowerShell\"],\"y\":[29.739710789766406,10.255839822024472,5.076751946607342,4.333704115684093,8.903225806451612,7.274749721913237,4.342602892102336,8.92992213570634,4.240266963292547,5.597330367074528,3.350389321468298,5.922135706340378,2.0333704115684093],\"type\":\"bar\"}],                        {\"title\":{\"text\":\"Lang by Gender\"},\"yaxis\":{\"title\":{\"text\":\"Percentage\"}},\"template\":{\"data\":{\"histogram2dcontour\":[{\"type\":\"histogram2dcontour\",\"colorbar\":{\"outlinewidth\":0,\"ticks\":\"\"},\"colorscale\":[[0.0,\"#0d0887\"],[0.1111111111111111,\"#46039f\"],[0.2222222222222222,\"#7201a8\"],[0.3333333333333333,\"#9c179e\"],[0.4444444444444444,\"#bd3786\"],[0.5555555555555556,\"#d8576b\"],[0.6666666666666666,\"#ed7953\"],[0.7777777777777778,\"#fb9f3a\"],[0.8888888888888888,\"#fdca26\"],[1.0,\"#f0f921\"]]}],\"choropleth\":[{\"type\":\"choropleth\",\"colorbar\":{\"outlinewidth\":0,\"ticks\":\"\"}}],\"histogram2d\":[{\"type\":\"histogram2d\",\"colorbar\":{\"outlinewidth\":0,\"ticks\":\"\"},\"colorscale\":[[0.0,\"#0d0887\"],[0.1111111111111111,\"#46039f\"],[0.2222222222222222,\"#7201a8\"],[0.3333333333333333,\"#9c179e\"],[0.4444444444444444,\"#bd3786\"],[0.5555555555555556,\"#d8576b\"],[0.6666666666666666,\"#ed7953\"],[0.7777777777777778,\"#fb9f3a\"],[0.8888888888888888,\"#fdca26\"],[1.0,\"#f0f921\"]]}],\"heatmap\":[{\"type\":\"heatmap\",\"colorbar\":{\"outlinewidth\":0,\"ticks\":\"\"},\"colorscale\":[[0.0,\"#0d0887\"],[0.1111111111111111,\"#46039f\"],[0.2222222222222222,\"#7201a8\"],[0.3333333333333333,\"#9c179e\"],[0.4444444444444444,\"#bd3786\"],[0.5555555555555556,\"#d8576b\"],[0.6666666666666666,\"#ed7953\"],[0.7777777777777778,\"#fb9f3a\"],[0.8888888888888888,\"#fdca26\"],[1.0,\"#f0f921\"]]}],\"heatmapgl\":[{\"type\":\"heatmapgl\",\"colorbar\":{\"outlinewidth\":0,\"ticks\":\"\"},\"colorscale\":[[0.0,\"#0d0887\"],[0.1111111111111111,\"#46039f\"],[0.2222222222222222,\"#7201a8\"],[0.3333333333333333,\"#9c179e\"],[0.4444444444444444,\"#bd3786\"],[0.5555555555555556,\"#d8576b\"],[0.6666666666666666,\"#ed7953\"],[0.7777777777777778,\"#fb9f3a\"],[0.8888888888888888,\"#fdca26\"],[1.0,\"#f0f921\"]]}],\"contourcarpet\":[{\"type\":\"contourcarpet\",\"colorbar\":{\"outlinewidth\":0,\"ticks\":\"\"}}],\"contour\":[{\"type\":\"contour\",\"colorbar\":{\"outlinewidth\":0,\"ticks\":\"\"},\"colorscale\":[[0.0,\"#0d0887\"],[0.1111111111111111,\"#46039f\"],[0.2222222222222222,\"#7201a8\"],[0.3333333333333333,\"#9c179e\"],[0.4444444444444444,\"#bd3786\"],[0.5555555555555556,\"#d8576b\"],[0.6666666666666666,\"#ed7953\"],[0.7777777777777778,\"#fb9f3a\"],[0.8888888888888888,\"#fdca26\"],[1.0,\"#f0f921\"]]}],\"surface\":[{\"type\":\"surface\",\"colorbar\":{\"outlinewidth\":0,\"ticks\":\"\"},\"colorscale\":[[0.0,\"#0d0887\"],[0.1111111111111111,\"#46039f\"],[0.2222222222222222,\"#7201a8\"],[0.3333333333333333,\"#9c179e\"],[0.4444444444444444,\"#bd3786\"],[0.5555555555555556,\"#d8576b\"],[0.6666666666666666,\"#ed7953\"],[0.7777777777777778,\"#fb9f3a\"],[0.8888888888888888,\"#fdca26\"],[1.0,\"#f0f921\"]]}],\"mesh3d\":[{\"type\":\"mesh3d\",\"colorbar\":{\"outlinewidth\":0,\"ticks\":\"\"}}],\"scatter\":[{\"fillpattern\":{\"fillmode\":\"overlay\",\"size\":10,\"solidity\":0.2},\"type\":\"scatter\"}],\"parcoords\":[{\"type\":\"parcoords\",\"line\":{\"colorbar\":{\"outlinewidth\":0,\"ticks\":\"\"}}}],\"scatterpolargl\":[{\"type\":\"scatterpolargl\",\"marker\":{\"colorbar\":{\"outlinewidth\":0,\"ticks\":\"\"}}}],\"bar\":[{\"error_x\":{\"color\":\"#2a3f5f\"},\"error_y\":{\"color\":\"#2a3f5f\"},\"marker\":{\"line\":{\"color\":\"#E5ECF6\",\"width\":0.5},\"pattern\":{\"fillmode\":\"overlay\",\"size\":10,\"solidity\":0.2}},\"type\":\"bar\"}],\"scattergeo\":[{\"type\":\"scattergeo\",\"marker\":{\"colorbar\":{\"outlinewidth\":0,\"ticks\":\"\"}}}],\"scatterpolar\":[{\"type\":\"scatterpolar\",\"marker\":{\"colorbar\":{\"outlinewidth\":0,\"ticks\":\"\"}}}],\"histogram\":[{\"marker\":{\"pattern\":{\"fillmode\":\"overlay\",\"size\":10,\"solidity\":0.2}},\"type\":\"histogram\"}],\"scattergl\":[{\"type\":\"scattergl\",\"marker\":{\"colorbar\":{\"outlinewidth\":0,\"ticks\":\"\"}}}],\"scatter3d\":[{\"type\":\"scatter3d\",\"line\":{\"colorbar\":{\"outlinewidth\":0,\"ticks\":\"\"}},\"marker\":{\"colorbar\":{\"outlinewidth\":0,\"ticks\":\"\"}}}],\"scattermapbox\":[{\"type\":\"scattermapbox\",\"marker\":{\"colorbar\":{\"outlinewidth\":0,\"ticks\":\"\"}}}],\"scatterternary\":[{\"type\":\"scatterternary\",\"marker\":{\"colorbar\":{\"outlinewidth\":0,\"ticks\":\"\"}}}],\"scattercarpet\":[{\"type\":\"scattercarpet\",\"marker\":{\"colorbar\":{\"outlinewidth\":0,\"ticks\":\"\"}}}],\"carpet\":[{\"aaxis\":{\"endlinecolor\":\"#2a3f5f\",\"gridcolor\":\"white\",\"linecolor\":\"white\",\"minorgridcolor\":\"white\",\"startlinecolor\":\"#2a3f5f\"},\"baxis\":{\"endlinecolor\":\"#2a3f5f\",\"gridcolor\":\"white\",\"linecolor\":\"white\",\"minorgridcolor\":\"white\",\"startlinecolor\":\"#2a3f5f\"},\"type\":\"carpet\"}],\"table\":[{\"cells\":{\"fill\":{\"color\":\"#EBF0F8\"},\"line\":{\"color\":\"white\"}},\"header\":{\"fill\":{\"color\":\"#C8D4E3\"},\"line\":{\"color\":\"white\"}},\"type\":\"table\"}],\"barpolar\":[{\"marker\":{\"line\":{\"color\":\"#E5ECF6\",\"width\":0.5},\"pattern\":{\"fillmode\":\"overlay\",\"size\":10,\"solidity\":0.2}},\"type\":\"barpolar\"}],\"pie\":[{\"automargin\":true,\"type\":\"pie\"}]},\"layout\":{\"autotypenumbers\":\"strict\",\"colorway\":[\"#636efa\",\"#EF553B\",\"#00cc96\",\"#ab63fa\",\"#FFA15A\",\"#19d3f3\",\"#FF6692\",\"#B6E880\",\"#FF97FF\",\"#FECB52\"],\"font\":{\"color\":\"#2a3f5f\"},\"hovermode\":\"closest\",\"hoverlabel\":{\"align\":\"left\"},\"paper_bgcolor\":\"white\",\"plot_bgcolor\":\"#E5ECF6\",\"polar\":{\"bgcolor\":\"#E5ECF6\",\"angularaxis\":{\"gridcolor\":\"white\",\"linecolor\":\"white\",\"ticks\":\"\"},\"radialaxis\":{\"gridcolor\":\"white\",\"linecolor\":\"white\",\"ticks\":\"\"}},\"ternary\":{\"bgcolor\":\"#E5ECF6\",\"aaxis\":{\"gridcolor\":\"white\",\"linecolor\":\"white\",\"ticks\":\"\"},\"baxis\":{\"gridcolor\":\"white\",\"linecolor\":\"white\",\"ticks\":\"\"},\"caxis\":{\"gridcolor\":\"white\",\"linecolor\":\"white\",\"ticks\":\"\"}},\"coloraxis\":{\"colorbar\":{\"outlinewidth\":0,\"ticks\":\"\"}},\"colorscale\":{\"sequential\":[[0.0,\"#0d0887\"],[0.1111111111111111,\"#46039f\"],[0.2222222222222222,\"#7201a8\"],[0.3333333333333333,\"#9c179e\"],[0.4444444444444444,\"#bd3786\"],[0.5555555555555556,\"#d8576b\"],[0.6666666666666666,\"#ed7953\"],[0.7777777777777778,\"#fb9f3a\"],[0.8888888888888888,\"#fdca26\"],[1.0,\"#f0f921\"]],\"sequentialminus\":[[0.0,\"#0d0887\"],[0.1111111111111111,\"#46039f\"],[0.2222222222222222,\"#7201a8\"],[0.3333333333333333,\"#9c179e\"],[0.4444444444444444,\"#bd3786\"],[0.5555555555555556,\"#d8576b\"],[0.6666666666666666,\"#ed7953\"],[0.7777777777777778,\"#fb9f3a\"],[0.8888888888888888,\"#fdca26\"],[1.0,\"#f0f921\"]],\"diverging\":[[0,\"#8e0152\"],[0.1,\"#c51b7d\"],[0.2,\"#de77ae\"],[0.3,\"#f1b6da\"],[0.4,\"#fde0ef\"],[0.5,\"#f7f7f7\"],[0.6,\"#e6f5d0\"],[0.7,\"#b8e186\"],[0.8,\"#7fbc41\"],[0.9,\"#4d9221\"],[1,\"#276419\"]]},\"xaxis\":{\"gridcolor\":\"white\",\"linecolor\":\"white\",\"ticks\":\"\",\"title\":{\"standoff\":15},\"zerolinecolor\":\"white\",\"automargin\":true,\"zerolinewidth\":2},\"yaxis\":{\"gridcolor\":\"white\",\"linecolor\":\"white\",\"ticks\":\"\",\"title\":{\"standoff\":15},\"zerolinecolor\":\"white\",\"automargin\":true,\"zerolinewidth\":2},\"scene\":{\"xaxis\":{\"backgroundcolor\":\"#E5ECF6\",\"gridcolor\":\"white\",\"linecolor\":\"white\",\"showbackground\":true,\"ticks\":\"\",\"zerolinecolor\":\"white\",\"gridwidth\":2},\"yaxis\":{\"backgroundcolor\":\"#E5ECF6\",\"gridcolor\":\"white\",\"linecolor\":\"white\",\"showbackground\":true,\"ticks\":\"\",\"zerolinecolor\":\"white\",\"gridwidth\":2},\"zaxis\":{\"backgroundcolor\":\"#E5ECF6\",\"gridcolor\":\"white\",\"linecolor\":\"white\",\"showbackground\":true,\"ticks\":\"\",\"zerolinecolor\":\"white\",\"gridwidth\":2}},\"shapedefaults\":{\"line\":{\"color\":\"#2a3f5f\"}},\"annotationdefaults\":{\"arrowcolor\":\"#2a3f5f\",\"arrowhead\":0,\"arrowwidth\":1},\"geo\":{\"bgcolor\":\"white\",\"landcolor\":\"#E5ECF6\",\"subunitcolor\":\"white\",\"showland\":true,\"showlakes\":true,\"lakecolor\":\"white\"},\"title\":{\"x\":0.05},\"mapbox\":{\"style\":\"light\"}}}},                        {\"responsive\": true}                    ).then(function(){\n",
       "                            \n",
       "var gd = document.getElementById('51da5541-338f-48f3-ba1d-3ba862bccd10');\n",
       "var x = new MutationObserver(function (mutations, observer) {{\n",
       "        var display = window.getComputedStyle(gd).display;\n",
       "        if (!display || display === 'none') {{\n",
       "            console.log([gd, 'removed!']);\n",
       "            Plotly.purge(gd);\n",
       "            observer.disconnect();\n",
       "        }}\n",
       "}});\n",
       "\n",
       "// Listen for the removal of the full notebook cells\n",
       "var notebookContainer = gd.closest('#notebook-container');\n",
       "if (notebookContainer) {{\n",
       "    x.observe(notebookContainer, {childList: true});\n",
       "}}\n",
       "\n",
       "// Listen for the clearing of the current output cell\n",
       "var outputEl = gd.closest('.output');\n",
       "if (outputEl) {{\n",
       "    x.observe(outputEl, {childList: true});\n",
       "}}\n",
       "\n",
       "                        })                };                });            </script>        </div>"
      ]
     },
     "metadata": {},
     "output_type": "display_data"
    }
   ],
   "source": [
    "from plotly import graph_objects as go\n",
    "\n",
    "fig2 = go.Figure(\n",
    "    data=[\n",
    "        go.Bar(\n",
    "            name=\"Men\",\n",
    "            x=df_new_rel.columns[1:],\n",
    "            y=df_new_rel.iloc[1, 1:],\n",
    "            offsetgroup=0,\n",
    "        ),\n",
    "        go.Bar(\n",
    "            name=\"Women\",\n",
    "            x=df_new_rel.columns[1:],\n",
    "            y=df_new_rel.iloc[2, 1:],\n",
    "            offsetgroup=1,\n",
    "        ),\n",
    "        go.Bar(\n",
    "            name=\"Other\",\n",
    "            x=df_new_rel.columns[1:],\n",
    "            y=df_new_rel.iloc[0, 1:],\n",
    "            offsetgroup=2,\n",
    "        )\n",
    "    ],\n",
    "    layout=go.Layout(\n",
    "        title=\"Lang by Gender\",\n",
    "        yaxis_title=\"Percentage\"\n",
    "    )\n",
    ")\n",
    "fig2.show()"
   ]
  },
  {
   "cell_type": "code",
   "execution_count": 84,
   "id": "69a76f33",
   "metadata": {},
   "outputs": [
    {
     "data": {
      "text/plain": [
       "Other_langs    19.189675\n",
       "JavaScript     12.631750\n",
       "TypeScript      6.808404\n",
       "C#              5.477732\n",
       "HTML/CSS       10.587272\n",
       "SQL             9.597999\n",
       "C++             4.363219\n",
       "Python          9.238537\n",
       "C               3.695776\n",
       "Java            6.424557\n",
       "PHP             4.039583\n",
       "Bash/Shell      5.593940\n",
       "PowerShell      2.351556\n",
       "Name: Man, dtype: float64"
      ]
     },
     "execution_count": 84,
     "metadata": {},
     "output_type": "execute_result"
    }
   ],
   "source": [
    "df_new_rel.iloc[1, 1:]"
   ]
  },
  {
   "cell_type": "code",
   "execution_count": 90,
   "id": "9a50bc0a",
   "metadata": {},
   "outputs": [
    {
     "data": {
      "text/plain": [
       "[{'Gender': 'Other',\n",
       "  'Total': 5262,\n",
       "  'Other_langs': 6684,\n",
       "  'JavaScript': 2305,\n",
       "  'TypeScript': 1141,\n",
       "  'C#': 974,\n",
       "  'HTML/CSS': 2001,\n",
       "  'SQL': 1635,\n",
       "  'C++': 976,\n",
       "  'Python': 2007,\n",
       "  'C': 953,\n",
       "  'Java': 1258,\n",
       "  'PHP': 753,\n",
       "  'Bash/Shell': 1331,\n",
       "  'PowerShell': 457},\n",
       " {'Gender': 'Man',\n",
       "  'Total': 64607,\n",
       "  'C#': 18195,\n",
       "  'C++': 14493,\n",
       "  'HTML/CSS': 35167,\n",
       "  'JavaScript': 41958,\n",
       "  'Python': 30687,\n",
       "  'SQL': 31881,\n",
       "  'TypeScript': 22615,\n",
       "  'PHP': 13418,\n",
       "  'C': 12276,\n",
       "  'Java': 21340,\n",
       "  'Bash/Shell': 18581,\n",
       "  'PowerShell': 7811,\n",
       "  'Other_langs': 63741},\n",
       " {'Gender': 'Woman',\n",
       "  'Total': 3399,\n",
       "  'Other_langs': 2769,\n",
       "  'Java': 1046,\n",
       "  'HTML/CSS': 1974,\n",
       "  'JavaScript': 2180,\n",
       "  'SQL': 1611,\n",
       "  'TypeScript': 996,\n",
       "  'Python': 1461,\n",
       "  'Bash/Shell': 744,\n",
       "  'C': 463,\n",
       "  'C++': 555,\n",
       "  'PHP': 656,\n",
       "  'C#': 714,\n",
       "  'PowerShell': 307}]"
      ]
     },
     "execution_count": 90,
     "metadata": {},
     "output_type": "execute_result"
    }
   ],
   "source": [
    "langs_by_gender"
   ]
  },
  {
   "cell_type": "code",
   "execution_count": 92,
   "id": "97a33c94",
   "metadata": {},
   "outputs": [
    {
     "data": {
      "text/plain": [
       "[('JavaScript', 41958),\n",
       " ('HTML/CSS', 35167),\n",
       " ('SQL', 31881),\n",
       " ('Python', 30687),\n",
       " ('TypeScript', 22615),\n",
       " ('Java', 21340),\n",
       " ('Bash/Shell', 18581),\n",
       " ('C#', 18195),\n",
       " ('C++', 14493),\n",
       " ('PHP', 13418),\n",
       " ('C', 12276),\n",
       " ('PowerShell', 7811),\n",
       " ('Go', 7219),\n",
       " ('Rust', 5913),\n",
       " ('Kotlin', 5912),\n",
       " ('Dart', 4279),\n",
       " ('Ruby', 3786),\n",
       " ('Assembly', 3406),\n",
       " ('Swift', 3127),\n",
       " ('R', 2877),\n",
       " ('VBA', 2876),\n",
       " ('MATLAB', 2566),\n",
       " ('Lua', 2488),\n",
       " ('Delphi', 2168),\n",
       " ('Groovy', 2121),\n",
       " ('Scala', 1636),\n",
       " ('Objective-C', 1531),\n",
       " ('Perl', 1431),\n",
       " ('Elixir', 1364),\n",
       " ('Haskell', 1341),\n",
       " ('Clojure', 948),\n",
       " ('Julia', 935),\n",
       " ('Solidity', 932),\n",
       " ('LISP', 789),\n",
       " ('F#', 659),\n",
       " ('nan', 600),\n",
       " ('Fortran', 554),\n",
       " ('Erlang', 547),\n",
       " ('COBOL', 392),\n",
       " ('APL', 366),\n",
       " ('SAS', 352),\n",
       " ('OCaml', 350),\n",
       " ('Crystal', 276)]"
      ]
     },
     "execution_count": 92,
     "metadata": {},
     "output_type": "execute_result"
    }
   ],
   "source": [
    "gender_langs[\"Man\"][\"language_counter\"].most_common()"
   ]
  },
  {
   "cell_type": "code",
   "execution_count": 93,
   "id": "3ce7d5e7",
   "metadata": {},
   "outputs": [
    {
     "data": {
      "text/html": [
       "<div>\n",
       "<style scoped>\n",
       "    .dataframe tbody tr th:only-of-type {\n",
       "        vertical-align: middle;\n",
       "    }\n",
       "\n",
       "    .dataframe tbody tr th {\n",
       "        vertical-align: top;\n",
       "    }\n",
       "\n",
       "    .dataframe thead th {\n",
       "        text-align: right;\n",
       "    }\n",
       "</style>\n",
       "<table border=\"1\" class=\"dataframe\">\n",
       "  <thead>\n",
       "    <tr style=\"text-align: right;\">\n",
       "      <th></th>\n",
       "      <th>Man</th>\n",
       "      <th>Woman</th>\n",
       "      <th>Other</th>\n",
       "    </tr>\n",
       "  </thead>\n",
       "  <tbody>\n",
       "    <tr>\n",
       "      <th>0</th>\n",
       "      <td>JavaScript</td>\n",
       "      <td>JavaScript</td>\n",
       "      <td>JavaScript</td>\n",
       "    </tr>\n",
       "    <tr>\n",
       "      <th>1</th>\n",
       "      <td>HTML/CSS</td>\n",
       "      <td>HTML/CSS</td>\n",
       "      <td>Python</td>\n",
       "    </tr>\n",
       "    <tr>\n",
       "      <th>2</th>\n",
       "      <td>SQL</td>\n",
       "      <td>SQL</td>\n",
       "      <td>HTML/CSS</td>\n",
       "    </tr>\n",
       "    <tr>\n",
       "      <th>3</th>\n",
       "      <td>Python</td>\n",
       "      <td>Python</td>\n",
       "      <td>SQL</td>\n",
       "    </tr>\n",
       "    <tr>\n",
       "      <th>4</th>\n",
       "      <td>TypeScript</td>\n",
       "      <td>Java</td>\n",
       "      <td>nan</td>\n",
       "    </tr>\n",
       "    <tr>\n",
       "      <th>5</th>\n",
       "      <td>Java</td>\n",
       "      <td>TypeScript</td>\n",
       "      <td>Bash/Shell</td>\n",
       "    </tr>\n",
       "    <tr>\n",
       "      <th>6</th>\n",
       "      <td>Bash/Shell</td>\n",
       "      <td>Bash/Shell</td>\n",
       "      <td>Java</td>\n",
       "    </tr>\n",
       "    <tr>\n",
       "      <th>7</th>\n",
       "      <td>C#</td>\n",
       "      <td>C#</td>\n",
       "      <td>TypeScript</td>\n",
       "    </tr>\n",
       "    <tr>\n",
       "      <th>8</th>\n",
       "      <td>C++</td>\n",
       "      <td>PHP</td>\n",
       "      <td>C++</td>\n",
       "    </tr>\n",
       "    <tr>\n",
       "      <th>9</th>\n",
       "      <td>PHP</td>\n",
       "      <td>C++</td>\n",
       "      <td>C#</td>\n",
       "    </tr>\n",
       "    <tr>\n",
       "      <th>10</th>\n",
       "      <td>C</td>\n",
       "      <td>C</td>\n",
       "      <td>C</td>\n",
       "    </tr>\n",
       "    <tr>\n",
       "      <th>11</th>\n",
       "      <td>PowerShell</td>\n",
       "      <td>PowerShell</td>\n",
       "      <td>PHP</td>\n",
       "    </tr>\n",
       "    <tr>\n",
       "      <th>12</th>\n",
       "      <td>Go</td>\n",
       "      <td>Ruby</td>\n",
       "      <td>Rust</td>\n",
       "    </tr>\n",
       "    <tr>\n",
       "      <th>13</th>\n",
       "      <td>Rust</td>\n",
       "      <td>Kotlin</td>\n",
       "      <td>Go</td>\n",
       "    </tr>\n",
       "    <tr>\n",
       "      <th>14</th>\n",
       "      <td>Kotlin</td>\n",
       "      <td>R</td>\n",
       "      <td>PowerShell</td>\n",
       "    </tr>\n",
       "    <tr>\n",
       "      <th>15</th>\n",
       "      <td>Dart</td>\n",
       "      <td>Go</td>\n",
       "      <td>Kotlin</td>\n",
       "    </tr>\n",
       "    <tr>\n",
       "      <th>16</th>\n",
       "      <td>Ruby</td>\n",
       "      <td>Swift</td>\n",
       "      <td>Assembly</td>\n",
       "    </tr>\n",
       "    <tr>\n",
       "      <th>17</th>\n",
       "      <td>Assembly</td>\n",
       "      <td>MATLAB</td>\n",
       "      <td>Ruby</td>\n",
       "    </tr>\n",
       "    <tr>\n",
       "      <th>18</th>\n",
       "      <td>Swift</td>\n",
       "      <td>Rust</td>\n",
       "      <td>Lua</td>\n",
       "    </tr>\n",
       "    <tr>\n",
       "      <th>19</th>\n",
       "      <td>R</td>\n",
       "      <td>Dart</td>\n",
       "      <td>Dart</td>\n",
       "    </tr>\n",
       "    <tr>\n",
       "      <th>20</th>\n",
       "      <td>VBA</td>\n",
       "      <td>Assembly</td>\n",
       "      <td>R</td>\n",
       "    </tr>\n",
       "    <tr>\n",
       "      <th>21</th>\n",
       "      <td>MATLAB</td>\n",
       "      <td>VBA</td>\n",
       "      <td>VBA</td>\n",
       "    </tr>\n",
       "    <tr>\n",
       "      <th>22</th>\n",
       "      <td>Lua</td>\n",
       "      <td>Lua</td>\n",
       "      <td>Swift</td>\n",
       "    </tr>\n",
       "    <tr>\n",
       "      <th>23</th>\n",
       "      <td>Delphi</td>\n",
       "      <td>Groovy</td>\n",
       "      <td>MATLAB</td>\n",
       "    </tr>\n",
       "    <tr>\n",
       "      <th>24</th>\n",
       "      <td>Groovy</td>\n",
       "      <td>Scala</td>\n",
       "      <td>Haskell</td>\n",
       "    </tr>\n",
       "    <tr>\n",
       "      <th>25</th>\n",
       "      <td>Scala</td>\n",
       "      <td>nan</td>\n",
       "      <td>Perl</td>\n",
       "    </tr>\n",
       "    <tr>\n",
       "      <th>26</th>\n",
       "      <td>Objective-C</td>\n",
       "      <td>Haskell</td>\n",
       "      <td>Groovy</td>\n",
       "    </tr>\n",
       "    <tr>\n",
       "      <th>27</th>\n",
       "      <td>Perl</td>\n",
       "      <td>Perl</td>\n",
       "      <td>Scala</td>\n",
       "    </tr>\n",
       "    <tr>\n",
       "      <th>28</th>\n",
       "      <td>Elixir</td>\n",
       "      <td>Objective-C</td>\n",
       "      <td>LISP</td>\n",
       "    </tr>\n",
       "    <tr>\n",
       "      <th>29</th>\n",
       "      <td>Haskell</td>\n",
       "      <td>APL</td>\n",
       "      <td>Julia</td>\n",
       "    </tr>\n",
       "    <tr>\n",
       "      <th>30</th>\n",
       "      <td>Clojure</td>\n",
       "      <td>Elixir</td>\n",
       "      <td>Elixir</td>\n",
       "    </tr>\n",
       "    <tr>\n",
       "      <th>31</th>\n",
       "      <td>Julia</td>\n",
       "      <td>SAS</td>\n",
       "      <td>Delphi</td>\n",
       "    </tr>\n",
       "    <tr>\n",
       "      <th>32</th>\n",
       "      <td>Solidity</td>\n",
       "      <td>Clojure</td>\n",
       "      <td>Objective-C</td>\n",
       "    </tr>\n",
       "    <tr>\n",
       "      <th>33</th>\n",
       "      <td>LISP</td>\n",
       "      <td>Delphi</td>\n",
       "      <td>APL</td>\n",
       "    </tr>\n",
       "    <tr>\n",
       "      <th>34</th>\n",
       "      <td>F#</td>\n",
       "      <td>Julia</td>\n",
       "      <td>Clojure</td>\n",
       "    </tr>\n",
       "    <tr>\n",
       "      <th>35</th>\n",
       "      <td>nan</td>\n",
       "      <td>Solidity</td>\n",
       "      <td>Erlang</td>\n",
       "    </tr>\n",
       "    <tr>\n",
       "      <th>36</th>\n",
       "      <td>Fortran</td>\n",
       "      <td>LISP</td>\n",
       "      <td>Solidity</td>\n",
       "    </tr>\n",
       "    <tr>\n",
       "      <th>37</th>\n",
       "      <td>Erlang</td>\n",
       "      <td>Fortran</td>\n",
       "      <td>Fortran</td>\n",
       "    </tr>\n",
       "    <tr>\n",
       "      <th>38</th>\n",
       "      <td>COBOL</td>\n",
       "      <td>Erlang</td>\n",
       "      <td>OCaml</td>\n",
       "    </tr>\n",
       "    <tr>\n",
       "      <th>39</th>\n",
       "      <td>APL</td>\n",
       "      <td>COBOL</td>\n",
       "      <td>F#</td>\n",
       "    </tr>\n",
       "    <tr>\n",
       "      <th>40</th>\n",
       "      <td>SAS</td>\n",
       "      <td>Crystal</td>\n",
       "      <td>COBOL</td>\n",
       "    </tr>\n",
       "    <tr>\n",
       "      <th>41</th>\n",
       "      <td>OCaml</td>\n",
       "      <td>F#</td>\n",
       "      <td>Crystal</td>\n",
       "    </tr>\n",
       "    <tr>\n",
       "      <th>42</th>\n",
       "      <td>Crystal</td>\n",
       "      <td>OCaml</td>\n",
       "      <td>SAS</td>\n",
       "    </tr>\n",
       "  </tbody>\n",
       "</table>\n",
       "</div>"
      ],
      "text/plain": [
       "            Man        Woman        Other\n",
       "0    JavaScript   JavaScript   JavaScript\n",
       "1      HTML/CSS     HTML/CSS       Python\n",
       "2           SQL          SQL     HTML/CSS\n",
       "3        Python       Python          SQL\n",
       "4    TypeScript         Java          nan\n",
       "5          Java   TypeScript   Bash/Shell\n",
       "6    Bash/Shell   Bash/Shell         Java\n",
       "7            C#           C#   TypeScript\n",
       "8           C++          PHP          C++\n",
       "9           PHP          C++           C#\n",
       "10            C            C            C\n",
       "11   PowerShell   PowerShell          PHP\n",
       "12           Go         Ruby         Rust\n",
       "13         Rust       Kotlin           Go\n",
       "14       Kotlin            R   PowerShell\n",
       "15         Dart           Go       Kotlin\n",
       "16         Ruby        Swift     Assembly\n",
       "17     Assembly       MATLAB         Ruby\n",
       "18        Swift         Rust          Lua\n",
       "19            R         Dart         Dart\n",
       "20          VBA     Assembly            R\n",
       "21       MATLAB          VBA          VBA\n",
       "22          Lua          Lua        Swift\n",
       "23       Delphi       Groovy       MATLAB\n",
       "24       Groovy        Scala      Haskell\n",
       "25        Scala          nan         Perl\n",
       "26  Objective-C      Haskell       Groovy\n",
       "27         Perl         Perl        Scala\n",
       "28       Elixir  Objective-C         LISP\n",
       "29      Haskell          APL        Julia\n",
       "30      Clojure       Elixir       Elixir\n",
       "31        Julia          SAS       Delphi\n",
       "32     Solidity      Clojure  Objective-C\n",
       "33         LISP       Delphi          APL\n",
       "34           F#        Julia      Clojure\n",
       "35          nan     Solidity       Erlang\n",
       "36      Fortran         LISP     Solidity\n",
       "37       Erlang      Fortran      Fortran\n",
       "38        COBOL       Erlang        OCaml\n",
       "39          APL        COBOL           F#\n",
       "40          SAS      Crystal        COBOL\n",
       "41        OCaml           F#      Crystal\n",
       "42      Crystal        OCaml          SAS"
      ]
     },
     "execution_count": 93,
     "metadata": {},
     "output_type": "execute_result"
    }
   ],
   "source": [
    "d_tbl = {\n",
    "    \"Man\": [l[0] for l in gender_langs[\"Man\"][\"language_counter\"].most_common()],\n",
    "    \"Woman\": [l[0] for l in gender_langs[\"Woman\"][\"language_counter\"].most_common()],\n",
    "    \"Other\": [l[0] for l in gender_langs[\"Other\"][\"language_counter\"].most_common()]\n",
    "}\n",
    "\n",
    "df_tbl = pd.DataFrame(d_tbl)\n",
    "\n",
    "df_tbl"
   ]
  },
  {
   "cell_type": "code",
   "execution_count": null,
   "id": "262279cd",
   "metadata": {},
   "outputs": [],
   "source": []
  }
 ],
 "metadata": {
  "kernelspec": {
   "display_name": "Python 3 (ipykernel)",
   "language": "python",
   "name": "python3"
  },
  "language_info": {
   "codemirror_mode": {
    "name": "ipython",
    "version": 3
   },
   "file_extension": ".py",
   "mimetype": "text/x-python",
   "name": "python",
   "nbconvert_exporter": "python",
   "pygments_lexer": "ipython3",
   "version": "3.9.12"
  }
 },
 "nbformat": 4,
 "nbformat_minor": 5
}
