{
 "cells": [
  {
   "cell_type": "code",
   "execution_count": 2,
   "id": "b4ef5293",
   "metadata": {},
   "outputs": [],
   "source": [
    "import pandas as pd\n",
    "\n",
    "\n",
    "df2022 = pd.read_csv(\"../rawdata/2022/survey_results_public.csv\", dtype=str)\n",
    "df2021 = pd.read_csv(\"../rawdata/2021/survey_results_public.csv\", dtype=str)\n",
    "df2020 = pd.read_csv(\"../rawdata/2020/survey_results_public.csv\", dtype=str)\n",
    "df2019 = pd.read_csv(\"../rawdata/2019/survey_results_public.csv\", dtype=str)\n",
    "df2018 = pd.read_csv(\"../rawdata/2018/survey_results_public.csv\", dtype=str)\n",
    "df2017 = pd.read_csv(\"../rawdata/2017/survey_results_public.csv\", dtype=str)\n"
   ]
  },
  {
   "cell_type": "code",
   "execution_count": 3,
   "id": "48de250f",
   "metadata": {},
   "outputs": [
    {
     "data": {
      "text/plain": [
       "Index(['ResponseId', 'MainBranch', 'Employment', 'RemoteWork',\n",
       "       'CodingActivities', 'EdLevel', 'LearnCode', 'LearnCodeOnline',\n",
       "       'LearnCodeCoursesCert', 'YearsCode', 'YearsCodePro', 'DevType',\n",
       "       'OrgSize', 'PurchaseInfluence', 'BuyNewTool', 'Country', 'Currency',\n",
       "       'CompTotal', 'CompFreq', 'LanguageHaveWorkedWith',\n",
       "       'LanguageWantToWorkWith', 'DatabaseHaveWorkedWith',\n",
       "       'DatabaseWantToWorkWith', 'PlatformHaveWorkedWith',\n",
       "       'PlatformWantToWorkWith', 'WebframeHaveWorkedWith',\n",
       "       'WebframeWantToWorkWith', 'MiscTechHaveWorkedWith',\n",
       "       'MiscTechWantToWorkWith', 'ToolsTechHaveWorkedWith',\n",
       "       'ToolsTechWantToWorkWith', 'NEWCollabToolsHaveWorkedWith',\n",
       "       'NEWCollabToolsWantToWorkWith', 'OpSysProfessional use',\n",
       "       'OpSysPersonal use', 'VersionControlSystem', 'VCInteraction',\n",
       "       'VCHostingPersonal use', 'VCHostingProfessional use',\n",
       "       'OfficeStackAsyncHaveWorkedWith', 'OfficeStackAsyncWantToWorkWith',\n",
       "       'OfficeStackSyncHaveWorkedWith', 'OfficeStackSyncWantToWorkWith',\n",
       "       'Blockchain', 'NEWSOSites', 'SOVisitFreq', 'SOAccount', 'SOPartFreq',\n",
       "       'SOComm', 'Age', 'Gender', 'Trans', 'Sexuality', 'Ethnicity',\n",
       "       'Accessibility', 'MentalHealth', 'TBranch', 'ICorPM', 'WorkExp',\n",
       "       'Knowledge_1', 'Knowledge_2', 'Knowledge_3', 'Knowledge_4',\n",
       "       'Knowledge_5', 'Knowledge_6', 'Knowledge_7', 'Frequency_1',\n",
       "       'Frequency_2', 'Frequency_3', 'TimeSearching', 'TimeAnswering',\n",
       "       'Onboarding', 'ProfessionalTech', 'TrueFalse_1', 'TrueFalse_2',\n",
       "       'TrueFalse_3', 'SurveyLength', 'SurveyEase', 'ConvertedCompYearly'],\n",
       "      dtype='object')"
      ]
     },
     "execution_count": 3,
     "metadata": {},
     "output_type": "execute_result"
    }
   ],
   "source": [
    "df2022.columns"
   ]
  },
  {
   "cell_type": "code",
   "execution_count": 4,
   "id": "de01c717",
   "metadata": {},
   "outputs": [
    {
     "data": {
      "text/plain": [
       "Index(['ResponseId', 'MainBranch', 'Employment', 'Country', 'US_State',\n",
       "       'UK_Country', 'EdLevel', 'Age1stCode', 'LearnCode', 'YearsCode',\n",
       "       'YearsCodePro', 'DevType', 'OrgSize', 'Currency', 'CompTotal',\n",
       "       'CompFreq', 'LanguageHaveWorkedWith', 'LanguageWantToWorkWith',\n",
       "       'DatabaseHaveWorkedWith', 'DatabaseWantToWorkWith',\n",
       "       'PlatformHaveWorkedWith', 'PlatformWantToWorkWith',\n",
       "       'WebframeHaveWorkedWith', 'WebframeWantToWorkWith',\n",
       "       'MiscTechHaveWorkedWith', 'MiscTechWantToWorkWith',\n",
       "       'ToolsTechHaveWorkedWith', 'ToolsTechWantToWorkWith',\n",
       "       'NEWCollabToolsHaveWorkedWith', 'NEWCollabToolsWantToWorkWith', 'OpSys',\n",
       "       'NEWStuck', 'NEWSOSites', 'SOVisitFreq', 'SOAccount', 'SOPartFreq',\n",
       "       'SOComm', 'NEWOtherComms', 'Age', 'Gender', 'Trans', 'Sexuality',\n",
       "       'Ethnicity', 'Accessibility', 'MentalHealth', 'SurveyLength',\n",
       "       'SurveyEase', 'ConvertedCompYearly'],\n",
       "      dtype='object')"
      ]
     },
     "execution_count": 4,
     "metadata": {},
     "output_type": "execute_result"
    }
   ],
   "source": [
    "df2021.columns"
   ]
  },
  {
   "cell_type": "code",
   "execution_count": 5,
   "id": "70d0e341",
   "metadata": {},
   "outputs": [
    {
     "data": {
      "text/plain": [
       "'LanguageHaveWorkedWith'"
      ]
     },
     "execution_count": 5,
     "metadata": {},
     "output_type": "execute_result"
    }
   ],
   "source": [
    "df2022.columns[19]"
   ]
  },
  {
   "cell_type": "code",
   "execution_count": 6,
   "id": "a5b6653f",
   "metadata": {},
   "outputs": [
    {
     "data": {
      "text/plain": [
       "'LanguageHaveWorkedWith'"
      ]
     },
     "execution_count": 6,
     "metadata": {},
     "output_type": "execute_result"
    }
   ],
   "source": [
    "df2021.columns[16]"
   ]
  },
  {
   "cell_type": "code",
   "execution_count": 7,
   "id": "079b1428",
   "metadata": {},
   "outputs": [
    {
     "data": {
      "text/plain": [
       "True"
      ]
     },
     "execution_count": 7,
     "metadata": {},
     "output_type": "execute_result"
    }
   ],
   "source": [
    "df2022.columns[19] == df2021.columns[16]"
   ]
  },
  {
   "cell_type": "code",
   "execution_count": 8,
   "id": "1eabf87d",
   "metadata": {},
   "outputs": [
    {
     "data": {
      "text/plain": [
       "True"
      ]
     },
     "execution_count": 8,
     "metadata": {},
     "output_type": "execute_result"
    }
   ],
   "source": [
    "df2022.columns[20] == df2021.columns[17]"
   ]
  },
  {
   "cell_type": "code",
   "execution_count": 9,
   "id": "ded184c9",
   "metadata": {},
   "outputs": [
    {
     "data": {
      "text/plain": [
       "Index(['Respondent', 'MainBranch', 'Hobbyist', 'Age', 'Age1stCode', 'CompFreq',\n",
       "       'CompTotal', 'ConvertedComp', 'Country', 'CurrencyDesc',\n",
       "       'CurrencySymbol', 'DatabaseDesireNextYear', 'DatabaseWorkedWith',\n",
       "       'DevType', 'EdLevel', 'Employment', 'Ethnicity', 'Gender', 'JobFactors',\n",
       "       'JobSat', 'JobSeek', 'LanguageDesireNextYear', 'LanguageWorkedWith',\n",
       "       'MiscTechDesireNextYear', 'MiscTechWorkedWith',\n",
       "       'NEWCollabToolsDesireNextYear', 'NEWCollabToolsWorkedWith', 'NEWDevOps',\n",
       "       'NEWDevOpsImpt', 'NEWEdImpt', 'NEWJobHunt', 'NEWJobHuntResearch',\n",
       "       'NEWLearn', 'NEWOffTopic', 'NEWOnboardGood', 'NEWOtherComms',\n",
       "       'NEWOvertime', 'NEWPurchaseResearch', 'NEWPurpleLink', 'NEWSOSites',\n",
       "       'NEWStuck', 'OpSys', 'OrgSize', 'PlatformDesireNextYear',\n",
       "       'PlatformWorkedWith', 'PurchaseWhat', 'Sexuality', 'SOAccount',\n",
       "       'SOComm', 'SOPartFreq', 'SOVisitFreq', 'SurveyEase', 'SurveyLength',\n",
       "       'Trans', 'UndergradMajor', 'WebframeDesireNextYear',\n",
       "       'WebframeWorkedWith', 'WelcomeChange', 'WorkWeekHrs', 'YearsCode',\n",
       "       'YearsCodePro'],\n",
       "      dtype='object')"
      ]
     },
     "execution_count": 9,
     "metadata": {},
     "output_type": "execute_result"
    }
   ],
   "source": [
    "df2020.columns"
   ]
  },
  {
   "cell_type": "code",
   "execution_count": 10,
   "id": "647e1fe7",
   "metadata": {},
   "outputs": [
    {
     "data": {
      "text/plain": [
       "Index(['Respondent', 'MainBranch', 'Hobbyist', 'OpenSourcer', 'OpenSource',\n",
       "       'Employment', 'Country', 'Student', 'EdLevel', 'UndergradMajor',\n",
       "       'EduOther', 'OrgSize', 'DevType', 'YearsCode', 'Age1stCode',\n",
       "       'YearsCodePro', 'CareerSat', 'JobSat', 'MgrIdiot', 'MgrMoney',\n",
       "       'MgrWant', 'JobSeek', 'LastHireDate', 'LastInt', 'FizzBuzz',\n",
       "       'JobFactors', 'ResumeUpdate', 'CurrencySymbol', 'CurrencyDesc',\n",
       "       'CompTotal', 'CompFreq', 'ConvertedComp', 'WorkWeekHrs', 'WorkPlan',\n",
       "       'WorkChallenge', 'WorkRemote', 'WorkLoc', 'ImpSyn', 'CodeRev',\n",
       "       'CodeRevHrs', 'UnitTests', 'PurchaseHow', 'PurchaseWhat',\n",
       "       'LanguageWorkedWith', 'LanguageDesireNextYear', 'DatabaseWorkedWith',\n",
       "       'DatabaseDesireNextYear', 'PlatformWorkedWith',\n",
       "       'PlatformDesireNextYear', 'WebFrameWorkedWith',\n",
       "       'WebFrameDesireNextYear', 'MiscTechWorkedWith',\n",
       "       'MiscTechDesireNextYear', 'DevEnviron', 'OpSys', 'Containers',\n",
       "       'BlockchainOrg', 'BlockchainIs', 'BetterLife', 'ITperson', 'OffOn',\n",
       "       'SocialMedia', 'Extraversion', 'ScreenName', 'SOVisit1st',\n",
       "       'SOVisitFreq', 'SOVisitTo', 'SOFindAnswer', 'SOTimeSaved',\n",
       "       'SOHowMuchTime', 'SOAccount', 'SOPartFreq', 'SOJobs', 'EntTeams',\n",
       "       'SOComm', 'WelcomeChange', 'SONewContent', 'Age', 'Gender', 'Trans',\n",
       "       'Sexuality', 'Ethnicity', 'Dependents', 'SurveyLength', 'SurveyEase'],\n",
       "      dtype='object')"
      ]
     },
     "execution_count": 10,
     "metadata": {},
     "output_type": "execute_result"
    }
   ],
   "source": [
    "df2019.columns"
   ]
  },
  {
   "cell_type": "code",
   "execution_count": 11,
   "id": "ef6c97d9",
   "metadata": {},
   "outputs": [
    {
     "data": {
      "text/plain": [
       "Index(['Respondent', 'Hobby', 'OpenSource', 'Country', 'Student', 'Employment',\n",
       "       'FormalEducation', 'UndergradMajor', 'CompanySize', 'DevType',\n",
       "       ...\n",
       "       'Exercise', 'Gender', 'SexualOrientation', 'EducationParents',\n",
       "       'RaceEthnicity', 'Age', 'Dependents', 'MilitaryUS', 'SurveyTooLong',\n",
       "       'SurveyEasy'],\n",
       "      dtype='object', length=129)"
      ]
     },
     "execution_count": 11,
     "metadata": {},
     "output_type": "execute_result"
    }
   ],
   "source": [
    "df2018.columns"
   ]
  },
  {
   "cell_type": "code",
   "execution_count": 12,
   "id": "bc9ca045",
   "metadata": {},
   "outputs": [
    {
     "name": "stdout",
     "output_type": "stream",
     "text": [
      "Respondent\n",
      "Hobby\n",
      "OpenSource\n",
      "Country\n",
      "Student\n",
      "Employment\n",
      "FormalEducation\n",
      "UndergradMajor\n",
      "CompanySize\n",
      "DevType\n",
      "YearsCoding\n",
      "YearsCodingProf\n",
      "JobSatisfaction\n",
      "CareerSatisfaction\n",
      "HopeFiveYears\n",
      "JobSearchStatus\n",
      "LastNewJob\n",
      "AssessJob1\n",
      "AssessJob2\n",
      "AssessJob3\n",
      "AssessJob4\n",
      "AssessJob5\n",
      "AssessJob6\n",
      "AssessJob7\n",
      "AssessJob8\n",
      "AssessJob9\n",
      "AssessJob10\n",
      "AssessBenefits1\n",
      "AssessBenefits2\n",
      "AssessBenefits3\n",
      "AssessBenefits4\n",
      "AssessBenefits5\n",
      "AssessBenefits6\n",
      "AssessBenefits7\n",
      "AssessBenefits8\n",
      "AssessBenefits9\n",
      "AssessBenefits10\n",
      "AssessBenefits11\n",
      "JobContactPriorities1\n",
      "JobContactPriorities2\n",
      "JobContactPriorities3\n",
      "JobContactPriorities4\n",
      "JobContactPriorities5\n",
      "JobEmailPriorities1\n",
      "JobEmailPriorities2\n",
      "JobEmailPriorities3\n",
      "JobEmailPriorities4\n",
      "JobEmailPriorities5\n",
      "JobEmailPriorities6\n",
      "JobEmailPriorities7\n",
      "UpdateCV\n",
      "Currency\n",
      "Salary\n",
      "SalaryType\n",
      "ConvertedSalary\n",
      "CurrencySymbol\n",
      "CommunicationTools\n",
      "TimeFullyProductive\n",
      "EducationTypes\n",
      "SelfTaughtTypes\n",
      "TimeAfterBootcamp\n",
      "HackathonReasons\n",
      "AgreeDisagree1\n",
      "AgreeDisagree2\n",
      "AgreeDisagree3\n",
      "LanguageWorkedWith\n",
      "LanguageDesireNextYear\n",
      "DatabaseWorkedWith\n",
      "DatabaseDesireNextYear\n",
      "PlatformWorkedWith\n",
      "PlatformDesireNextYear\n",
      "FrameworkWorkedWith\n",
      "FrameworkDesireNextYear\n",
      "IDE\n",
      "OperatingSystem\n",
      "NumberMonitors\n",
      "Methodology\n",
      "VersionControl\n",
      "CheckInCode\n",
      "AdBlocker\n",
      "AdBlockerDisable\n",
      "AdBlockerReasons\n",
      "AdsAgreeDisagree1\n",
      "AdsAgreeDisagree2\n",
      "AdsAgreeDisagree3\n",
      "AdsActions\n",
      "AdsPriorities1\n",
      "AdsPriorities2\n",
      "AdsPriorities3\n",
      "AdsPriorities4\n",
      "AdsPriorities5\n",
      "AdsPriorities6\n",
      "AdsPriorities7\n",
      "AIDangerous\n",
      "AIInteresting\n",
      "AIResponsible\n",
      "AIFuture\n",
      "EthicsChoice\n",
      "EthicsReport\n",
      "EthicsResponsible\n",
      "EthicalImplications\n",
      "StackOverflowRecommend\n",
      "StackOverflowVisit\n",
      "StackOverflowHasAccount\n",
      "StackOverflowParticipate\n",
      "StackOverflowJobs\n",
      "StackOverflowDevStory\n",
      "StackOverflowJobsRecommend\n",
      "StackOverflowConsiderMember\n",
      "HypotheticalTools1\n",
      "HypotheticalTools2\n",
      "HypotheticalTools3\n",
      "HypotheticalTools4\n",
      "HypotheticalTools5\n",
      "WakeTime\n",
      "HoursComputer\n",
      "HoursOutside\n",
      "SkipMeals\n",
      "ErgonomicDevices\n",
      "Exercise\n",
      "Gender\n",
      "SexualOrientation\n",
      "EducationParents\n",
      "RaceEthnicity\n",
      "Age\n",
      "Dependents\n",
      "MilitaryUS\n",
      "SurveyTooLong\n",
      "SurveyEasy\n"
     ]
    }
   ],
   "source": [
    "for col in df2018.columns:\n",
    "    print(col)"
   ]
  },
  {
   "cell_type": "code",
   "execution_count": 13,
   "id": "64446af4",
   "metadata": {},
   "outputs": [
    {
     "data": {
      "text/plain": [
       "Index(['Respondent', 'Professional', 'ProgramHobby', 'Country', 'University',\n",
       "       'EmploymentStatus', 'FormalEducation', 'MajorUndergrad', 'HomeRemote',\n",
       "       'CompanySize',\n",
       "       ...\n",
       "       'StackOverflowMakeMoney', 'Gender', 'HighestEducationParents', 'Race',\n",
       "       'SurveyLong', 'QuestionsInteresting', 'QuestionsConfusing',\n",
       "       'InterestedAnswers', 'Salary', 'ExpectedSalary'],\n",
       "      dtype='object', length=154)"
      ]
     },
     "execution_count": 13,
     "metadata": {},
     "output_type": "execute_result"
    }
   ],
   "source": [
    "df2017.columns"
   ]
  },
  {
   "cell_type": "code",
   "execution_count": 14,
   "id": "8528788c",
   "metadata": {},
   "outputs": [
    {
     "name": "stdout",
     "output_type": "stream",
     "text": [
      "Respondent\n",
      "Professional\n",
      "ProgramHobby\n",
      "Country\n",
      "University\n",
      "EmploymentStatus\n",
      "FormalEducation\n",
      "MajorUndergrad\n",
      "HomeRemote\n",
      "CompanySize\n",
      "CompanyType\n",
      "YearsProgram\n",
      "YearsCodedJob\n",
      "YearsCodedJobPast\n",
      "DeveloperType\n",
      "WebDeveloperType\n",
      "MobileDeveloperType\n",
      "NonDeveloperType\n",
      "CareerSatisfaction\n",
      "JobSatisfaction\n",
      "ExCoderReturn\n",
      "ExCoderNotForMe\n",
      "ExCoderBalance\n",
      "ExCoder10Years\n",
      "ExCoderBelonged\n",
      "ExCoderSkills\n",
      "ExCoderWillNotCode\n",
      "ExCoderActive\n",
      "PronounceGIF\n",
      "ProblemSolving\n",
      "BuildingThings\n",
      "LearningNewTech\n",
      "BoringDetails\n",
      "JobSecurity\n",
      "DiversityImportant\n",
      "AnnoyingUI\n",
      "FriendsDevelopers\n",
      "RightWrongWay\n",
      "UnderstandComputers\n",
      "SeriousWork\n",
      "InvestTimeTools\n",
      "WorkPayCare\n",
      "KinshipDevelopers\n",
      "ChallengeMyself\n",
      "CompetePeers\n",
      "ChangeWorld\n",
      "JobSeekingStatus\n",
      "HoursPerWeek\n",
      "LastNewJob\n",
      "AssessJobIndustry\n",
      "AssessJobRole\n",
      "AssessJobExp\n",
      "AssessJobDept\n",
      "AssessJobTech\n",
      "AssessJobProjects\n",
      "AssessJobCompensation\n",
      "AssessJobOffice\n",
      "AssessJobCommute\n",
      "AssessJobRemote\n",
      "AssessJobLeaders\n",
      "AssessJobProfDevel\n",
      "AssessJobDiversity\n",
      "AssessJobProduct\n",
      "AssessJobFinances\n",
      "ImportantBenefits\n",
      "ClickyKeys\n",
      "JobProfile\n",
      "ResumePrompted\n",
      "LearnedHiring\n",
      "ImportantHiringAlgorithms\n",
      "ImportantHiringTechExp\n",
      "ImportantHiringCommunication\n",
      "ImportantHiringOpenSource\n",
      "ImportantHiringPMExp\n",
      "ImportantHiringCompanies\n",
      "ImportantHiringTitles\n",
      "ImportantHiringEducation\n",
      "ImportantHiringRep\n",
      "ImportantHiringGettingThingsDone\n",
      "Currency\n",
      "Overpaid\n",
      "TabsSpaces\n",
      "EducationImportant\n",
      "EducationTypes\n",
      "SelfTaughtTypes\n",
      "TimeAfterBootcamp\n",
      "CousinEducation\n",
      "WorkStart\n",
      "HaveWorkedLanguage\n",
      "WantWorkLanguage\n",
      "HaveWorkedFramework\n",
      "WantWorkFramework\n",
      "HaveWorkedDatabase\n",
      "WantWorkDatabase\n",
      "HaveWorkedPlatform\n",
      "WantWorkPlatform\n",
      "IDE\n",
      "AuditoryEnvironment\n",
      "Methodology\n",
      "VersionControl\n",
      "CheckInCode\n",
      "ShipIt\n",
      "OtherPeoplesCode\n",
      "ProjectManagement\n",
      "EnjoyDebugging\n",
      "InTheZone\n",
      "DifficultCommunication\n",
      "CollaborateRemote\n",
      "MetricAssess\n",
      "EquipmentSatisfiedMonitors\n",
      "EquipmentSatisfiedCPU\n",
      "EquipmentSatisfiedRAM\n",
      "EquipmentSatisfiedStorage\n",
      "EquipmentSatisfiedRW\n",
      "InfluenceInternet\n",
      "InfluenceWorkstation\n",
      "InfluenceHardware\n",
      "InfluenceServers\n",
      "InfluenceTechStack\n",
      "InfluenceDeptTech\n",
      "InfluenceVizTools\n",
      "InfluenceDatabase\n",
      "InfluenceCloud\n",
      "InfluenceConsultants\n",
      "InfluenceRecruitment\n",
      "InfluenceCommunication\n",
      "StackOverflowDescribes\n",
      "StackOverflowSatisfaction\n",
      "StackOverflowDevices\n",
      "StackOverflowFoundAnswer\n",
      "StackOverflowCopiedCode\n",
      "StackOverflowJobListing\n",
      "StackOverflowCompanyPage\n",
      "StackOverflowJobSearch\n",
      "StackOverflowNewQuestion\n",
      "StackOverflowAnswer\n",
      "StackOverflowMetaChat\n",
      "StackOverflowAdsRelevant\n",
      "StackOverflowAdsDistracting\n",
      "StackOverflowModeration\n",
      "StackOverflowCommunity\n",
      "StackOverflowHelpful\n",
      "StackOverflowBetter\n",
      "StackOverflowWhatDo\n",
      "StackOverflowMakeMoney\n",
      "Gender\n",
      "HighestEducationParents\n",
      "Race\n",
      "SurveyLong\n",
      "QuestionsInteresting\n",
      "QuestionsConfusing\n",
      "InterestedAnswers\n",
      "Salary\n",
      "ExpectedSalary\n"
     ]
    }
   ],
   "source": [
    "for col in df2017.columns:\n",
    "    print(col)"
   ]
  },
  {
   "cell_type": "code",
   "execution_count": 16,
   "id": "f8c4758a",
   "metadata": {},
   "outputs": [
    {
     "data": {
      "text/plain": [
       "Pandas(Index=2, ResponseId='3', MainBranch='I am not primarily a developer, but I write code sometimes as part of my work', Employment='Employed, full-time', RemoteWork='Hybrid (some remote, some in-person)', CodingActivities='Hobby', EdLevel='Master’s degree (M.A., M.S., M.Eng., MBA, etc.)', LearnCode='Books / Physical media;Friend or family member;Other online resources (e.g., videos, blogs, forum);School (i.e., University, College, etc)', LearnCodeOnline='Technical documentation;Blogs;Programming Games;Written Tutorials;Stack Overflow', LearnCodeCoursesCert=nan, YearsCode='14', YearsCodePro='5', DevType='Data scientist or machine learning specialist;Developer, front-end;Engineer, data;Engineer, site reliability', OrgSize='20 to 99 employees', PurchaseInfluence='I have some influence', BuyNewTool=nan, Country='United Kingdom of Great Britain and Northern Ireland', Currency='GBP\\tPound sterling', CompTotal='32000', CompFreq='Yearly', LanguageHaveWorkedWith='C#;C++;HTML/CSS;JavaScript;Python', LanguageWantToWorkWith='C#;C++;HTML/CSS;JavaScript;TypeScript', DatabaseHaveWorkedWith='Microsoft SQL Server', DatabaseWantToWorkWith='Microsoft SQL Server', PlatformHaveWorkedWith=nan, PlatformWantToWorkWith=nan, WebframeHaveWorkedWith='Angular.js', WebframeWantToWorkWith='Angular;Angular.js', MiscTechHaveWorkedWith='Pandas', MiscTechWantToWorkWith='.NET', ToolsTechHaveWorkedWith=nan, ToolsTechWantToWorkWith=nan, NEWCollabToolsHaveWorkedWith='Notepad++;Visual Studio', NEWCollabToolsWantToWorkWith='Notepad++;Visual Studio', _34='Windows', _35='Windows', VersionControlSystem='Git', VCInteraction='Code editor', _38=nan, _39=nan, OfficeStackAsyncHaveWorkedWith=nan, OfficeStackAsyncWantToWorkWith=nan, OfficeStackSyncHaveWorkedWith='Microsoft Teams', OfficeStackSyncWantToWorkWith='Microsoft Teams', Blockchain='Very unfavorable', NEWSOSites='Collectives on Stack Overflow;Stack Overflow;Stack Exchange', SOVisitFreq='Multiple times per day', SOAccount='Yes', SOPartFreq='Multiple times per day', SOComm='Neutral', Age='25-34 years old', Gender='Man', Trans='No', Sexuality='Bisexual', Ethnicity='White', Accessibility='None of the above', MentalHealth='I have a mood or emotional disorder (e.g., depression, bipolar disorder, etc.);I have an anxiety disorder', TBranch='No', ICorPM=nan, WorkExp=nan, Knowledge_1=nan, Knowledge_2=nan, Knowledge_3=nan, Knowledge_4=nan, Knowledge_5=nan, Knowledge_6=nan, Knowledge_7=nan, Frequency_1=nan, Frequency_2=nan, Frequency_3=nan, TimeSearching=nan, TimeAnswering=nan, Onboarding=nan, ProfessionalTech=nan, TrueFalse_1=nan, TrueFalse_2=nan, TrueFalse_3=nan, SurveyLength='Appropriate in length', SurveyEase='Neither easy nor difficult', ConvertedCompYearly='40205')"
      ]
     },
     "execution_count": 16,
     "metadata": {},
     "output_type": "execute_result"
    }
   ],
   "source": [
    "x = ()\n",
    "counter = 0\n",
    "for row in df2022.itertuples():\n",
    "    x = row\n",
    "    counter += 1\n",
    "    if counter == 3:\n",
    "        break\n",
    "x"
   ]
  },
  {
   "cell_type": "code",
   "execution_count": 17,
   "id": "e94818ec",
   "metadata": {},
   "outputs": [
    {
     "data": {
      "text/plain": [
       "Pandas(Index=2, ResponseId='3', MainBranch='I am not primarily a developer, but I write code sometimes as part of my work', Employment='Student, full-time', Country='Russian Federation', US_State=nan, UK_Country=nan, EdLevel='Bachelor’s degree (B.A., B.S., B.Eng., etc.)', Age1stCode='11 - 17 years', LearnCode='Other online resources (ex: videos, blogs, etc);Online Forum', YearsCode=nan, YearsCodePro=nan, DevType=nan, OrgSize=nan, Currency=nan, CompTotal=nan, CompFreq=nan, LanguageHaveWorkedWith='Assembly;C;Python;R;Rust', LanguageWantToWorkWith='Julia;Python;Rust', DatabaseHaveWorkedWith='SQLite', DatabaseWantToWorkWith='SQLite', PlatformHaveWorkedWith='Heroku', PlatformWantToWorkWith=nan, WebframeHaveWorkedWith='Flask', WebframeWantToWorkWith='Flask', MiscTechHaveWorkedWith='NumPy;Pandas;TensorFlow;Torch/PyTorch', MiscTechWantToWorkWith='Keras;NumPy;Pandas;TensorFlow;Torch/PyTorch', ToolsTechHaveWorkedWith=nan, ToolsTechWantToWorkWith=nan, NEWCollabToolsHaveWorkedWith='IPython/Jupyter;PyCharm;RStudio;Sublime Text;Visual Studio Code', NEWCollabToolsWantToWorkWith='IPython/Jupyter;RStudio;Sublime Text;Visual Studio Code', OpSys='MacOS', NEWStuck='Visit Stack Overflow;Google it;Watch help / tutorial videos;Do other work and come back later', NEWSOSites='Stack Overflow;Stack Exchange', SOVisitFreq='Multiple times per day', SOAccount='Yes', SOPartFreq='Multiple times per day', SOComm='Yes, definitely', NEWOtherComms='Yes', Age='18-24 years old', Gender='Man', Trans='No', Sexuality='Prefer not to say', Ethnicity='Prefer not to say', Accessibility='None of the above', MentalHealth='None of the above', SurveyLength='Appropriate in length', SurveyEase='Easy', ConvertedCompYearly=nan)"
      ]
     },
     "execution_count": 17,
     "metadata": {},
     "output_type": "execute_result"
    }
   ],
   "source": [
    "counter = 0\n",
    "for row in df2021.itertuples():\n",
    "    x = row\n",
    "    counter += 1\n",
    "    if counter == 3:\n",
    "        break\n",
    "x"
   ]
  },
  {
   "cell_type": "code",
   "execution_count": 18,
   "id": "899fca68",
   "metadata": {},
   "outputs": [
    {
     "data": {
      "text/plain": [
       "Pandas(Index=2, Respondent='3', MainBranch='I code primarily as a hobby', Hobbyist='Yes', Age=nan, Age1stCode='15', CompFreq=nan, CompTotal=nan, ConvertedComp=nan, Country='Russian Federation', CurrencyDesc=nan, CurrencySymbol=nan, DatabaseDesireNextYear=nan, DatabaseWorkedWith=nan, DevType=nan, EdLevel=nan, Employment=nan, Ethnicity=nan, Gender=nan, JobFactors=nan, JobSat=nan, JobSeek=nan, LanguageDesireNextYear='Objective-C;Python;Swift', LanguageWorkedWith='Objective-C;Python;Swift', MiscTechDesireNextYear=nan, MiscTechWorkedWith=nan, NEWCollabToolsDesireNextYear=nan, NEWCollabToolsWorkedWith=nan, NEWDevOps=nan, NEWDevOpsImpt=nan, NEWEdImpt=nan, NEWJobHunt=nan, NEWJobHuntResearch=nan, NEWLearn='Once a decade', NEWOffTopic=nan, NEWOnboardGood=nan, NEWOtherComms='No', NEWOvertime=nan, NEWPurchaseResearch=nan, NEWPurpleLink=nan, NEWSOSites='Stack Overflow (public Q&A for anyone who codes)', NEWStuck=nan, OpSys='Linux-based', OrgSize=nan, PlatformDesireNextYear=nan, PlatformWorkedWith=nan, PurchaseWhat=nan, Sexuality=nan, SOAccount='Yes', SOComm='Yes, somewhat', SOPartFreq='A few times per month or weekly', SOVisitFreq='Daily or almost daily', SurveyEase='Neither easy nor difficult', SurveyLength='Appropriate in length', Trans=nan, UndergradMajor=nan, WebframeDesireNextYear=nan, WebframeWorkedWith=nan, WelcomeChange='Somewhat more welcome now than last year', WorkWeekHrs=nan, YearsCode='4', YearsCodePro=nan)"
      ]
     },
     "execution_count": 18,
     "metadata": {},
     "output_type": "execute_result"
    }
   ],
   "source": [
    "counter = 0\n",
    "for row in df2020.itertuples():\n",
    "    x = row\n",
    "    counter += 1\n",
    "    if counter == 3:\n",
    "        break\n",
    "x"
   ]
  },
  {
   "cell_type": "code",
   "execution_count": 20,
   "id": "06877266",
   "metadata": {},
   "outputs": [
    {
     "data": {
      "text/plain": [
       "Pandas(Index=2, Respondent='3', MainBranch='I code primarily as a hobby', Hobbyist='Yes', Age=nan, Age1stCode='15', CompFreq=nan, CompTotal=nan, ConvertedComp=nan, Country='Russian Federation', CurrencyDesc=nan, CurrencySymbol=nan, DatabaseDesireNextYear=nan, DatabaseWorkedWith=nan, DevType=nan, EdLevel=nan, Employment=nan, Ethnicity=nan, Gender=nan, JobFactors=nan, JobSat=nan, JobSeek=nan, LanguageWantToWorkWith='Objective-C;Python;Swift', LanguageHaveWorkedWith='Objective-C;Python;Swift', MiscTechDesireNextYear=nan, MiscTechWorkedWith=nan, NEWCollabToolsDesireNextYear=nan, NEWCollabToolsWorkedWith=nan, NEWDevOps=nan, NEWDevOpsImpt=nan, NEWEdImpt=nan, NEWJobHunt=nan, NEWJobHuntResearch=nan, NEWLearn='Once a decade', NEWOffTopic=nan, NEWOnboardGood=nan, NEWOtherComms='No', NEWOvertime=nan, NEWPurchaseResearch=nan, NEWPurpleLink=nan, NEWSOSites='Stack Overflow (public Q&A for anyone who codes)', NEWStuck=nan, OpSys='Linux-based', OrgSize=nan, PlatformDesireNextYear=nan, PlatformWorkedWith=nan, PurchaseWhat=nan, Sexuality=nan, SOAccount='Yes', SOComm='Yes, somewhat', SOPartFreq='A few times per month or weekly', SOVisitFreq='Daily or almost daily', SurveyEase='Neither easy nor difficult', SurveyLength='Appropriate in length', Trans=nan, UndergradMajor=nan, WebframeDesireNextYear=nan, WebframeWorkedWith=nan, WelcomeChange='Somewhat more welcome now than last year', WorkWeekHrs=nan, YearsCode='4', YearsCodePro=nan)"
      ]
     },
     "execution_count": 20,
     "metadata": {},
     "output_type": "execute_result"
    }
   ],
   "source": [
    "df2020.rename(\n",
    "    columns={\n",
    "        'LanguageWorkedWith': 'LanguageHaveWorkedWith', \n",
    "        'LanguageDesireNextYear': 'LanguageWantToWorkWith'\n",
    "    }, \n",
    "    inplace=True\n",
    ")\n",
    "counter = 0\n",
    "for row in df2020.itertuples():\n",
    "    x = row\n",
    "    counter += 1\n",
    "    if counter == 3:\n",
    "        break\n",
    "x"
   ]
  },
  {
   "cell_type": "code",
   "execution_count": 22,
   "id": "1d1d3e70",
   "metadata": {},
   "outputs": [
    {
     "data": {
      "text/html": [
       "<div>\n",
       "<style scoped>\n",
       "    .dataframe tbody tr th:only-of-type {\n",
       "        vertical-align: middle;\n",
       "    }\n",
       "\n",
       "    .dataframe tbody tr th {\n",
       "        vertical-align: top;\n",
       "    }\n",
       "\n",
       "    .dataframe thead th {\n",
       "        text-align: right;\n",
       "    }\n",
       "</style>\n",
       "<table border=\"1\" class=\"dataframe\">\n",
       "  <thead>\n",
       "    <tr style=\"text-align: right;\">\n",
       "      <th></th>\n",
       "      <th>Respondent</th>\n",
       "      <th>MainBranch</th>\n",
       "      <th>Hobbyist</th>\n",
       "      <th>OpenSourcer</th>\n",
       "      <th>OpenSource</th>\n",
       "      <th>Employment</th>\n",
       "      <th>Country</th>\n",
       "      <th>Student</th>\n",
       "      <th>EdLevel</th>\n",
       "      <th>UndergradMajor</th>\n",
       "      <th>...</th>\n",
       "      <th>WelcomeChange</th>\n",
       "      <th>SONewContent</th>\n",
       "      <th>Age</th>\n",
       "      <th>Gender</th>\n",
       "      <th>Trans</th>\n",
       "      <th>Sexuality</th>\n",
       "      <th>Ethnicity</th>\n",
       "      <th>Dependents</th>\n",
       "      <th>SurveyLength</th>\n",
       "      <th>SurveyEase</th>\n",
       "    </tr>\n",
       "  </thead>\n",
       "  <tbody>\n",
       "    <tr>\n",
       "      <th>0</th>\n",
       "      <td>1</td>\n",
       "      <td>I am a student who is learning to code</td>\n",
       "      <td>Yes</td>\n",
       "      <td>Never</td>\n",
       "      <td>The quality of OSS and closed source software ...</td>\n",
       "      <td>Not employed, and not looking for work</td>\n",
       "      <td>United Kingdom</td>\n",
       "      <td>No</td>\n",
       "      <td>Primary/elementary school</td>\n",
       "      <td>NaN</td>\n",
       "      <td>...</td>\n",
       "      <td>Just as welcome now as I felt last year</td>\n",
       "      <td>Tech articles written by other developers;Indu...</td>\n",
       "      <td>14</td>\n",
       "      <td>Man</td>\n",
       "      <td>No</td>\n",
       "      <td>Straight / Heterosexual</td>\n",
       "      <td>NaN</td>\n",
       "      <td>No</td>\n",
       "      <td>Appropriate in length</td>\n",
       "      <td>Neither easy nor difficult</td>\n",
       "    </tr>\n",
       "    <tr>\n",
       "      <th>1</th>\n",
       "      <td>2</td>\n",
       "      <td>I am a student who is learning to code</td>\n",
       "      <td>No</td>\n",
       "      <td>Less than once per year</td>\n",
       "      <td>The quality of OSS and closed source software ...</td>\n",
       "      <td>Not employed, but looking for work</td>\n",
       "      <td>Bosnia and Herzegovina</td>\n",
       "      <td>Yes, full-time</td>\n",
       "      <td>Secondary school (e.g. American high school, G...</td>\n",
       "      <td>NaN</td>\n",
       "      <td>...</td>\n",
       "      <td>Just as welcome now as I felt last year</td>\n",
       "      <td>Tech articles written by other developers;Indu...</td>\n",
       "      <td>19</td>\n",
       "      <td>Man</td>\n",
       "      <td>No</td>\n",
       "      <td>Straight / Heterosexual</td>\n",
       "      <td>NaN</td>\n",
       "      <td>No</td>\n",
       "      <td>Appropriate in length</td>\n",
       "      <td>Neither easy nor difficult</td>\n",
       "    </tr>\n",
       "    <tr>\n",
       "      <th>2</th>\n",
       "      <td>3</td>\n",
       "      <td>I am not primarily a developer, but I write co...</td>\n",
       "      <td>Yes</td>\n",
       "      <td>Never</td>\n",
       "      <td>The quality of OSS and closed source software ...</td>\n",
       "      <td>Employed full-time</td>\n",
       "      <td>Thailand</td>\n",
       "      <td>No</td>\n",
       "      <td>Bachelor’s degree (BA, BS, B.Eng., etc.)</td>\n",
       "      <td>Web development or web design</td>\n",
       "      <td>...</td>\n",
       "      <td>Just as welcome now as I felt last year</td>\n",
       "      <td>Tech meetups or events in your area;Courses on...</td>\n",
       "      <td>28</td>\n",
       "      <td>Man</td>\n",
       "      <td>No</td>\n",
       "      <td>Straight / Heterosexual</td>\n",
       "      <td>NaN</td>\n",
       "      <td>Yes</td>\n",
       "      <td>Appropriate in length</td>\n",
       "      <td>Neither easy nor difficult</td>\n",
       "    </tr>\n",
       "    <tr>\n",
       "      <th>3</th>\n",
       "      <td>4</td>\n",
       "      <td>I am a developer by profession</td>\n",
       "      <td>No</td>\n",
       "      <td>Never</td>\n",
       "      <td>The quality of OSS and closed source software ...</td>\n",
       "      <td>Employed full-time</td>\n",
       "      <td>United States</td>\n",
       "      <td>No</td>\n",
       "      <td>Bachelor’s degree (BA, BS, B.Eng., etc.)</td>\n",
       "      <td>Computer science, computer engineering, or sof...</td>\n",
       "      <td>...</td>\n",
       "      <td>Just as welcome now as I felt last year</td>\n",
       "      <td>Tech articles written by other developers;Indu...</td>\n",
       "      <td>22</td>\n",
       "      <td>Man</td>\n",
       "      <td>No</td>\n",
       "      <td>Straight / Heterosexual</td>\n",
       "      <td>White or of European descent</td>\n",
       "      <td>No</td>\n",
       "      <td>Appropriate in length</td>\n",
       "      <td>Easy</td>\n",
       "    </tr>\n",
       "    <tr>\n",
       "      <th>4</th>\n",
       "      <td>5</td>\n",
       "      <td>I am a developer by profession</td>\n",
       "      <td>Yes</td>\n",
       "      <td>Once a month or more often</td>\n",
       "      <td>OSS is, on average, of HIGHER quality than pro...</td>\n",
       "      <td>Employed full-time</td>\n",
       "      <td>Ukraine</td>\n",
       "      <td>No</td>\n",
       "      <td>Bachelor’s degree (BA, BS, B.Eng., etc.)</td>\n",
       "      <td>Computer science, computer engineering, or sof...</td>\n",
       "      <td>...</td>\n",
       "      <td>Just as welcome now as I felt last year</td>\n",
       "      <td>Tech meetups or events in your area;Courses on...</td>\n",
       "      <td>30</td>\n",
       "      <td>Man</td>\n",
       "      <td>No</td>\n",
       "      <td>Straight / Heterosexual</td>\n",
       "      <td>White or of European descent;Multiracial</td>\n",
       "      <td>No</td>\n",
       "      <td>Appropriate in length</td>\n",
       "      <td>Easy</td>\n",
       "    </tr>\n",
       "    <tr>\n",
       "      <th>...</th>\n",
       "      <td>...</td>\n",
       "      <td>...</td>\n",
       "      <td>...</td>\n",
       "      <td>...</td>\n",
       "      <td>...</td>\n",
       "      <td>...</td>\n",
       "      <td>...</td>\n",
       "      <td>...</td>\n",
       "      <td>...</td>\n",
       "      <td>...</td>\n",
       "      <td>...</td>\n",
       "      <td>...</td>\n",
       "      <td>...</td>\n",
       "      <td>...</td>\n",
       "      <td>...</td>\n",
       "      <td>...</td>\n",
       "      <td>...</td>\n",
       "      <td>...</td>\n",
       "      <td>...</td>\n",
       "      <td>...</td>\n",
       "      <td>...</td>\n",
       "    </tr>\n",
       "    <tr>\n",
       "      <th>88878</th>\n",
       "      <td>88377</td>\n",
       "      <td>NaN</td>\n",
       "      <td>Yes</td>\n",
       "      <td>Less than once a month but more than once per ...</td>\n",
       "      <td>The quality of OSS and closed source software ...</td>\n",
       "      <td>Not employed, and not looking for work</td>\n",
       "      <td>Canada</td>\n",
       "      <td>No</td>\n",
       "      <td>Primary/elementary school</td>\n",
       "      <td>NaN</td>\n",
       "      <td>...</td>\n",
       "      <td>NaN</td>\n",
       "      <td>Tech articles written by other developers;Tech...</td>\n",
       "      <td>NaN</td>\n",
       "      <td>Man</td>\n",
       "      <td>No</td>\n",
       "      <td>NaN</td>\n",
       "      <td>NaN</td>\n",
       "      <td>No</td>\n",
       "      <td>Appropriate in length</td>\n",
       "      <td>Easy</td>\n",
       "    </tr>\n",
       "    <tr>\n",
       "      <th>88879</th>\n",
       "      <td>88601</td>\n",
       "      <td>NaN</td>\n",
       "      <td>No</td>\n",
       "      <td>Never</td>\n",
       "      <td>The quality of OSS and closed source software ...</td>\n",
       "      <td>NaN</td>\n",
       "      <td>NaN</td>\n",
       "      <td>NaN</td>\n",
       "      <td>NaN</td>\n",
       "      <td>NaN</td>\n",
       "      <td>...</td>\n",
       "      <td>NaN</td>\n",
       "      <td>NaN</td>\n",
       "      <td>NaN</td>\n",
       "      <td>NaN</td>\n",
       "      <td>NaN</td>\n",
       "      <td>NaN</td>\n",
       "      <td>NaN</td>\n",
       "      <td>NaN</td>\n",
       "      <td>NaN</td>\n",
       "      <td>NaN</td>\n",
       "    </tr>\n",
       "    <tr>\n",
       "      <th>88880</th>\n",
       "      <td>88802</td>\n",
       "      <td>NaN</td>\n",
       "      <td>No</td>\n",
       "      <td>Never</td>\n",
       "      <td>NaN</td>\n",
       "      <td>Employed full-time</td>\n",
       "      <td>NaN</td>\n",
       "      <td>NaN</td>\n",
       "      <td>NaN</td>\n",
       "      <td>NaN</td>\n",
       "      <td>...</td>\n",
       "      <td>NaN</td>\n",
       "      <td>NaN</td>\n",
       "      <td>NaN</td>\n",
       "      <td>NaN</td>\n",
       "      <td>NaN</td>\n",
       "      <td>NaN</td>\n",
       "      <td>NaN</td>\n",
       "      <td>NaN</td>\n",
       "      <td>NaN</td>\n",
       "      <td>NaN</td>\n",
       "    </tr>\n",
       "    <tr>\n",
       "      <th>88881</th>\n",
       "      <td>88816</td>\n",
       "      <td>NaN</td>\n",
       "      <td>No</td>\n",
       "      <td>Never</td>\n",
       "      <td>OSS is, on average, of HIGHER quality than pro...</td>\n",
       "      <td>Independent contractor, freelancer, or self-em...</td>\n",
       "      <td>NaN</td>\n",
       "      <td>NaN</td>\n",
       "      <td>NaN</td>\n",
       "      <td>NaN</td>\n",
       "      <td>...</td>\n",
       "      <td>NaN</td>\n",
       "      <td>NaN</td>\n",
       "      <td>NaN</td>\n",
       "      <td>NaN</td>\n",
       "      <td>NaN</td>\n",
       "      <td>NaN</td>\n",
       "      <td>NaN</td>\n",
       "      <td>NaN</td>\n",
       "      <td>NaN</td>\n",
       "      <td>NaN</td>\n",
       "    </tr>\n",
       "    <tr>\n",
       "      <th>88882</th>\n",
       "      <td>88863</td>\n",
       "      <td>NaN</td>\n",
       "      <td>Yes</td>\n",
       "      <td>Less than once per year</td>\n",
       "      <td>OSS is, on average, of HIGHER quality than pro...</td>\n",
       "      <td>Not employed, and not looking for work</td>\n",
       "      <td>Spain</td>\n",
       "      <td>Yes, full-time</td>\n",
       "      <td>Professional degree (JD, MD, etc.)</td>\n",
       "      <td>Computer science, computer engineering, or sof...</td>\n",
       "      <td>...</td>\n",
       "      <td>Somewhat less welcome now than last year</td>\n",
       "      <td>Tech articles written by other developers;Indu...</td>\n",
       "      <td>18</td>\n",
       "      <td>Man</td>\n",
       "      <td>No</td>\n",
       "      <td>Straight / Heterosexual</td>\n",
       "      <td>Hispanic or Latino/Latina;White or of European...</td>\n",
       "      <td>No</td>\n",
       "      <td>Appropriate in length</td>\n",
       "      <td>Easy</td>\n",
       "    </tr>\n",
       "  </tbody>\n",
       "</table>\n",
       "<p>88883 rows × 85 columns</p>\n",
       "</div>"
      ],
      "text/plain": [
       "      Respondent                                         MainBranch Hobbyist  \\\n",
       "0              1             I am a student who is learning to code      Yes   \n",
       "1              2             I am a student who is learning to code       No   \n",
       "2              3  I am not primarily a developer, but I write co...      Yes   \n",
       "3              4                     I am a developer by profession       No   \n",
       "4              5                     I am a developer by profession      Yes   \n",
       "...          ...                                                ...      ...   \n",
       "88878      88377                                                NaN      Yes   \n",
       "88879      88601                                                NaN       No   \n",
       "88880      88802                                                NaN       No   \n",
       "88881      88816                                                NaN       No   \n",
       "88882      88863                                                NaN      Yes   \n",
       "\n",
       "                                             OpenSourcer  \\\n",
       "0                                                  Never   \n",
       "1                                Less than once per year   \n",
       "2                                                  Never   \n",
       "3                                                  Never   \n",
       "4                             Once a month or more often   \n",
       "...                                                  ...   \n",
       "88878  Less than once a month but more than once per ...   \n",
       "88879                                              Never   \n",
       "88880                                              Never   \n",
       "88881                                              Never   \n",
       "88882                            Less than once per year   \n",
       "\n",
       "                                              OpenSource  \\\n",
       "0      The quality of OSS and closed source software ...   \n",
       "1      The quality of OSS and closed source software ...   \n",
       "2      The quality of OSS and closed source software ...   \n",
       "3      The quality of OSS and closed source software ...   \n",
       "4      OSS is, on average, of HIGHER quality than pro...   \n",
       "...                                                  ...   \n",
       "88878  The quality of OSS and closed source software ...   \n",
       "88879  The quality of OSS and closed source software ...   \n",
       "88880                                                NaN   \n",
       "88881  OSS is, on average, of HIGHER quality than pro...   \n",
       "88882  OSS is, on average, of HIGHER quality than pro...   \n",
       "\n",
       "                                              Employment  \\\n",
       "0                 Not employed, and not looking for work   \n",
       "1                     Not employed, but looking for work   \n",
       "2                                     Employed full-time   \n",
       "3                                     Employed full-time   \n",
       "4                                     Employed full-time   \n",
       "...                                                  ...   \n",
       "88878             Not employed, and not looking for work   \n",
       "88879                                                NaN   \n",
       "88880                                 Employed full-time   \n",
       "88881  Independent contractor, freelancer, or self-em...   \n",
       "88882             Not employed, and not looking for work   \n",
       "\n",
       "                      Country         Student  \\\n",
       "0              United Kingdom              No   \n",
       "1      Bosnia and Herzegovina  Yes, full-time   \n",
       "2                    Thailand              No   \n",
       "3               United States              No   \n",
       "4                     Ukraine              No   \n",
       "...                       ...             ...   \n",
       "88878                  Canada              No   \n",
       "88879                     NaN             NaN   \n",
       "88880                     NaN             NaN   \n",
       "88881                     NaN             NaN   \n",
       "88882                   Spain  Yes, full-time   \n",
       "\n",
       "                                                 EdLevel  \\\n",
       "0                              Primary/elementary school   \n",
       "1      Secondary school (e.g. American high school, G...   \n",
       "2               Bachelor’s degree (BA, BS, B.Eng., etc.)   \n",
       "3               Bachelor’s degree (BA, BS, B.Eng., etc.)   \n",
       "4               Bachelor’s degree (BA, BS, B.Eng., etc.)   \n",
       "...                                                  ...   \n",
       "88878                          Primary/elementary school   \n",
       "88879                                                NaN   \n",
       "88880                                                NaN   \n",
       "88881                                                NaN   \n",
       "88882                 Professional degree (JD, MD, etc.)   \n",
       "\n",
       "                                          UndergradMajor  ...  \\\n",
       "0                                                    NaN  ...   \n",
       "1                                                    NaN  ...   \n",
       "2                          Web development or web design  ...   \n",
       "3      Computer science, computer engineering, or sof...  ...   \n",
       "4      Computer science, computer engineering, or sof...  ...   \n",
       "...                                                  ...  ...   \n",
       "88878                                                NaN  ...   \n",
       "88879                                                NaN  ...   \n",
       "88880                                                NaN  ...   \n",
       "88881                                                NaN  ...   \n",
       "88882  Computer science, computer engineering, or sof...  ...   \n",
       "\n",
       "                                  WelcomeChange  \\\n",
       "0       Just as welcome now as I felt last year   \n",
       "1       Just as welcome now as I felt last year   \n",
       "2       Just as welcome now as I felt last year   \n",
       "3       Just as welcome now as I felt last year   \n",
       "4       Just as welcome now as I felt last year   \n",
       "...                                         ...   \n",
       "88878                                       NaN   \n",
       "88879                                       NaN   \n",
       "88880                                       NaN   \n",
       "88881                                       NaN   \n",
       "88882  Somewhat less welcome now than last year   \n",
       "\n",
       "                                            SONewContent  Age Gender Trans  \\\n",
       "0      Tech articles written by other developers;Indu...   14    Man    No   \n",
       "1      Tech articles written by other developers;Indu...   19    Man    No   \n",
       "2      Tech meetups or events in your area;Courses on...   28    Man    No   \n",
       "3      Tech articles written by other developers;Indu...   22    Man    No   \n",
       "4      Tech meetups or events in your area;Courses on...   30    Man    No   \n",
       "...                                                  ...  ...    ...   ...   \n",
       "88878  Tech articles written by other developers;Tech...  NaN    Man    No   \n",
       "88879                                                NaN  NaN    NaN   NaN   \n",
       "88880                                                NaN  NaN    NaN   NaN   \n",
       "88881                                                NaN  NaN    NaN   NaN   \n",
       "88882  Tech articles written by other developers;Indu...   18    Man    No   \n",
       "\n",
       "                     Sexuality  \\\n",
       "0      Straight / Heterosexual   \n",
       "1      Straight / Heterosexual   \n",
       "2      Straight / Heterosexual   \n",
       "3      Straight / Heterosexual   \n",
       "4      Straight / Heterosexual   \n",
       "...                        ...   \n",
       "88878                      NaN   \n",
       "88879                      NaN   \n",
       "88880                      NaN   \n",
       "88881                      NaN   \n",
       "88882  Straight / Heterosexual   \n",
       "\n",
       "                                               Ethnicity Dependents  \\\n",
       "0                                                    NaN         No   \n",
       "1                                                    NaN         No   \n",
       "2                                                    NaN        Yes   \n",
       "3                           White or of European descent         No   \n",
       "4               White or of European descent;Multiracial         No   \n",
       "...                                                  ...        ...   \n",
       "88878                                                NaN         No   \n",
       "88879                                                NaN        NaN   \n",
       "88880                                                NaN        NaN   \n",
       "88881                                                NaN        NaN   \n",
       "88882  Hispanic or Latino/Latina;White or of European...         No   \n",
       "\n",
       "                SurveyLength                  SurveyEase  \n",
       "0      Appropriate in length  Neither easy nor difficult  \n",
       "1      Appropriate in length  Neither easy nor difficult  \n",
       "2      Appropriate in length  Neither easy nor difficult  \n",
       "3      Appropriate in length                        Easy  \n",
       "4      Appropriate in length                        Easy  \n",
       "...                      ...                         ...  \n",
       "88878  Appropriate in length                        Easy  \n",
       "88879                    NaN                         NaN  \n",
       "88880                    NaN                         NaN  \n",
       "88881                    NaN                         NaN  \n",
       "88882  Appropriate in length                        Easy  \n",
       "\n",
       "[88883 rows x 85 columns]"
      ]
     },
     "execution_count": 22,
     "metadata": {},
     "output_type": "execute_result"
    }
   ],
   "source": [
    "df2019"
   ]
  },
  {
   "cell_type": "code",
   "execution_count": 23,
   "id": "557948d4",
   "metadata": {},
   "outputs": [
    {
     "data": {
      "text/plain": [
       "Pandas(Index=88882, Respondent='88863', MainBranch=nan, Hobbyist='Yes', OpenSourcer='Less than once per year', OpenSource='OSS is, on average, of HIGHER quality than proprietary / closed source software', Employment='Not employed, and not looking for work', Country='Spain', Student='Yes, full-time', EdLevel='Professional degree (JD, MD, etc.)', UndergradMajor='Computer science, computer engineering, or software engineering', EduOther='Taken an online course in programming or software development (e.g. a MOOC);Taken a part-time in-person course in programming or software development;Taught yourself a new language, framework, or tool without taking a formal course', OrgSize=nan, DevType=nan, YearsCode='8', Age1stCode='11', YearsCodePro='3', CareerSat=nan, JobSat=nan, MgrIdiot=nan, MgrMoney=nan, MgrWant=nan, JobSeek=nan, LastHireDate=nan, LastInt=nan, FizzBuzz=nan, JobFactors=nan, ResumeUpdate=nan, CurrencySymbol=nan, CurrencyDesc=nan, CompTotal=nan, CompFreq=nan, ConvertedComp=nan, WorkWeekHrs=nan, WorkPlan=nan, WorkChallenge=nan, WorkRemote=nan, WorkLoc=nan, ImpSyn=nan, CodeRev=nan, CodeRevHrs=nan, UnitTests=nan, PurchaseHow=nan, PurchaseWhat=nan, LanguageWorkedWith='Bash/Shell/PowerShell;HTML/CSS;Java;JavaScript;PHP;SQL;Swift', LanguageDesireNextYear='C;C++;C#;HTML/CSS;Java;Objective-C;SQL;Swift', DatabaseWorkedWith='DynamoDB;MariaDB;Microsoft SQL Server;MySQL', DatabaseDesireNextYear='MariaDB;MySQL;Oracle;SQLite', PlatformWorkedWith='iOS;Linux;MacOS;WordPress', PlatformDesireNextYear='Android;AWS;Google Cloud Platform;IBM Cloud or Watson;iOS;Linux;MacOS;Slack;Windows', WebFrameWorkedWith='Django;jQuery;React.js', WebFrameDesireNextYear='Django', MiscTechWorkedWith='Unity 3D;Unreal Engine', MiscTechDesireNextYear=nan, DevEnviron='Android Studio;Atom;Eclipse;NetBeans;Notepad++;Sublime Text', OpSys='Linux-based', Containers='Production', BlockchainOrg=nan, BlockchainIs='Useful for decentralized currency (i.e., Bitcoin)', BetterLife='Yes', ITperson='Also Yes', OffOn='Yes', SocialMedia='WhatsApp', Extraversion='In real life (in person)', ScreenName=nan, SOVisit1st='2012', SOVisitFreq='Daily or almost daily', SOVisitTo='Find answers to specific questions;Learn how to do things I didn’t necessarily look for;Get a sense of belonging to the developer community', SOFindAnswer='6-10 times per week', SOTimeSaved='Stack Overflow was much faster', SOHowMuchTime='11-30 minutes', SOAccount='Yes', SOPartFreq='A few times per month or weekly', SOJobs='Yes', EntTeams=\"No, I've heard of them, but I am not part of a private Q&A instance\", SOComm='Yes, somewhat', WelcomeChange='Somewhat less welcome now than last year', SONewContent=\"Tech articles written by other developers;Industry news about technologies you're interested in;Tech meetups or events in your area;Courses on technologies you're interested in\", Age='18', Gender='Man', Trans='No', Sexuality='Straight / Heterosexual', Ethnicity='Hispanic or Latino/Latina;White or of European descent', Dependents='No', SurveyLength='Appropriate in length', SurveyEase='Easy')"
      ]
     },
     "execution_count": 23,
     "metadata": {},
     "output_type": "execute_result"
    }
   ],
   "source": [
    "for row in df2019.itertuples():\n",
    "    x = row\n",
    "    counter += 1\n",
    "    if counter == 3:\n",
    "        break\n",
    "x"
   ]
  },
  {
   "cell_type": "code",
   "execution_count": 24,
   "id": "24dd3662",
   "metadata": {},
   "outputs": [
    {
     "data": {
      "text/plain": [
       "0                          HTML/CSS;Java;JavaScript;Python\n",
       "1                                      C++;HTML/CSS;Python\n",
       "2                                                 HTML/CSS\n",
       "3                                      C;C++;C#;Python;SQL\n",
       "4              C++;HTML/CSS;Java;JavaScript;Python;SQL;VBA\n",
       "                               ...                        \n",
       "88878                        HTML/CSS;JavaScript;Other(s):\n",
       "88879                                                  NaN\n",
       "88880                                                  NaN\n",
       "88881                                                  NaN\n",
       "88882    Bash/Shell/PowerShell;HTML/CSS;Java;JavaScript...\n",
       "Name: LanguageWorkedWith, Length: 88883, dtype: object"
      ]
     },
     "execution_count": 24,
     "metadata": {},
     "output_type": "execute_result"
    }
   ],
   "source": [
    "df2019['LanguageWorkedWith']"
   ]
  },
  {
   "cell_type": "code",
   "execution_count": 25,
   "id": "e0830d38",
   "metadata": {},
   "outputs": [
    {
     "data": {
      "text/plain": [
       "0                          HTML/CSS;Java;JavaScript;Python\n",
       "1                                      C++;HTML/CSS;Python\n",
       "2                                                 HTML/CSS\n",
       "3                                      C;C++;C#;Python;SQL\n",
       "4              C++;HTML/CSS;Java;JavaScript;Python;SQL;VBA\n",
       "                               ...                        \n",
       "88875                             HTML/CSS;Java;JavaScript\n",
       "88876                           HTML/CSS;JavaScript;Python\n",
       "88877    Bash/Shell/PowerShell;Go;HTML/CSS;JavaScript;W...\n",
       "88878                        HTML/CSS;JavaScript;Other(s):\n",
       "88882    Bash/Shell/PowerShell;HTML/CSS;Java;JavaScript...\n",
       "Name: LanguageWorkedWith, Length: 87569, dtype: object"
      ]
     },
     "execution_count": 25,
     "metadata": {},
     "output_type": "execute_result"
    }
   ],
   "source": [
    "df2019['LanguageWorkedWith'].dropna()"
   ]
  },
  {
   "cell_type": "code",
   "execution_count": 26,
   "id": "72fa74da",
   "metadata": {},
   "outputs": [
    {
     "data": {
      "text/plain": [
       "1314"
      ]
     },
     "execution_count": 26,
     "metadata": {},
     "output_type": "execute_result"
    }
   ],
   "source": [
    "df2019['LanguageWorkedWith'].isna().sum()"
   ]
  },
  {
   "cell_type": "code",
   "execution_count": 27,
   "id": "24ab910a",
   "metadata": {},
   "outputs": [
    {
     "data": {
      "text/plain": [
       "Index(['Respondent', 'Professional', 'ProgramHobby', 'Country', 'University',\n",
       "       'EmploymentStatus', 'FormalEducation', 'MajorUndergrad', 'HomeRemote',\n",
       "       'CompanySize',\n",
       "       ...\n",
       "       'StackOverflowMakeMoney', 'Gender', 'HighestEducationParents', 'Race',\n",
       "       'SurveyLong', 'QuestionsInteresting', 'QuestionsConfusing',\n",
       "       'InterestedAnswers', 'Salary', 'ExpectedSalary'],\n",
       "      dtype='object', length=154)"
      ]
     },
     "execution_count": 27,
     "metadata": {},
     "output_type": "execute_result"
    }
   ],
   "source": [
    "df2017.columns"
   ]
  },
  {
   "cell_type": "code",
   "execution_count": 28,
   "id": "09876905",
   "metadata": {},
   "outputs": [
    {
     "data": {
      "text/plain": [
       "0        Man\n",
       "1        Man\n",
       "2        Man\n",
       "3        Man\n",
       "4        Man\n",
       "        ... \n",
       "88878    Man\n",
       "88879    NaN\n",
       "88880    NaN\n",
       "88881    NaN\n",
       "88882    Man\n",
       "Name: Gender, Length: 88883, dtype: object"
      ]
     },
     "execution_count": 28,
     "metadata": {},
     "output_type": "execute_result"
    }
   ],
   "source": [
    "df2019.Gender"
   ]
  },
  {
   "cell_type": "code",
   "execution_count": 35,
   "id": "b6c35324",
   "metadata": {},
   "outputs": [
    {
     "data": {
      "text/plain": [
       "[('Male', 59458),\n",
       " ('nan', 34386),\n",
       " ('Female', 4025),\n",
       " ('Non-binary, genderqueer, or gender non-conforming', 284),\n",
       " ('Female;Transgender', 145),\n",
       " ('Male;Non-binary, genderqueer, or gender non-conforming', 128),\n",
       " ('Transgender', 105),\n",
       " ('Female;Male', 98),\n",
       " ('Transgender;Non-binary, genderqueer, or gender non-conforming', 51),\n",
       " ('Female;Male;Transgender;Non-binary, genderqueer, or gender non-conforming',\n",
       "  50),\n",
       " ('Female;Non-binary, genderqueer, or gender non-conforming', 50),\n",
       " ('Male;Transgender', 29),\n",
       " ('Female;Transgender;Non-binary, genderqueer, or gender non-conforming', 24),\n",
       " ('Female;Male;Transgender', 14),\n",
       " ('Male;Transgender;Non-binary, genderqueer, or gender non-conforming', 5),\n",
       " ('Female;Male;Non-binary, genderqueer, or gender non-conforming', 3)]"
      ]
     },
     "execution_count": 35,
     "metadata": {},
     "output_type": "execute_result"
    }
   ],
   "source": [
    "from collections import Counter\n",
    "\n",
    "genders = Counter()\n",
    "\n",
    "for g in df2018[\"Gender\"]:\n",
    "    genders.update([str(g)])\n",
    "\n",
    "genders.most_common()"
   ]
  },
  {
   "cell_type": "code",
   "execution_count": 36,
   "id": "abe66058",
   "metadata": {},
   "outputs": [
    {
     "data": {
      "text/plain": [
       "[('Man', 77919),\n",
       " ('Woman', 6344),\n",
       " ('nan', 3477),\n",
       " ('Non-binary, genderqueer, or gender non-conforming', 597),\n",
       " ('Man;Non-binary, genderqueer, or gender non-conforming', 181),\n",
       " ('Woman;Non-binary, genderqueer, or gender non-conforming', 163),\n",
       " ('Woman;Man', 132),\n",
       " ('Woman;Man;Non-binary, genderqueer, or gender non-conforming', 70)]"
      ]
     },
     "execution_count": 36,
     "metadata": {},
     "output_type": "execute_result"
    }
   ],
   "source": [
    "genders = Counter()\n",
    "\n",
    "for g in df2019[\"Gender\"]:\n",
    "    genders.update([str(g)])\n",
    "\n",
    "genders.most_common()"
   ]
  },
  {
   "cell_type": "code",
   "execution_count": 37,
   "id": "a80b4ddb",
   "metadata": {},
   "outputs": [
    {
     "data": {
      "text/plain": [
       "[('Man', 46013),\n",
       " ('nan', 13904),\n",
       " ('Woman', 3844),\n",
       " ('Non-binary, genderqueer, or gender non-conforming', 385),\n",
       " ('Man;Non-binary, genderqueer, or gender non-conforming', 121),\n",
       " ('Woman;Non-binary, genderqueer, or gender non-conforming', 92),\n",
       " ('Woman;Man', 76),\n",
       " ('Woman;Man;Non-binary, genderqueer, or gender non-conforming', 26)]"
      ]
     },
     "execution_count": 37,
     "metadata": {},
     "output_type": "execute_result"
    }
   ],
   "source": [
    "genders = Counter()\n",
    "\n",
    "for g in df2020[\"Gender\"]:\n",
    "    genders.update([str(g)])\n",
    "\n",
    "genders.most_common()"
   ]
  },
  {
   "cell_type": "code",
   "execution_count": 38,
   "id": "403e3fbc",
   "metadata": {},
   "outputs": [
    {
     "data": {
      "text/plain": [
       "[('Man', 74817),\n",
       " ('Woman', 4120),\n",
       " ('Prefer not to say', 1442),\n",
       " ('nan', 1153),\n",
       " ('Non-binary, genderqueer, or gender non-conforming', 690),\n",
       " ('Or, in your own words:', 413),\n",
       " ('Man;Or, in your own words:', 268),\n",
       " ('Man;Non-binary, genderqueer, or gender non-conforming', 252),\n",
       " ('Woman;Non-binary, genderqueer, or gender non-conforming', 147),\n",
       " ('Man;Woman', 41),\n",
       " ('Non-binary, genderqueer, or gender non-conforming;Or, in your own words:',\n",
       "  21),\n",
       " ('Man;Woman;Non-binary, genderqueer, or gender non-conforming', 21),\n",
       " ('Man;Woman;Non-binary, genderqueer, or gender non-conforming;Or, in your own words:',\n",
       "  17),\n",
       " ('Woman;Or, in your own words:', 16),\n",
       " ('Man;Non-binary, genderqueer, or gender non-conforming;Or, in your own words:',\n",
       "  11),\n",
       " ('Woman;Non-binary, genderqueer, or gender non-conforming;Or, in your own words:',\n",
       "  9),\n",
       " ('Man;Woman;Or, in your own words:', 1)]"
      ]
     },
     "execution_count": 38,
     "metadata": {},
     "output_type": "execute_result"
    }
   ],
   "source": [
    "genders = Counter()\n",
    "\n",
    "for g in df2021[\"Gender\"]:\n",
    "    genders.update([str(g)])\n",
    "\n",
    "genders.most_common()"
   ]
  },
  {
   "cell_type": "code",
   "execution_count": 39,
   "id": "c9053e5f",
   "metadata": {},
   "outputs": [
    {
     "data": {
      "text/plain": [
       "[('Man', 64607),\n",
       " ('Woman', 3399),\n",
       " ('nan', 2415),\n",
       " ('Prefer not to say', 1172),\n",
       " ('Non-binary, genderqueer, or gender non-conforming', 704),\n",
       " ('Or, in your own words:', 279),\n",
       " ('Man;Non-binary, genderqueer, or gender non-conforming', 235),\n",
       " ('Man;Or, in your own words:', 171),\n",
       " ('Woman;Non-binary, genderqueer, or gender non-conforming', 160),\n",
       " ('Man;Woman;Non-binary, genderqueer, or gender non-conforming', 31),\n",
       " ('Man;Woman', 24),\n",
       " ('Man;Or, in your own words:;Woman;Non-binary, genderqueer, or gender non-conforming',\n",
       "  18),\n",
       " ('Or, in your own words:;Woman;Non-binary, genderqueer, or gender non-conforming',\n",
       "  15),\n",
       " ('Or, in your own words:;Non-binary, genderqueer, or gender non-conforming',\n",
       "  14),\n",
       " ('Or, in your own words:;Woman', 13),\n",
       " ('Man;Or, in your own words:;Non-binary, genderqueer, or gender non-conforming',\n",
       "  9),\n",
       " ('Man;Or, in your own words:;Woman', 2)]"
      ]
     },
     "execution_count": 39,
     "metadata": {},
     "output_type": "execute_result"
    }
   ],
   "source": [
    "genders = Counter()\n",
    "\n",
    "for g in df2022[\"Gender\"]:\n",
    "    genders.update([str(g)])\n",
    "\n",
    "genders.most_common()"
   ]
  },
  {
   "cell_type": "code",
   "execution_count": 41,
   "id": "e11dda5b",
   "metadata": {},
   "outputs": [
    {
     "name": "stdout",
     "output_type": "stream",
     "text": [
      "ResponseId : 4\n",
      "MainBranch : I am a developer by profession\n",
      "Employment : Employed, full-time\n",
      "RemoteWork : Fully remote\n",
      "CodingActivities : I don’t code outside of work\n",
      "EdLevel : Bachelor’s degree (B.A., B.S., B.Eng., etc.)\n",
      "LearnCode : Books / Physical media;School (i.e., University, College, etc)\n",
      "LearnCodeOnline : nan\n",
      "LearnCodeCoursesCert : nan\n",
      "YearsCode : 20\n",
      "YearsCodePro : 17\n",
      "DevType : Developer, full-stack\n",
      "OrgSize : 100 to 499 employees\n",
      "PurchaseInfluence : I have some influence\n",
      "BuyNewTool : Other (please specify):\n",
      "Country : Israel\n",
      "Currency : ILS\tIsraeli new shekel\n",
      "CompTotal : 60000\n",
      "CompFreq : Monthly\n",
      "LanguageHaveWorkedWith : C#;JavaScript;SQL;TypeScript\n",
      "LanguageWantToWorkWith : C#;SQL;TypeScript\n",
      "DatabaseHaveWorkedWith : Microsoft SQL Server\n",
      "DatabaseWantToWorkWith : Microsoft SQL Server\n",
      "PlatformHaveWorkedWith : nan\n",
      "PlatformWantToWorkWith : nan\n",
      "WebframeHaveWorkedWith : ASP.NET;ASP.NET Core \n",
      "WebframeWantToWorkWith : ASP.NET;ASP.NET Core \n",
      "MiscTechHaveWorkedWith : .NET\n",
      "MiscTechWantToWorkWith : .NET\n",
      "ToolsTechHaveWorkedWith : nan\n",
      "ToolsTechWantToWorkWith : nan\n",
      "NEWCollabToolsHaveWorkedWith : Notepad++;Visual Studio;Visual Studio Code\n",
      "NEWCollabToolsWantToWorkWith : Notepad++;Visual Studio;Visual Studio Code\n",
      "OpSysProfessional use : Windows\n",
      "OpSysPersonal use : Windows\n",
      "VersionControlSystem : Git\n",
      "VCInteraction : Code editor;Command-line;Version control hosting service web GUI;Dedicated version control GUI application\n",
      "VCHostingPersonal use : nan\n",
      "VCHostingProfessional use : nan\n",
      "OfficeStackAsyncHaveWorkedWith : Jira Work Management;Trello\n",
      "OfficeStackAsyncWantToWorkWith : Jira Work Management;Trello\n",
      "OfficeStackSyncHaveWorkedWith : Slack;Zoom\n",
      "OfficeStackSyncWantToWorkWith : Slack;Zoom\n",
      "Blockchain : Very unfavorable\n",
      "NEWSOSites : Collectives on Stack Overflow;Stack Overflow for Teams (private knowledge sharing & collaboration platform for companies);Stack Overflow;Stack Exchange\n",
      "SOVisitFreq : Daily or almost daily\n",
      "SOAccount : Yes\n",
      "SOPartFreq : A few times per week\n",
      "SOComm : Yes, definitely\n",
      "Age : 35-44 years old\n",
      "Gender : Man\n",
      "Trans : No\n",
      "Sexuality : Straight / Heterosexual\n",
      "Ethnicity : White\n",
      "Accessibility : None of the above\n",
      "MentalHealth : None of the above\n",
      "TBranch : No\n",
      "ICorPM : nan\n",
      "WorkExp : nan\n",
      "Knowledge_1 : nan\n",
      "Knowledge_2 : nan\n",
      "Knowledge_3 : nan\n",
      "Knowledge_4 : nan\n",
      "Knowledge_5 : nan\n",
      "Knowledge_6 : nan\n",
      "Knowledge_7 : nan\n",
      "Frequency_1 : nan\n",
      "Frequency_2 : nan\n",
      "Frequency_3 : nan\n",
      "TimeSearching : nan\n",
      "TimeAnswering : nan\n",
      "Onboarding : nan\n",
      "ProfessionalTech : nan\n",
      "TrueFalse_1 : nan\n",
      "TrueFalse_2 : nan\n",
      "TrueFalse_3 : nan\n",
      "SurveyLength : Appropriate in length\n",
      "SurveyEase : Easy\n",
      "ConvertedCompYearly : 215232\n"
     ]
    }
   ],
   "source": [
    "for col in df2022.columns:\n",
    "    print(col, \":\", df2022[col][3])"
   ]
  },
  {
   "cell_type": "code",
   "execution_count": null,
   "id": "a6f49126",
   "metadata": {},
   "outputs": [],
   "source": []
  }
 ],
 "metadata": {
  "kernelspec": {
   "display_name": "Python 3 (ipykernel)",
   "language": "python",
   "name": "python3"
  },
  "language_info": {
   "codemirror_mode": {
    "name": "ipython",
    "version": 3
   },
   "file_extension": ".py",
   "mimetype": "text/x-python",
   "name": "python",
   "nbconvert_exporter": "python",
   "pygments_lexer": "ipython3",
   "version": "3.9.12"
  }
 },
 "nbformat": 4,
 "nbformat_minor": 5
}
